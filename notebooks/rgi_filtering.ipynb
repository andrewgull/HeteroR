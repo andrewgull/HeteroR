{
 "cells": [
  {
   "cell_type": "markdown",
   "metadata": {
    "collapsed": true,
    "pycharm": {
     "name": "#%% md\n"
    }
   },
   "source": []
  },
  {
   "cell_type": "code",
   "source": [
    "from Bio import SeqIO\n",
    "import pandas as pd\n",
    "from BCBio import GFF\n"
   ],
   "metadata": {
    "collapsed": false,
    "pycharm": {
     "name": "#%%\n"
    }
   },
   "execution_count": 1,
   "outputs": []
  },
  {
   "cell_type": "code",
   "execution_count": 3,
   "outputs": [
    {
     "name": "stdout",
     "output_type": "stream",
     "text": [
      "/home/andrei/Data/HeteroR/test_dir/GRF\n"
     ]
    }
   ],
   "source": [
    "%cd \"/home/andrei/Data/HeteroR/test_dir/GRF\"\n",
    "rgi = pd.read_csv(\"DA62886_rgi_table.tsv\", sep=\"\\t\")"
   ],
   "metadata": {
    "collapsed": false,
    "pycharm": {
     "name": "#%%\n"
    }
   }
  },
  {
   "cell_type": "code",
   "source": [
    "rgi.columns"
   ],
   "metadata": {
    "collapsed": false,
    "pycharm": {
     "name": "#%%\n"
    }
   },
   "execution_count": 5,
   "outputs": [
    {
     "data": {
      "text/plain": "Index(['ORF_ID', 'Contig', 'Start', 'Stop', 'Orientation', 'Cut_Off',\n       'Pass_Bitscore', 'Best_Hit_Bitscore', 'Best_Hit_ARO', 'Best_Identities',\n       'ARO', 'Model_type', 'SNPs_in_Best_Hit_ARO', 'Other_SNPs', 'Drug Class',\n       'Resistance Mechanism', 'AMR Gene Family', 'Predicted_DNA',\n       'Predicted_Protein', 'CARD_Protein_Sequence',\n       'Percentage Length of Reference Sequence', 'ID', 'Model_ID', 'Nudged',\n       'Note'],\n      dtype='object')"
     },
     "execution_count": 5,
     "metadata": {},
     "output_type": "execute_result"
    }
   ]
  },
  {
   "cell_type": "code",
   "execution_count": 6,
   "outputs": [
    {
     "data": {
      "text/plain": "array(['Loose', 'Strict', 'Perfect'], dtype=object)"
     },
     "execution_count": 6,
     "metadata": {},
     "output_type": "execute_result"
    }
   ],
   "source": [
    "rgi[\"Cut_Off\"].unique()"
   ],
   "metadata": {
    "collapsed": false,
    "pycharm": {
     "name": "#%%\n"
    }
   }
  },
  {
   "cell_type": "code",
   "execution_count": 15,
   "outputs": [
    {
     "data": {
      "text/plain": "                                                 ORF_ID  Contig  Start  Stop  \\\n93            HOKEGFAO_00108 Multidrug transporter EmrE     NaN    NaN   NaN   \n301          HOKEGFAO_00337 UDP-glucose 6-dehydrogenase     NaN    NaN   NaN   \n347    HOKEGFAO_00388 Multidrug resistance protein MdtA     NaN    NaN   NaN   \n348    HOKEGFAO_00389 Multidrug resistance protein MdtB     NaN    NaN   NaN   \n349    HOKEGFAO_00390 Multidrug resistance protein MdtC     NaN    NaN   NaN   \n...                                                 ...     ...    ...   ...   \n4424            HOKEGFAO_04953 Dihydropteroate synthase     NaN    NaN   NaN   \n4425                HOKEGFAO_04954 hypothetical protein     NaN    NaN   NaN   \n4426      HOKEGFAO_04955 Dihydrofolate reductase type 1     NaN    NaN   NaN   \n4427  HOKEGFAO_04956 Aminoglycoside 3'-phosphotransf...     NaN    NaN   NaN   \n4428                HOKEGFAO_04957 hypothetical protein     NaN    NaN   NaN   \n\n      Orientation  Cut_Off  Pass_Bitscore  Best_Hit_Bitscore  \\\n93            NaN   Strict            190            216.083   \n301           NaN   Strict            700            759.599   \n347           NaN   Strict            725            826.239   \n348           NaN   Strict           1800           2076.600   \n349           NaN   Strict           1800           2061.960   \n...           ...      ...            ...                ...   \n4424          NaN  Perfect            500            528.865   \n4425          NaN   Strict            500            355.140   \n4426          NaN   Strict            300            327.791   \n4427          NaN   Strict            500            166.007   \n4428          NaN   Strict            500            568.155   \n\n               Best_Hit_ARO  Best_Identities      ARO             Model_type  \\\n93    Escherichia coli emrE            98.18  3004039  protein homolog model   \n301                     ugd            94.59  3003577  protein homolog model   \n347                    mdtA            98.80  3000792  protein homolog model   \n348                    mdtB            99.71  3000793  protein homolog model   \n349                    mdtC            99.51  3000794  protein homolog model   \n...                     ...              ...      ...                    ...   \n4424                   sul2           100.00  3000412  protein homolog model   \n4425            APH(3'')-Ib            99.43  3002639  protein homolog model   \n4426                 dfrA14            98.73  3002859  protein homolog model   \n4427            APH(3'')-Ib           100.00  3002639  protein homolog model   \n4428              APH(6)-Id            99.64  3002660  protein homolog model   \n\n     SNPs_in_Best_Hit_ARO Other_SNPs                    Drug Class  \\\n93                    NaN        NaN          macrolide antibiotic   \n301                   NaN        NaN            peptide antibiotic   \n347                   NaN        NaN      aminocoumarin antibiotic   \n348                   NaN        NaN      aminocoumarin antibiotic   \n349                   NaN        NaN      aminocoumarin antibiotic   \n...                   ...        ...                           ...   \n4424                  NaN        NaN        sulfonamide antibiotic   \n4425                  NaN        NaN     aminoglycoside antibiotic   \n4426                  NaN        NaN  diaminopyrimidine antibiotic   \n4427                  NaN        NaN     aminoglycoside antibiotic   \n4428                  NaN        NaN     aminoglycoside antibiotic   \n\n               Resistance Mechanism  \\\n93                antibiotic efflux   \n301    antibiotic target alteration   \n347               antibiotic efflux   \n348               antibiotic efflux   \n349               antibiotic efflux   \n...                             ...   \n4424  antibiotic target replacement   \n4425        antibiotic inactivation   \n4426  antibiotic target replacement   \n4427        antibiotic inactivation   \n4428        antibiotic inactivation   \n\n                                        AMR Gene Family  Predicted_DNA  \\\n93    small multidrug resistance (SMR) antibiotic ef...            NaN   \n301                 pmr phosphoethanolamine transferase            NaN   \n347   resistance-nodulation-cell division (RND) anti...            NaN   \n348   resistance-nodulation-cell division (RND) anti...            NaN   \n349   resistance-nodulation-cell division (RND) anti...            NaN   \n...                                                 ...            ...   \n4424                          sulfonamide resistant sul            NaN   \n4425                                           APH(3'')            NaN   \n4426  trimethoprim resistant dihydrofolate reductase...            NaN   \n4427                                           APH(3'')            NaN   \n4428                                             APH(6)            NaN   \n\n                                      Predicted_Protein  \\\n93    MNPYIYLGGAILAEVIGTTLMKFSEGFTRLWPSVGTIICYCASFWL...   \n301   MKITISGTGYVGLSNGLLISQNHNVVALDILPSRVAMLNDRISPIV...   \n347   MKGSYKSRWVIVIVVVIAAIAAFWFWQGRNDSQSAAPGATKQAQQS...   \n348   MQVLPPSSTGGPSRLFIMRPVATTLLMVAILLAGIIGYRALPVSAL...   \n349   MKFFALFIYRPVATILLSVAITLCGILGFRMLPVAPLPQVDFPVIM...   \n...                                                 ...   \n4424  MNKSLIIFGIVNITSDSFSDGGRYLAPDAAIAQARKLMAEGADVID...   \n4425  MNRTNIFFGESHSDWLPVRGGESGDFVFRRGDGHAFAKIAPASRRG...   \n4426  MRTLKVSLIAAKAKNGVIGCGPDIPWSAKGEQLLFKALTYNQWLLV...   \n4427  MPNFMVDPKTLQCTGLIDLGRLGTADRYADLALMIANAEENWAAPD...   \n4428  MFMPPVFPAHWHVSQPVLIADTFSSLVWKVSLPDGTPAIVKGLKPI...   \n\n                                  CARD_Protein_Sequence  \\\n93    MNPYIYLGGAILAEVIGTTLMKFSEGFTRLWPSVGTIICYCASFWL...   \n301   MKITISGTGYVGLSNGLLIAQNHEVVALDILPSRVAMLNDRISPIV...   \n347   MKGSYKSRWVIVIVVVIAAIAAFWFWQGRNDSRSAAPGATKQAQQS...   \n348   MQVLPPSSTGGPSRLFIMRPVATTLLMVAILLAGIIGYRALPVSAL...   \n349   MKFFALFIYRPVATILLSVAITLCGILGFRMLPVAPLPQVDFPVII...   \n...                                                 ...   \n4424  MNKSLIIFGIVNITSDSFSDGGRYLAPDAAIAQARKLMAEGADVID...   \n4425  MNRTNIFFGESHSDWLPVRGGESGDFVFRRGDGHAFAKIAPASRRG...   \n4426  MKVSLMAAKAKNGVIGCGPDIPWSAKGEQLLFKALTYNQWLLVGRK...   \n4427  MNRTNIFFGESHSDWLPVRGGESGDFVFRRGDGHAFAKIAPASRRG...   \n4428  MFMPPVFPAHWHVSQPVLIADTFSSLVWKVSLPDGTPAIVKGLKPI...   \n\n      Percentage Length of Reference Sequence                            ID  \\\n93                                     100.00  gnl|BL_ORD_ID|2380|hsp_num:0   \n301                                    100.00   gnl|BL_ORD_ID|916|hsp_num:0   \n347                                    100.00   gnl|BL_ORD_ID|360|hsp_num:0   \n348                                    100.00   gnl|BL_ORD_ID|776|hsp_num:0   \n349                                    100.00  gnl|BL_ORD_ID|1241|hsp_num:0   \n...                                       ...                           ...   \n4424                                   100.00   gnl|BL_ORD_ID|894|hsp_num:0   \n4425                                    67.42  gnl|BL_ORD_ID|1729|hsp_num:0   \n4426                                   101.91  gnl|BL_ORD_ID|1496|hsp_num:0   \n4427                                    30.34  gnl|BL_ORD_ID|1729|hsp_num:0   \n4428                                   100.00   gnl|BL_ORD_ID|973|hsp_num:0   \n\n      Model_ID Nudged                                               Note  \n93        2656    NaN                                                NaN  \n301        842    NaN                                                NaN  \n347        387    NaN                                                NaN  \n348        820    NaN                                                NaN  \n349       1315    NaN                                                NaN  \n...        ...    ...                                                ...  \n4424       952    NaN                                                NaN  \n4425      1830   True  loose hit with at least 95 percent identity pu...  \n4426      1592    NaN                                                NaN  \n4427      1830   True  loose hit with at least 95 percent identity pu...  \n4428      1031    NaN                                                NaN  \n\n[61 rows x 25 columns]",
      "text/html": "<div>\n<style scoped>\n    .dataframe tbody tr th:only-of-type {\n        vertical-align: middle;\n    }\n\n    .dataframe tbody tr th {\n        vertical-align: top;\n    }\n\n    .dataframe thead th {\n        text-align: right;\n    }\n</style>\n<table border=\"1\" class=\"dataframe\">\n  <thead>\n    <tr style=\"text-align: right;\">\n      <th></th>\n      <th>ORF_ID</th>\n      <th>Contig</th>\n      <th>Start</th>\n      <th>Stop</th>\n      <th>Orientation</th>\n      <th>Cut_Off</th>\n      <th>Pass_Bitscore</th>\n      <th>Best_Hit_Bitscore</th>\n      <th>Best_Hit_ARO</th>\n      <th>Best_Identities</th>\n      <th>ARO</th>\n      <th>Model_type</th>\n      <th>SNPs_in_Best_Hit_ARO</th>\n      <th>Other_SNPs</th>\n      <th>Drug Class</th>\n      <th>Resistance Mechanism</th>\n      <th>AMR Gene Family</th>\n      <th>Predicted_DNA</th>\n      <th>Predicted_Protein</th>\n      <th>CARD_Protein_Sequence</th>\n      <th>Percentage Length of Reference Sequence</th>\n      <th>ID</th>\n      <th>Model_ID</th>\n      <th>Nudged</th>\n      <th>Note</th>\n    </tr>\n  </thead>\n  <tbody>\n    <tr>\n      <th>93</th>\n      <td>HOKEGFAO_00108 Multidrug transporter EmrE</td>\n      <td>NaN</td>\n      <td>NaN</td>\n      <td>NaN</td>\n      <td>NaN</td>\n      <td>Strict</td>\n      <td>190</td>\n      <td>216.083</td>\n      <td>Escherichia coli emrE</td>\n      <td>98.18</td>\n      <td>3004039</td>\n      <td>protein homolog model</td>\n      <td>NaN</td>\n      <td>NaN</td>\n      <td>macrolide antibiotic</td>\n      <td>antibiotic efflux</td>\n      <td>small multidrug resistance (SMR) antibiotic ef...</td>\n      <td>NaN</td>\n      <td>MNPYIYLGGAILAEVIGTTLMKFSEGFTRLWPSVGTIICYCASFWL...</td>\n      <td>MNPYIYLGGAILAEVIGTTLMKFSEGFTRLWPSVGTIICYCASFWL...</td>\n      <td>100.00</td>\n      <td>gnl|BL_ORD_ID|2380|hsp_num:0</td>\n      <td>2656</td>\n      <td>NaN</td>\n      <td>NaN</td>\n    </tr>\n    <tr>\n      <th>301</th>\n      <td>HOKEGFAO_00337 UDP-glucose 6-dehydrogenase</td>\n      <td>NaN</td>\n      <td>NaN</td>\n      <td>NaN</td>\n      <td>NaN</td>\n      <td>Strict</td>\n      <td>700</td>\n      <td>759.599</td>\n      <td>ugd</td>\n      <td>94.59</td>\n      <td>3003577</td>\n      <td>protein homolog model</td>\n      <td>NaN</td>\n      <td>NaN</td>\n      <td>peptide antibiotic</td>\n      <td>antibiotic target alteration</td>\n      <td>pmr phosphoethanolamine transferase</td>\n      <td>NaN</td>\n      <td>MKITISGTGYVGLSNGLLISQNHNVVALDILPSRVAMLNDRISPIV...</td>\n      <td>MKITISGTGYVGLSNGLLIAQNHEVVALDILPSRVAMLNDRISPIV...</td>\n      <td>100.00</td>\n      <td>gnl|BL_ORD_ID|916|hsp_num:0</td>\n      <td>842</td>\n      <td>NaN</td>\n      <td>NaN</td>\n    </tr>\n    <tr>\n      <th>347</th>\n      <td>HOKEGFAO_00388 Multidrug resistance protein MdtA</td>\n      <td>NaN</td>\n      <td>NaN</td>\n      <td>NaN</td>\n      <td>NaN</td>\n      <td>Strict</td>\n      <td>725</td>\n      <td>826.239</td>\n      <td>mdtA</td>\n      <td>98.80</td>\n      <td>3000792</td>\n      <td>protein homolog model</td>\n      <td>NaN</td>\n      <td>NaN</td>\n      <td>aminocoumarin antibiotic</td>\n      <td>antibiotic efflux</td>\n      <td>resistance-nodulation-cell division (RND) anti...</td>\n      <td>NaN</td>\n      <td>MKGSYKSRWVIVIVVVIAAIAAFWFWQGRNDSQSAAPGATKQAQQS...</td>\n      <td>MKGSYKSRWVIVIVVVIAAIAAFWFWQGRNDSRSAAPGATKQAQQS...</td>\n      <td>100.00</td>\n      <td>gnl|BL_ORD_ID|360|hsp_num:0</td>\n      <td>387</td>\n      <td>NaN</td>\n      <td>NaN</td>\n    </tr>\n    <tr>\n      <th>348</th>\n      <td>HOKEGFAO_00389 Multidrug resistance protein MdtB</td>\n      <td>NaN</td>\n      <td>NaN</td>\n      <td>NaN</td>\n      <td>NaN</td>\n      <td>Strict</td>\n      <td>1800</td>\n      <td>2076.600</td>\n      <td>mdtB</td>\n      <td>99.71</td>\n      <td>3000793</td>\n      <td>protein homolog model</td>\n      <td>NaN</td>\n      <td>NaN</td>\n      <td>aminocoumarin antibiotic</td>\n      <td>antibiotic efflux</td>\n      <td>resistance-nodulation-cell division (RND) anti...</td>\n      <td>NaN</td>\n      <td>MQVLPPSSTGGPSRLFIMRPVATTLLMVAILLAGIIGYRALPVSAL...</td>\n      <td>MQVLPPSSTGGPSRLFIMRPVATTLLMVAILLAGIIGYRALPVSAL...</td>\n      <td>100.00</td>\n      <td>gnl|BL_ORD_ID|776|hsp_num:0</td>\n      <td>820</td>\n      <td>NaN</td>\n      <td>NaN</td>\n    </tr>\n    <tr>\n      <th>349</th>\n      <td>HOKEGFAO_00390 Multidrug resistance protein MdtC</td>\n      <td>NaN</td>\n      <td>NaN</td>\n      <td>NaN</td>\n      <td>NaN</td>\n      <td>Strict</td>\n      <td>1800</td>\n      <td>2061.960</td>\n      <td>mdtC</td>\n      <td>99.51</td>\n      <td>3000794</td>\n      <td>protein homolog model</td>\n      <td>NaN</td>\n      <td>NaN</td>\n      <td>aminocoumarin antibiotic</td>\n      <td>antibiotic efflux</td>\n      <td>resistance-nodulation-cell division (RND) anti...</td>\n      <td>NaN</td>\n      <td>MKFFALFIYRPVATILLSVAITLCGILGFRMLPVAPLPQVDFPVIM...</td>\n      <td>MKFFALFIYRPVATILLSVAITLCGILGFRMLPVAPLPQVDFPVII...</td>\n      <td>100.00</td>\n      <td>gnl|BL_ORD_ID|1241|hsp_num:0</td>\n      <td>1315</td>\n      <td>NaN</td>\n      <td>NaN</td>\n    </tr>\n    <tr>\n      <th>...</th>\n      <td>...</td>\n      <td>...</td>\n      <td>...</td>\n      <td>...</td>\n      <td>...</td>\n      <td>...</td>\n      <td>...</td>\n      <td>...</td>\n      <td>...</td>\n      <td>...</td>\n      <td>...</td>\n      <td>...</td>\n      <td>...</td>\n      <td>...</td>\n      <td>...</td>\n      <td>...</td>\n      <td>...</td>\n      <td>...</td>\n      <td>...</td>\n      <td>...</td>\n      <td>...</td>\n      <td>...</td>\n      <td>...</td>\n      <td>...</td>\n      <td>...</td>\n    </tr>\n    <tr>\n      <th>4424</th>\n      <td>HOKEGFAO_04953 Dihydropteroate synthase</td>\n      <td>NaN</td>\n      <td>NaN</td>\n      <td>NaN</td>\n      <td>NaN</td>\n      <td>Perfect</td>\n      <td>500</td>\n      <td>528.865</td>\n      <td>sul2</td>\n      <td>100.00</td>\n      <td>3000412</td>\n      <td>protein homolog model</td>\n      <td>NaN</td>\n      <td>NaN</td>\n      <td>sulfonamide antibiotic</td>\n      <td>antibiotic target replacement</td>\n      <td>sulfonamide resistant sul</td>\n      <td>NaN</td>\n      <td>MNKSLIIFGIVNITSDSFSDGGRYLAPDAAIAQARKLMAEGADVID...</td>\n      <td>MNKSLIIFGIVNITSDSFSDGGRYLAPDAAIAQARKLMAEGADVID...</td>\n      <td>100.00</td>\n      <td>gnl|BL_ORD_ID|894|hsp_num:0</td>\n      <td>952</td>\n      <td>NaN</td>\n      <td>NaN</td>\n    </tr>\n    <tr>\n      <th>4425</th>\n      <td>HOKEGFAO_04954 hypothetical protein</td>\n      <td>NaN</td>\n      <td>NaN</td>\n      <td>NaN</td>\n      <td>NaN</td>\n      <td>Strict</td>\n      <td>500</td>\n      <td>355.140</td>\n      <td>APH(3'')-Ib</td>\n      <td>99.43</td>\n      <td>3002639</td>\n      <td>protein homolog model</td>\n      <td>NaN</td>\n      <td>NaN</td>\n      <td>aminoglycoside antibiotic</td>\n      <td>antibiotic inactivation</td>\n      <td>APH(3'')</td>\n      <td>NaN</td>\n      <td>MNRTNIFFGESHSDWLPVRGGESGDFVFRRGDGHAFAKIAPASRRG...</td>\n      <td>MNRTNIFFGESHSDWLPVRGGESGDFVFRRGDGHAFAKIAPASRRG...</td>\n      <td>67.42</td>\n      <td>gnl|BL_ORD_ID|1729|hsp_num:0</td>\n      <td>1830</td>\n      <td>True</td>\n      <td>loose hit with at least 95 percent identity pu...</td>\n    </tr>\n    <tr>\n      <th>4426</th>\n      <td>HOKEGFAO_04955 Dihydrofolate reductase type 1</td>\n      <td>NaN</td>\n      <td>NaN</td>\n      <td>NaN</td>\n      <td>NaN</td>\n      <td>Strict</td>\n      <td>300</td>\n      <td>327.791</td>\n      <td>dfrA14</td>\n      <td>98.73</td>\n      <td>3002859</td>\n      <td>protein homolog model</td>\n      <td>NaN</td>\n      <td>NaN</td>\n      <td>diaminopyrimidine antibiotic</td>\n      <td>antibiotic target replacement</td>\n      <td>trimethoprim resistant dihydrofolate reductase...</td>\n      <td>NaN</td>\n      <td>MRTLKVSLIAAKAKNGVIGCGPDIPWSAKGEQLLFKALTYNQWLLV...</td>\n      <td>MKVSLMAAKAKNGVIGCGPDIPWSAKGEQLLFKALTYNQWLLVGRK...</td>\n      <td>101.91</td>\n      <td>gnl|BL_ORD_ID|1496|hsp_num:0</td>\n      <td>1592</td>\n      <td>NaN</td>\n      <td>NaN</td>\n    </tr>\n    <tr>\n      <th>4427</th>\n      <td>HOKEGFAO_04956 Aminoglycoside 3'-phosphotransf...</td>\n      <td>NaN</td>\n      <td>NaN</td>\n      <td>NaN</td>\n      <td>NaN</td>\n      <td>Strict</td>\n      <td>500</td>\n      <td>166.007</td>\n      <td>APH(3'')-Ib</td>\n      <td>100.00</td>\n      <td>3002639</td>\n      <td>protein homolog model</td>\n      <td>NaN</td>\n      <td>NaN</td>\n      <td>aminoglycoside antibiotic</td>\n      <td>antibiotic inactivation</td>\n      <td>APH(3'')</td>\n      <td>NaN</td>\n      <td>MPNFMVDPKTLQCTGLIDLGRLGTADRYADLALMIANAEENWAAPD...</td>\n      <td>MNRTNIFFGESHSDWLPVRGGESGDFVFRRGDGHAFAKIAPASRRG...</td>\n      <td>30.34</td>\n      <td>gnl|BL_ORD_ID|1729|hsp_num:0</td>\n      <td>1830</td>\n      <td>True</td>\n      <td>loose hit with at least 95 percent identity pu...</td>\n    </tr>\n    <tr>\n      <th>4428</th>\n      <td>HOKEGFAO_04957 hypothetical protein</td>\n      <td>NaN</td>\n      <td>NaN</td>\n      <td>NaN</td>\n      <td>NaN</td>\n      <td>Strict</td>\n      <td>500</td>\n      <td>568.155</td>\n      <td>APH(6)-Id</td>\n      <td>99.64</td>\n      <td>3002660</td>\n      <td>protein homolog model</td>\n      <td>NaN</td>\n      <td>NaN</td>\n      <td>aminoglycoside antibiotic</td>\n      <td>antibiotic inactivation</td>\n      <td>APH(6)</td>\n      <td>NaN</td>\n      <td>MFMPPVFPAHWHVSQPVLIADTFSSLVWKVSLPDGTPAIVKGLKPI...</td>\n      <td>MFMPPVFPAHWHVSQPVLIADTFSSLVWKVSLPDGTPAIVKGLKPI...</td>\n      <td>100.00</td>\n      <td>gnl|BL_ORD_ID|973|hsp_num:0</td>\n      <td>1031</td>\n      <td>NaN</td>\n      <td>NaN</td>\n    </tr>\n  </tbody>\n</table>\n<p>61 rows × 25 columns</p>\n</div>"
     },
     "execution_count": 15,
     "metadata": {},
     "output_type": "execute_result"
    }
   ],
   "source": [
    "pd.set_option('display.max_columns', None)\n",
    "rgi_notLoose = rgi[rgi[\"Cut_Off\"] != \"Loose\"]\n",
    "rgi_notLoose"
   ],
   "metadata": {
    "collapsed": false,
    "pycharm": {
     "name": "#%%\n"
    }
   }
  },
  {
   "cell_type": "code",
   "execution_count": 16,
   "outputs": [],
   "source": [
    "in_file = \"DA62886_genomic.gff\"\n",
    "\n",
    "with open(in_file) as f:\n",
    "    gff = [rec for rec in GFF.parse(f)]\n",
    "\n",
    "chromosome_genes = [feature for feature in gff[0].features if feature.type == \"gene\"]  # here we have IDs and positions\n",
    "\n",
    "# filter the genes with resistance - both in RGI and GBK\n",
    "# naive looping approach\n",
    "resistance_genes_coords = list()\n",
    "for orf in rgi_notLoose[\"ORF_ID\"]:\n",
    "    for gene in chromosome_genes:\n",
    "        if orf.split(\" \")[0] in gene.id:\n",
    "            resistance_genes_coords.append(gene)\n"
   ],
   "metadata": {
    "collapsed": false,
    "pycharm": {
     "name": "#%%\n"
    }
   }
  },
  {
   "cell_type": "code",
   "execution_count": 20,
   "outputs": [],
   "source": [
    "# less naive approach\n",
    "# make sets\n",
    "\n",
    "rgi_set = set([item.split(\" \")[0] for item in rgi_notLoose[\"ORF_ID\"]])\n",
    "\n",
    "chrom_genes_set = set([item.id[:-5] for item in chromosome_genes])"
   ],
   "metadata": {
    "collapsed": false,
    "pycharm": {
     "name": "#%%\n"
    }
   }
  },
  {
   "cell_type": "code",
   "execution_count": 24,
   "outputs": [
    {
     "data": {
      "text/plain": "61"
     },
     "execution_count": 24,
     "metadata": {},
     "output_type": "execute_result"
    }
   ],
   "source": [
    "len(rgi_set)"
   ],
   "metadata": {
    "collapsed": false,
    "pycharm": {
     "name": "#%%\n"
    }
   }
  },
  {
   "cell_type": "code",
   "execution_count": 25,
   "outputs": [
    {
     "data": {
      "text/plain": "4947"
     },
     "execution_count": 25,
     "metadata": {},
     "output_type": "execute_result"
    }
   ],
   "source": [
    "len(chrom_genes_set)"
   ],
   "metadata": {
    "collapsed": false,
    "pycharm": {
     "name": "#%%\n"
    }
   }
  },
  {
   "cell_type": "code",
   "execution_count": 27,
   "outputs": [
    {
     "data": {
      "text/plain": "55"
     },
     "execution_count": 27,
     "metadata": {},
     "output_type": "execute_result"
    }
   ],
   "source": [
    "len(chrom_genes_set.intersection(rgi_set))"
   ],
   "metadata": {
    "collapsed": false,
    "pycharm": {
     "name": "#%%\n"
    }
   }
  },
  {
   "cell_type": "markdown",
   "source": [
    "Annotation file lacks some RG? (6)"
   ],
   "metadata": {
    "collapsed": false
   }
  },
  {
   "cell_type": "code",
   "execution_count": 29,
   "outputs": [
    {
     "data": {
      "text/plain": "{'HOKEGFAO_04949',\n 'HOKEGFAO_04953',\n 'HOKEGFAO_04954',\n 'HOKEGFAO_04955',\n 'HOKEGFAO_04956',\n 'HOKEGFAO_04957'}"
     },
     "execution_count": 29,
     "metadata": {},
     "output_type": "execute_result"
    }
   ],
   "source": [
    "rg_found = chrom_genes_set.intersection(rgi_set)\n",
    "rg_notFound = rgi_set.difference(rg_found)\n",
    "rg_notFound\n"
   ],
   "metadata": {
    "collapsed": false,
    "pycharm": {
     "name": "#%%\n"
    }
   }
  }
 ],
 "metadata": {
  "kernelspec": {
   "display_name": "Python 3",
   "language": "python",
   "name": "python3"
  },
  "language_info": {
   "codemirror_mode": {
    "name": "ipython",
    "version": 2
   },
   "file_extension": ".py",
   "mimetype": "text/x-python",
   "name": "python",
   "nbconvert_exporter": "python",
   "pygments_lexer": "ipython2",
   "version": "2.7.6"
  }
 },
 "nbformat": 4,
 "nbformat_minor": 0
}