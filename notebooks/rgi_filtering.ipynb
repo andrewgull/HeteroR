{
 "cells": [
  {
   "cell_type": "markdown",
   "metadata": {
    "collapsed": true,
    "pycharm": {
     "name": "#%% md\n"
    }
   },
   "source": []
  },
  {
   "cell_type": "code",
   "source": [
    "from Bio import SeqIO\n",
    "import pandas as pd\n",
    "from BCBio import GFF\n"
   ],
   "metadata": {
    "collapsed": false,
    "pycharm": {
     "name": "#%%\n"
    }
   },
   "execution_count": 1,
   "outputs": []
  },
  {
   "cell_type": "code",
   "execution_count": 2,
   "outputs": [
    {
     "name": "stdout",
     "output_type": "stream",
     "text": [
      "/home/andrei/Data/HeteroR/test_dir/GRF\n"
     ]
    }
   ],
   "source": [
    "%cd \"/home/andrei/Data/HeteroR/test_dir/GRF\"\n",
    "rgi = pd.read_csv(\"DA62886_rgi_table.tsv\", sep=\"\\t\")"
   ],
   "metadata": {
    "collapsed": false,
    "pycharm": {
     "name": "#%%\n"
    }
   }
  },
  {
   "cell_type": "code",
   "source": [
    "rgi.columns"
   ],
   "metadata": {
    "collapsed": false,
    "pycharm": {
     "name": "#%%\n"
    }
   },
   "execution_count": 3,
   "outputs": [
    {
     "data": {
      "text/plain": "Index(['ORF_ID', 'Contig', 'Start', 'Stop', 'Orientation', 'Cut_Off',\n       'Pass_Bitscore', 'Best_Hit_Bitscore', 'Best_Hit_ARO', 'Best_Identities',\n       'ARO', 'Model_type', 'SNPs_in_Best_Hit_ARO', 'Other_SNPs', 'Drug Class',\n       'Resistance Mechanism', 'AMR Gene Family', 'Predicted_DNA',\n       'Predicted_Protein', 'CARD_Protein_Sequence',\n       'Percentage Length of Reference Sequence', 'ID', 'Model_ID', 'Nudged',\n       'Note'],\n      dtype='object')"
     },
     "execution_count": 3,
     "metadata": {},
     "output_type": "execute_result"
    }
   ]
  },
  {
   "cell_type": "code",
   "execution_count": 4,
   "outputs": [
    {
     "data": {
      "text/plain": "array(['Loose', 'Strict', 'Perfect'], dtype=object)"
     },
     "execution_count": 4,
     "metadata": {},
     "output_type": "execute_result"
    }
   ],
   "source": [
    "rgi[\"Cut_Off\"].unique()"
   ],
   "metadata": {
    "collapsed": false,
    "pycharm": {
     "name": "#%%\n"
    }
   }
  },
  {
   "cell_type": "markdown",
   "source": [
    "Filter out \"Loose\" hits, leave only \"Strict\" and \"Perfect\""
   ],
   "metadata": {
    "collapsed": false,
    "pycharm": {
     "name": "#%% md\n"
    }
   }
  },
  {
   "cell_type": "code",
   "execution_count": 5,
   "outputs": [
    {
     "data": {
      "text/plain": "                                                 ORF_ID  Contig  Start  Stop  \\\n93            HOKEGFAO_00108 Multidrug transporter EmrE     NaN    NaN   NaN   \n301          HOKEGFAO_00337 UDP-glucose 6-dehydrogenase     NaN    NaN   NaN   \n347    HOKEGFAO_00388 Multidrug resistance protein MdtA     NaN    NaN   NaN   \n348    HOKEGFAO_00389 Multidrug resistance protein MdtB     NaN    NaN   NaN   \n349    HOKEGFAO_00390 Multidrug resistance protein MdtC     NaN    NaN   NaN   \n...                                                 ...     ...    ...   ...   \n4424            HOKEGFAO_04953 Dihydropteroate synthase     NaN    NaN   NaN   \n4425                HOKEGFAO_04954 hypothetical protein     NaN    NaN   NaN   \n4426      HOKEGFAO_04955 Dihydrofolate reductase type 1     NaN    NaN   NaN   \n4427  HOKEGFAO_04956 Aminoglycoside 3'-phosphotransf...     NaN    NaN   NaN   \n4428                HOKEGFAO_04957 hypothetical protein     NaN    NaN   NaN   \n\n      Orientation  Cut_Off  Pass_Bitscore  Best_Hit_Bitscore  \\\n93            NaN   Strict            190            216.083   \n301           NaN   Strict            700            759.599   \n347           NaN   Strict            725            826.239   \n348           NaN   Strict           1800           2076.600   \n349           NaN   Strict           1800           2061.960   \n...           ...      ...            ...                ...   \n4424          NaN  Perfect            500            528.865   \n4425          NaN   Strict            500            355.140   \n4426          NaN   Strict            300            327.791   \n4427          NaN   Strict            500            166.007   \n4428          NaN   Strict            500            568.155   \n\n               Best_Hit_ARO  Best_Identities      ARO             Model_type  \\\n93    Escherichia coli emrE            98.18  3004039  protein homolog model   \n301                     ugd            94.59  3003577  protein homolog model   \n347                    mdtA            98.80  3000792  protein homolog model   \n348                    mdtB            99.71  3000793  protein homolog model   \n349                    mdtC            99.51  3000794  protein homolog model   \n...                     ...              ...      ...                    ...   \n4424                   sul2           100.00  3000412  protein homolog model   \n4425            APH(3'')-Ib            99.43  3002639  protein homolog model   \n4426                 dfrA14            98.73  3002859  protein homolog model   \n4427            APH(3'')-Ib           100.00  3002639  protein homolog model   \n4428              APH(6)-Id            99.64  3002660  protein homolog model   \n\n     SNPs_in_Best_Hit_ARO Other_SNPs                    Drug Class  \\\n93                    NaN        NaN          macrolide antibiotic   \n301                   NaN        NaN            peptide antibiotic   \n347                   NaN        NaN      aminocoumarin antibiotic   \n348                   NaN        NaN      aminocoumarin antibiotic   \n349                   NaN        NaN      aminocoumarin antibiotic   \n...                   ...        ...                           ...   \n4424                  NaN        NaN        sulfonamide antibiotic   \n4425                  NaN        NaN     aminoglycoside antibiotic   \n4426                  NaN        NaN  diaminopyrimidine antibiotic   \n4427                  NaN        NaN     aminoglycoside antibiotic   \n4428                  NaN        NaN     aminoglycoside antibiotic   \n\n               Resistance Mechanism  \\\n93                antibiotic efflux   \n301    antibiotic target alteration   \n347               antibiotic efflux   \n348               antibiotic efflux   \n349               antibiotic efflux   \n...                             ...   \n4424  antibiotic target replacement   \n4425        antibiotic inactivation   \n4426  antibiotic target replacement   \n4427        antibiotic inactivation   \n4428        antibiotic inactivation   \n\n                                        AMR Gene Family  Predicted_DNA  \\\n93    small multidrug resistance (SMR) antibiotic ef...            NaN   \n301                 pmr phosphoethanolamine transferase            NaN   \n347   resistance-nodulation-cell division (RND) anti...            NaN   \n348   resistance-nodulation-cell division (RND) anti...            NaN   \n349   resistance-nodulation-cell division (RND) anti...            NaN   \n...                                                 ...            ...   \n4424                          sulfonamide resistant sul            NaN   \n4425                                           APH(3'')            NaN   \n4426  trimethoprim resistant dihydrofolate reductase...            NaN   \n4427                                           APH(3'')            NaN   \n4428                                             APH(6)            NaN   \n\n                                      Predicted_Protein  \\\n93    MNPYIYLGGAILAEVIGTTLMKFSEGFTRLWPSVGTIICYCASFWL...   \n301   MKITISGTGYVGLSNGLLISQNHNVVALDILPSRVAMLNDRISPIV...   \n347   MKGSYKSRWVIVIVVVIAAIAAFWFWQGRNDSQSAAPGATKQAQQS...   \n348   MQVLPPSSTGGPSRLFIMRPVATTLLMVAILLAGIIGYRALPVSAL...   \n349   MKFFALFIYRPVATILLSVAITLCGILGFRMLPVAPLPQVDFPVIM...   \n...                                                 ...   \n4424  MNKSLIIFGIVNITSDSFSDGGRYLAPDAAIAQARKLMAEGADVID...   \n4425  MNRTNIFFGESHSDWLPVRGGESGDFVFRRGDGHAFAKIAPASRRG...   \n4426  MRTLKVSLIAAKAKNGVIGCGPDIPWSAKGEQLLFKALTYNQWLLV...   \n4427  MPNFMVDPKTLQCTGLIDLGRLGTADRYADLALMIANAEENWAAPD...   \n4428  MFMPPVFPAHWHVSQPVLIADTFSSLVWKVSLPDGTPAIVKGLKPI...   \n\n                                  CARD_Protein_Sequence  \\\n93    MNPYIYLGGAILAEVIGTTLMKFSEGFTRLWPSVGTIICYCASFWL...   \n301   MKITISGTGYVGLSNGLLIAQNHEVVALDILPSRVAMLNDRISPIV...   \n347   MKGSYKSRWVIVIVVVIAAIAAFWFWQGRNDSRSAAPGATKQAQQS...   \n348   MQVLPPSSTGGPSRLFIMRPVATTLLMVAILLAGIIGYRALPVSAL...   \n349   MKFFALFIYRPVATILLSVAITLCGILGFRMLPVAPLPQVDFPVII...   \n...                                                 ...   \n4424  MNKSLIIFGIVNITSDSFSDGGRYLAPDAAIAQARKLMAEGADVID...   \n4425  MNRTNIFFGESHSDWLPVRGGESGDFVFRRGDGHAFAKIAPASRRG...   \n4426  MKVSLMAAKAKNGVIGCGPDIPWSAKGEQLLFKALTYNQWLLVGRK...   \n4427  MNRTNIFFGESHSDWLPVRGGESGDFVFRRGDGHAFAKIAPASRRG...   \n4428  MFMPPVFPAHWHVSQPVLIADTFSSLVWKVSLPDGTPAIVKGLKPI...   \n\n      Percentage Length of Reference Sequence                            ID  \\\n93                                     100.00  gnl|BL_ORD_ID|2380|hsp_num:0   \n301                                    100.00   gnl|BL_ORD_ID|916|hsp_num:0   \n347                                    100.00   gnl|BL_ORD_ID|360|hsp_num:0   \n348                                    100.00   gnl|BL_ORD_ID|776|hsp_num:0   \n349                                    100.00  gnl|BL_ORD_ID|1241|hsp_num:0   \n...                                       ...                           ...   \n4424                                   100.00   gnl|BL_ORD_ID|894|hsp_num:0   \n4425                                    67.42  gnl|BL_ORD_ID|1729|hsp_num:0   \n4426                                   101.91  gnl|BL_ORD_ID|1496|hsp_num:0   \n4427                                    30.34  gnl|BL_ORD_ID|1729|hsp_num:0   \n4428                                   100.00   gnl|BL_ORD_ID|973|hsp_num:0   \n\n      Model_ID Nudged                                               Note  \n93        2656    NaN                                                NaN  \n301        842    NaN                                                NaN  \n347        387    NaN                                                NaN  \n348        820    NaN                                                NaN  \n349       1315    NaN                                                NaN  \n...        ...    ...                                                ...  \n4424       952    NaN                                                NaN  \n4425      1830   True  loose hit with at least 95 percent identity pu...  \n4426      1592    NaN                                                NaN  \n4427      1830   True  loose hit with at least 95 percent identity pu...  \n4428      1031    NaN                                                NaN  \n\n[61 rows x 25 columns]",
      "text/html": "<div>\n<style scoped>\n    .dataframe tbody tr th:only-of-type {\n        vertical-align: middle;\n    }\n\n    .dataframe tbody tr th {\n        vertical-align: top;\n    }\n\n    .dataframe thead th {\n        text-align: right;\n    }\n</style>\n<table border=\"1\" class=\"dataframe\">\n  <thead>\n    <tr style=\"text-align: right;\">\n      <th></th>\n      <th>ORF_ID</th>\n      <th>Contig</th>\n      <th>Start</th>\n      <th>Stop</th>\n      <th>Orientation</th>\n      <th>Cut_Off</th>\n      <th>Pass_Bitscore</th>\n      <th>Best_Hit_Bitscore</th>\n      <th>Best_Hit_ARO</th>\n      <th>Best_Identities</th>\n      <th>ARO</th>\n      <th>Model_type</th>\n      <th>SNPs_in_Best_Hit_ARO</th>\n      <th>Other_SNPs</th>\n      <th>Drug Class</th>\n      <th>Resistance Mechanism</th>\n      <th>AMR Gene Family</th>\n      <th>Predicted_DNA</th>\n      <th>Predicted_Protein</th>\n      <th>CARD_Protein_Sequence</th>\n      <th>Percentage Length of Reference Sequence</th>\n      <th>ID</th>\n      <th>Model_ID</th>\n      <th>Nudged</th>\n      <th>Note</th>\n    </tr>\n  </thead>\n  <tbody>\n    <tr>\n      <th>93</th>\n      <td>HOKEGFAO_00108 Multidrug transporter EmrE</td>\n      <td>NaN</td>\n      <td>NaN</td>\n      <td>NaN</td>\n      <td>NaN</td>\n      <td>Strict</td>\n      <td>190</td>\n      <td>216.083</td>\n      <td>Escherichia coli emrE</td>\n      <td>98.18</td>\n      <td>3004039</td>\n      <td>protein homolog model</td>\n      <td>NaN</td>\n      <td>NaN</td>\n      <td>macrolide antibiotic</td>\n      <td>antibiotic efflux</td>\n      <td>small multidrug resistance (SMR) antibiotic ef...</td>\n      <td>NaN</td>\n      <td>MNPYIYLGGAILAEVIGTTLMKFSEGFTRLWPSVGTIICYCASFWL...</td>\n      <td>MNPYIYLGGAILAEVIGTTLMKFSEGFTRLWPSVGTIICYCASFWL...</td>\n      <td>100.00</td>\n      <td>gnl|BL_ORD_ID|2380|hsp_num:0</td>\n      <td>2656</td>\n      <td>NaN</td>\n      <td>NaN</td>\n    </tr>\n    <tr>\n      <th>301</th>\n      <td>HOKEGFAO_00337 UDP-glucose 6-dehydrogenase</td>\n      <td>NaN</td>\n      <td>NaN</td>\n      <td>NaN</td>\n      <td>NaN</td>\n      <td>Strict</td>\n      <td>700</td>\n      <td>759.599</td>\n      <td>ugd</td>\n      <td>94.59</td>\n      <td>3003577</td>\n      <td>protein homolog model</td>\n      <td>NaN</td>\n      <td>NaN</td>\n      <td>peptide antibiotic</td>\n      <td>antibiotic target alteration</td>\n      <td>pmr phosphoethanolamine transferase</td>\n      <td>NaN</td>\n      <td>MKITISGTGYVGLSNGLLISQNHNVVALDILPSRVAMLNDRISPIV...</td>\n      <td>MKITISGTGYVGLSNGLLIAQNHEVVALDILPSRVAMLNDRISPIV...</td>\n      <td>100.00</td>\n      <td>gnl|BL_ORD_ID|916|hsp_num:0</td>\n      <td>842</td>\n      <td>NaN</td>\n      <td>NaN</td>\n    </tr>\n    <tr>\n      <th>347</th>\n      <td>HOKEGFAO_00388 Multidrug resistance protein MdtA</td>\n      <td>NaN</td>\n      <td>NaN</td>\n      <td>NaN</td>\n      <td>NaN</td>\n      <td>Strict</td>\n      <td>725</td>\n      <td>826.239</td>\n      <td>mdtA</td>\n      <td>98.80</td>\n      <td>3000792</td>\n      <td>protein homolog model</td>\n      <td>NaN</td>\n      <td>NaN</td>\n      <td>aminocoumarin antibiotic</td>\n      <td>antibiotic efflux</td>\n      <td>resistance-nodulation-cell division (RND) anti...</td>\n      <td>NaN</td>\n      <td>MKGSYKSRWVIVIVVVIAAIAAFWFWQGRNDSQSAAPGATKQAQQS...</td>\n      <td>MKGSYKSRWVIVIVVVIAAIAAFWFWQGRNDSRSAAPGATKQAQQS...</td>\n      <td>100.00</td>\n      <td>gnl|BL_ORD_ID|360|hsp_num:0</td>\n      <td>387</td>\n      <td>NaN</td>\n      <td>NaN</td>\n    </tr>\n    <tr>\n      <th>348</th>\n      <td>HOKEGFAO_00389 Multidrug resistance protein MdtB</td>\n      <td>NaN</td>\n      <td>NaN</td>\n      <td>NaN</td>\n      <td>NaN</td>\n      <td>Strict</td>\n      <td>1800</td>\n      <td>2076.600</td>\n      <td>mdtB</td>\n      <td>99.71</td>\n      <td>3000793</td>\n      <td>protein homolog model</td>\n      <td>NaN</td>\n      <td>NaN</td>\n      <td>aminocoumarin antibiotic</td>\n      <td>antibiotic efflux</td>\n      <td>resistance-nodulation-cell division (RND) anti...</td>\n      <td>NaN</td>\n      <td>MQVLPPSSTGGPSRLFIMRPVATTLLMVAILLAGIIGYRALPVSAL...</td>\n      <td>MQVLPPSSTGGPSRLFIMRPVATTLLMVAILLAGIIGYRALPVSAL...</td>\n      <td>100.00</td>\n      <td>gnl|BL_ORD_ID|776|hsp_num:0</td>\n      <td>820</td>\n      <td>NaN</td>\n      <td>NaN</td>\n    </tr>\n    <tr>\n      <th>349</th>\n      <td>HOKEGFAO_00390 Multidrug resistance protein MdtC</td>\n      <td>NaN</td>\n      <td>NaN</td>\n      <td>NaN</td>\n      <td>NaN</td>\n      <td>Strict</td>\n      <td>1800</td>\n      <td>2061.960</td>\n      <td>mdtC</td>\n      <td>99.51</td>\n      <td>3000794</td>\n      <td>protein homolog model</td>\n      <td>NaN</td>\n      <td>NaN</td>\n      <td>aminocoumarin antibiotic</td>\n      <td>antibiotic efflux</td>\n      <td>resistance-nodulation-cell division (RND) anti...</td>\n      <td>NaN</td>\n      <td>MKFFALFIYRPVATILLSVAITLCGILGFRMLPVAPLPQVDFPVIM...</td>\n      <td>MKFFALFIYRPVATILLSVAITLCGILGFRMLPVAPLPQVDFPVII...</td>\n      <td>100.00</td>\n      <td>gnl|BL_ORD_ID|1241|hsp_num:0</td>\n      <td>1315</td>\n      <td>NaN</td>\n      <td>NaN</td>\n    </tr>\n    <tr>\n      <th>...</th>\n      <td>...</td>\n      <td>...</td>\n      <td>...</td>\n      <td>...</td>\n      <td>...</td>\n      <td>...</td>\n      <td>...</td>\n      <td>...</td>\n      <td>...</td>\n      <td>...</td>\n      <td>...</td>\n      <td>...</td>\n      <td>...</td>\n      <td>...</td>\n      <td>...</td>\n      <td>...</td>\n      <td>...</td>\n      <td>...</td>\n      <td>...</td>\n      <td>...</td>\n      <td>...</td>\n      <td>...</td>\n      <td>...</td>\n      <td>...</td>\n      <td>...</td>\n    </tr>\n    <tr>\n      <th>4424</th>\n      <td>HOKEGFAO_04953 Dihydropteroate synthase</td>\n      <td>NaN</td>\n      <td>NaN</td>\n      <td>NaN</td>\n      <td>NaN</td>\n      <td>Perfect</td>\n      <td>500</td>\n      <td>528.865</td>\n      <td>sul2</td>\n      <td>100.00</td>\n      <td>3000412</td>\n      <td>protein homolog model</td>\n      <td>NaN</td>\n      <td>NaN</td>\n      <td>sulfonamide antibiotic</td>\n      <td>antibiotic target replacement</td>\n      <td>sulfonamide resistant sul</td>\n      <td>NaN</td>\n      <td>MNKSLIIFGIVNITSDSFSDGGRYLAPDAAIAQARKLMAEGADVID...</td>\n      <td>MNKSLIIFGIVNITSDSFSDGGRYLAPDAAIAQARKLMAEGADVID...</td>\n      <td>100.00</td>\n      <td>gnl|BL_ORD_ID|894|hsp_num:0</td>\n      <td>952</td>\n      <td>NaN</td>\n      <td>NaN</td>\n    </tr>\n    <tr>\n      <th>4425</th>\n      <td>HOKEGFAO_04954 hypothetical protein</td>\n      <td>NaN</td>\n      <td>NaN</td>\n      <td>NaN</td>\n      <td>NaN</td>\n      <td>Strict</td>\n      <td>500</td>\n      <td>355.140</td>\n      <td>APH(3'')-Ib</td>\n      <td>99.43</td>\n      <td>3002639</td>\n      <td>protein homolog model</td>\n      <td>NaN</td>\n      <td>NaN</td>\n      <td>aminoglycoside antibiotic</td>\n      <td>antibiotic inactivation</td>\n      <td>APH(3'')</td>\n      <td>NaN</td>\n      <td>MNRTNIFFGESHSDWLPVRGGESGDFVFRRGDGHAFAKIAPASRRG...</td>\n      <td>MNRTNIFFGESHSDWLPVRGGESGDFVFRRGDGHAFAKIAPASRRG...</td>\n      <td>67.42</td>\n      <td>gnl|BL_ORD_ID|1729|hsp_num:0</td>\n      <td>1830</td>\n      <td>True</td>\n      <td>loose hit with at least 95 percent identity pu...</td>\n    </tr>\n    <tr>\n      <th>4426</th>\n      <td>HOKEGFAO_04955 Dihydrofolate reductase type 1</td>\n      <td>NaN</td>\n      <td>NaN</td>\n      <td>NaN</td>\n      <td>NaN</td>\n      <td>Strict</td>\n      <td>300</td>\n      <td>327.791</td>\n      <td>dfrA14</td>\n      <td>98.73</td>\n      <td>3002859</td>\n      <td>protein homolog model</td>\n      <td>NaN</td>\n      <td>NaN</td>\n      <td>diaminopyrimidine antibiotic</td>\n      <td>antibiotic target replacement</td>\n      <td>trimethoprim resistant dihydrofolate reductase...</td>\n      <td>NaN</td>\n      <td>MRTLKVSLIAAKAKNGVIGCGPDIPWSAKGEQLLFKALTYNQWLLV...</td>\n      <td>MKVSLMAAKAKNGVIGCGPDIPWSAKGEQLLFKALTYNQWLLVGRK...</td>\n      <td>101.91</td>\n      <td>gnl|BL_ORD_ID|1496|hsp_num:0</td>\n      <td>1592</td>\n      <td>NaN</td>\n      <td>NaN</td>\n    </tr>\n    <tr>\n      <th>4427</th>\n      <td>HOKEGFAO_04956 Aminoglycoside 3'-phosphotransf...</td>\n      <td>NaN</td>\n      <td>NaN</td>\n      <td>NaN</td>\n      <td>NaN</td>\n      <td>Strict</td>\n      <td>500</td>\n      <td>166.007</td>\n      <td>APH(3'')-Ib</td>\n      <td>100.00</td>\n      <td>3002639</td>\n      <td>protein homolog model</td>\n      <td>NaN</td>\n      <td>NaN</td>\n      <td>aminoglycoside antibiotic</td>\n      <td>antibiotic inactivation</td>\n      <td>APH(3'')</td>\n      <td>NaN</td>\n      <td>MPNFMVDPKTLQCTGLIDLGRLGTADRYADLALMIANAEENWAAPD...</td>\n      <td>MNRTNIFFGESHSDWLPVRGGESGDFVFRRGDGHAFAKIAPASRRG...</td>\n      <td>30.34</td>\n      <td>gnl|BL_ORD_ID|1729|hsp_num:0</td>\n      <td>1830</td>\n      <td>True</td>\n      <td>loose hit with at least 95 percent identity pu...</td>\n    </tr>\n    <tr>\n      <th>4428</th>\n      <td>HOKEGFAO_04957 hypothetical protein</td>\n      <td>NaN</td>\n      <td>NaN</td>\n      <td>NaN</td>\n      <td>NaN</td>\n      <td>Strict</td>\n      <td>500</td>\n      <td>568.155</td>\n      <td>APH(6)-Id</td>\n      <td>99.64</td>\n      <td>3002660</td>\n      <td>protein homolog model</td>\n      <td>NaN</td>\n      <td>NaN</td>\n      <td>aminoglycoside antibiotic</td>\n      <td>antibiotic inactivation</td>\n      <td>APH(6)</td>\n      <td>NaN</td>\n      <td>MFMPPVFPAHWHVSQPVLIADTFSSLVWKVSLPDGTPAIVKGLKPI...</td>\n      <td>MFMPPVFPAHWHVSQPVLIADTFSSLVWKVSLPDGTPAIVKGLKPI...</td>\n      <td>100.00</td>\n      <td>gnl|BL_ORD_ID|973|hsp_num:0</td>\n      <td>1031</td>\n      <td>NaN</td>\n      <td>NaN</td>\n    </tr>\n  </tbody>\n</table>\n<p>61 rows × 25 columns</p>\n</div>"
     },
     "execution_count": 5,
     "metadata": {},
     "output_type": "execute_result"
    }
   ],
   "source": [
    "pd.set_option('display.max_columns', None)\n",
    "rgi_notLoose = rgi[rgi[\"Cut_Off\"] != \"Loose\"]\n",
    "rgi_notLoose"
   ],
   "metadata": {
    "collapsed": false,
    "pycharm": {
     "name": "#%%\n"
    }
   }
  },
  {
   "cell_type": "code",
   "execution_count": 6,
   "outputs": [],
   "source": [
    "in_file = \"DA62886_genomic.gff\"\n",
    "\n",
    "with open(in_file) as f:\n",
    "    gff = [rec for rec in GFF.parse(f)]\n",
    "\n",
    "chromosome_genes = [feature for feature in gff[0].features if feature.type == \"gene\"]  # here we have IDs and positions"
   ],
   "metadata": {
    "collapsed": false,
    "pycharm": {
     "name": "#%%\n"
    }
   }
  },
  {
   "cell_type": "markdown",
   "source": [
    "Filter the genes with resistance - both in RGI and GBK\n",
    "\n",
    "naive looping approach"
   ],
   "metadata": {
    "collapsed": false,
    "pycharm": {
     "name": "#%% md\n"
    }
   }
  },
  {
   "cell_type": "code",
   "execution_count": 7,
   "outputs": [],
   "source": [
    "resistance_genes_coords = list()\n",
    "for orf in rgi_notLoose[\"ORF_ID\"]:\n",
    "    for gene in chromosome_genes:\n",
    "        if orf.split(\" \")[0] in gene.id:\n",
    "            resistance_genes_coords.append(gene)\n"
   ],
   "metadata": {
    "collapsed": false,
    "pycharm": {
     "name": "#%%\n"
    }
   }
  },
  {
   "cell_type": "markdown",
   "source": [
    "Less naive approach\n",
    "\n",
    "make sets"
   ],
   "metadata": {
    "collapsed": false,
    "pycharm": {
     "name": "#%% md\n"
    }
   }
  },
  {
   "cell_type": "code",
   "execution_count": 8,
   "outputs": [],
   "source": [
    "rgi_set = set([item.split(\" \")[0] for item in rgi_notLoose[\"ORF_ID\"]])\n",
    "\n",
    "chrom_genes_set = set([item.id[:-5] for item in chromosome_genes])"
   ],
   "metadata": {
    "collapsed": false,
    "pycharm": {
     "name": "#%%\n"
    }
   }
  },
  {
   "cell_type": "code",
   "execution_count": 9,
   "outputs": [
    {
     "data": {
      "text/plain": "61"
     },
     "execution_count": 9,
     "metadata": {},
     "output_type": "execute_result"
    }
   ],
   "source": [
    "len(rgi_set)"
   ],
   "metadata": {
    "collapsed": false,
    "pycharm": {
     "name": "#%%\n"
    }
   }
  },
  {
   "cell_type": "code",
   "execution_count": 10,
   "outputs": [
    {
     "data": {
      "text/plain": "4947"
     },
     "execution_count": 10,
     "metadata": {},
     "output_type": "execute_result"
    }
   ],
   "source": [
    "len(chrom_genes_set)"
   ],
   "metadata": {
    "collapsed": false,
    "pycharm": {
     "name": "#%%\n"
    }
   }
  },
  {
   "cell_type": "code",
   "execution_count": 11,
   "outputs": [
    {
     "data": {
      "text/plain": "55"
     },
     "execution_count": 11,
     "metadata": {},
     "output_type": "execute_result"
    }
   ],
   "source": [
    "len(chrom_genes_set.intersection(rgi_set))"
   ],
   "metadata": {
    "collapsed": false,
    "pycharm": {
     "name": "#%%\n"
    }
   }
  },
  {
   "cell_type": "markdown",
   "source": [
    "Annotation file lacks some RG? (6)"
   ],
   "metadata": {
    "collapsed": false
   }
  },
  {
   "cell_type": "code",
   "execution_count": 12,
   "outputs": [
    {
     "data": {
      "text/plain": "{'HOKEGFAO_04949',\n 'HOKEGFAO_04953',\n 'HOKEGFAO_04954',\n 'HOKEGFAO_04955',\n 'HOKEGFAO_04956',\n 'HOKEGFAO_04957'}"
     },
     "execution_count": 12,
     "metadata": {},
     "output_type": "execute_result"
    }
   ],
   "source": [
    "rg_found = chrom_genes_set.intersection(rgi_set)\n",
    "rg_notFound = rgi_set.difference(rg_found)\n",
    "rg_notFound"
   ],
   "metadata": {
    "collapsed": false,
    "pycharm": {
     "name": "#%%\n"
    }
   }
  },
  {
   "cell_type": "markdown",
   "source": [
    "What type of table I need:\n",
    "\n",
    "| RG    | start | stop | span_start | span_stop | strand |\n",
    "|-------|-------|------|------------|-----------|--------|\n",
    "| gene1 | 1200  | 3200 | -98800     |  103200   |  1     |\n",
    "| gene2 | 250000 | 252000 | 150000  | 352000    |  -1    |\n",
    "\n",
    "- Pay special attention to genes closer than 100kb to the \"beginning\" of the genome - we need to pull the span from\n",
    "the end of the genome.\n",
    "\n",
    "- look for repeats in the entire region: *span_left* + *gene* + *span_right* = *2 x Span + Gene*\n",
    "\n",
    "Let's make a table with coordinates:"
   ],
   "metadata": {
    "collapsed": false,
    "pycharm": {
     "name": "#%% md\n"
    }
   }
  },
  {
   "cell_type": "code",
   "execution_count": 13,
   "outputs": [
    {
     "data": {
      "text/plain": "[SeqFeature(FeatureLocation(ExactPosition(90210), ExactPosition(90543), strand=-1), type='gene', id='HOKEGFAO_00108_gene'),\n SeqFeature(FeatureLocation(ExactPosition(354630), ExactPosition(355797), strand=-1), type='gene', id='HOKEGFAO_00337_gene'),\n SeqFeature(FeatureLocation(ExactPosition(414123), ExactPosition(415371), strand=1), type='gene', id='HOKEGFAO_00388_gene'),\n SeqFeature(FeatureLocation(ExactPosition(415370), ExactPosition(418493), strand=1), type='gene', id='HOKEGFAO_00389_gene'),\n SeqFeature(FeatureLocation(ExactPosition(418493), ExactPosition(421571), strand=1), type='gene', id='HOKEGFAO_00390_gene')]"
     },
     "execution_count": 13,
     "metadata": {},
     "output_type": "execute_result"
    }
   ],
   "source": [
    "resistance_genes_coords[0:5]\n"
   ],
   "metadata": {
    "collapsed": false,
    "pycharm": {
     "name": "#%%\n"
    }
   }
  },
  {
   "cell_type": "code",
   "execution_count": 14,
   "outputs": [
    {
     "name": "stdout",
     "output_type": "stream",
     "text": [
      "[90210:90543](-)\n",
      "[354630:355797](-)\n",
      "[414123:415371](+)\n",
      "[415370:418493](+)\n",
      "[418493:421571](+)\n",
      "[422983:424387](+)\n",
      "[424383:425106](+)\n",
      "[560973:562617](-)\n",
      "[604627:605986](-)\n",
      "[620511:621480](+)\n",
      "[730079:731618](-)\n",
      "[731617:732781](-)\n",
      "[733196:733811](+)\n",
      "[733815:737409](+)\n",
      "[825413:828527](+)\n",
      "[1009848:1010379](+)\n",
      "[1010505:1011678](+)\n",
      "[1011694:1013233](+)\n",
      "[1019819:1020005](-)\n",
      "[1520693:1522175](+)\n",
      "[1549690:1550512](-)\n",
      "[1750355:1751018](-)\n",
      "[1751416:1752574](+)\n",
      "[1752585:1755690](+)\n",
      "[1807559:1808744](-)\n",
      "[1823534:1824167](+)\n",
      "[2004003:2005161](+)\n",
      "[2005185:2008299](+)\n",
      "[2008661:2009390](-)\n",
      "[2009758:2010583](-)\n",
      "[2479932:2481306](-)\n",
      "[2564768:2565953](+)\n",
      "[2726887:2727211](-)\n",
      "[2727296:2727761](+)\n",
      "[2755765:2757232](-)\n",
      "[2757228:2759280](-)\n",
      "[2759279:2760311](-)\n",
      "[2789525:2791169](-)\n",
      "[2997000:2998134](+)\n",
      "[3266340:3266931](+)\n",
      "[3307815:3309582](+)\n",
      "[3676131:3677289](-)\n",
      "[3762149:3765299](-)\n",
      "[3765321:3766515](-)\n",
      "[3766656:3767304](+)\n",
      "[3967382:3968060](-)\n",
      "[4110033:4111266](+)\n",
      "[4189562:4191311](+)\n",
      "[4425277:4426504](-)\n",
      "[4435132:4436341](-)\n",
      "[4815597:4815963](+)\n",
      "[4815949:4816279](+)\n",
      "[4853931:4854315](-)\n",
      "[4854335:4854770](-)\n",
      "[5113685:5114099](+)\n"
     ]
    }
   ],
   "source": [
    "for gene in resistance_genes_coords:\n",
    "    print(gene.location)"
   ],
   "metadata": {
    "collapsed": false,
    "pycharm": {
     "name": "#%%\n"
    }
   }
  },
  {
   "cell_type": "code",
   "execution_count": 15,
   "outputs": [
    {
     "name": "stdout",
     "output_type": "stream",
     "text": [
      "Help on FeatureLocation in module Bio.SeqFeature object:\n",
      "\n",
      "class FeatureLocation(builtins.object)\n",
      " |  FeatureLocation(start, end, strand=None, ref=None, ref_db=None)\n",
      " |  \n",
      " |  Specify the location of a feature along a sequence.\n",
      " |  \n",
      " |  The FeatureLocation is used for simple continuous features, which can\n",
      " |  be described as running from a start position to and end position\n",
      " |  (optionally with a strand and reference information).  More complex\n",
      " |  locations made up from several non-continuous parts (e.g. a coding\n",
      " |  sequence made up of several exons) are described using a SeqFeature\n",
      " |  with a CompoundLocation.\n",
      " |  \n",
      " |  Note that the start and end location numbering follow Python's scheme,\n",
      " |  thus a GenBank entry of 123..150 (one based counting) becomes a location\n",
      " |  of [122:150] (zero based counting).\n",
      " |  \n",
      " |  >>> from Bio.SeqFeature import FeatureLocation\n",
      " |  >>> f = FeatureLocation(122, 150)\n",
      " |  >>> print(f)\n",
      " |  [122:150]\n",
      " |  >>> print(f.start)\n",
      " |  122\n",
      " |  >>> print(f.end)\n",
      " |  150\n",
      " |  >>> print(f.strand)\n",
      " |  None\n",
      " |  \n",
      " |  Note the strand defaults to None. If you are working with nucleotide\n",
      " |  sequences you'd want to be explicit if it is the forward strand:\n",
      " |  \n",
      " |  >>> from Bio.SeqFeature import FeatureLocation\n",
      " |  >>> f = FeatureLocation(122, 150, strand=+1)\n",
      " |  >>> print(f)\n",
      " |  [122:150](+)\n",
      " |  >>> print(f.strand)\n",
      " |  1\n",
      " |  \n",
      " |  Note that for a parent sequence of length n, the FeatureLocation\n",
      " |  start and end must satisfy the inequality 0 <= start <= end <= n.\n",
      " |  This means even for features on the reverse strand of a nucleotide\n",
      " |  sequence, we expect the 'start' coordinate to be less than the\n",
      " |  'end'.\n",
      " |  \n",
      " |  >>> from Bio.SeqFeature import FeatureLocation\n",
      " |  >>> r = FeatureLocation(122, 150, strand=-1)\n",
      " |  >>> print(r)\n",
      " |  [122:150](-)\n",
      " |  >>> print(r.start)\n",
      " |  122\n",
      " |  >>> print(r.end)\n",
      " |  150\n",
      " |  >>> print(r.strand)\n",
      " |  -1\n",
      " |  \n",
      " |  i.e. Rather than thinking of the 'start' and 'end' biologically in a\n",
      " |  strand aware manner, think of them as the 'left most' or 'minimum'\n",
      " |  boundary, and the 'right most' or 'maximum' boundary of the region\n",
      " |  being described. This is particularly important with compound\n",
      " |  locations describing non-continuous regions.\n",
      " |  \n",
      " |  In the example above we have used standard exact positions, but there\n",
      " |  are also specialised position objects used to represent fuzzy positions\n",
      " |  as well, for example a GenBank location like complement(<123..150)\n",
      " |  would use a BeforePosition object for the start.\n",
      " |  \n",
      " |  Methods defined here:\n",
      " |  \n",
      " |  __add__(self, other)\n",
      " |      Combine location with another FeatureLocation object, or shift it.\n",
      " |      \n",
      " |      You can add two feature locations to make a join CompoundLocation:\n",
      " |      \n",
      " |      >>> from Bio.SeqFeature import FeatureLocation\n",
      " |      >>> f1 = FeatureLocation(5, 10)\n",
      " |      >>> f2 = FeatureLocation(20, 30)\n",
      " |      >>> combined = f1 + f2\n",
      " |      >>> print(combined)\n",
      " |      join{[5:10], [20:30]}\n",
      " |      \n",
      " |      This is thus equivalent to:\n",
      " |      \n",
      " |      >>> from Bio.SeqFeature import CompoundLocation\n",
      " |      >>> join = CompoundLocation([f1, f2])\n",
      " |      >>> print(join)\n",
      " |      join{[5:10], [20:30]}\n",
      " |      \n",
      " |      You can also use sum(...) in this way:\n",
      " |      \n",
      " |      >>> join = sum([f1, f2])\n",
      " |      >>> print(join)\n",
      " |      join{[5:10], [20:30]}\n",
      " |      \n",
      " |      Furthermore, you can combine a FeatureLocation with a CompoundLocation\n",
      " |      in this way.\n",
      " |      \n",
      " |      Separately, adding an integer will give a new FeatureLocation with\n",
      " |      its start and end offset by that amount. For example:\n",
      " |      \n",
      " |      >>> print(f1)\n",
      " |      [5:10]\n",
      " |      >>> print(f1 + 100)\n",
      " |      [105:110]\n",
      " |      >>> print(200 + f1)\n",
      " |      [205:210]\n",
      " |      \n",
      " |      This can be useful when editing annotation.\n",
      " |  \n",
      " |  __contains__(self, value)\n",
      " |      Check if an integer position is within the FeatureLocation object.\n",
      " |      \n",
      " |      Note that extra care may be needed for fuzzy locations, e.g.\n",
      " |      \n",
      " |      >>> from Bio.SeqFeature import FeatureLocation\n",
      " |      >>> from Bio.SeqFeature import BeforePosition, AfterPosition\n",
      " |      >>> loc = FeatureLocation(BeforePosition(5), AfterPosition(10))\n",
      " |      >>> len(loc)\n",
      " |      5\n",
      " |      >>> [i for i in range(15) if i in loc]\n",
      " |      [5, 6, 7, 8, 9]\n",
      " |  \n",
      " |  __eq__(self, other)\n",
      " |      Implement equality by comparing all the location attributes.\n",
      " |  \n",
      " |  __init__(self, start, end, strand=None, ref=None, ref_db=None)\n",
      " |      Initialize the class.\n",
      " |      \n",
      " |      start and end arguments specify the values where the feature begins\n",
      " |      and ends. These can either by any of the ``*Position`` objects that\n",
      " |      inherit from AbstractPosition, or can just be integers specifying the\n",
      " |      position. In the case of integers, the values are assumed to be\n",
      " |      exact and are converted in ExactPosition arguments. This is meant\n",
      " |      to make it easy to deal with non-fuzzy ends.\n",
      " |      \n",
      " |      i.e. Short form:\n",
      " |      \n",
      " |      >>> from Bio.SeqFeature import FeatureLocation\n",
      " |      >>> loc = FeatureLocation(5, 10, strand=-1)\n",
      " |      >>> print(loc)\n",
      " |      [5:10](-)\n",
      " |      \n",
      " |      Explicit form:\n",
      " |      \n",
      " |      >>> from Bio.SeqFeature import FeatureLocation, ExactPosition\n",
      " |      >>> loc = FeatureLocation(ExactPosition(5), ExactPosition(10), strand=-1)\n",
      " |      >>> print(loc)\n",
      " |      [5:10](-)\n",
      " |      \n",
      " |      Other fuzzy positions are used similarly,\n",
      " |      \n",
      " |      >>> from Bio.SeqFeature import FeatureLocation\n",
      " |      >>> from Bio.SeqFeature import BeforePosition, AfterPosition\n",
      " |      >>> loc2 = FeatureLocation(BeforePosition(5), AfterPosition(10), strand=-1)\n",
      " |      >>> print(loc2)\n",
      " |      [<5:>10](-)\n",
      " |      \n",
      " |      For nucleotide features you will also want to specify the strand,\n",
      " |      use 1 for the forward (plus) strand, -1 for the reverse (negative)\n",
      " |      strand, 0 for stranded but strand unknown (? in GFF3), or None for\n",
      " |      when the strand does not apply (dot in GFF3), e.g. features on\n",
      " |      proteins.\n",
      " |      \n",
      " |      >>> loc = FeatureLocation(5, 10, strand=+1)\n",
      " |      >>> print(loc)\n",
      " |      [5:10](+)\n",
      " |      >>> print(loc.strand)\n",
      " |      1\n",
      " |      \n",
      " |      Normally feature locations are given relative to the parent\n",
      " |      sequence you are working with, but an explicit accession can\n",
      " |      be given with the optional ref and db_ref strings:\n",
      " |      \n",
      " |      >>> loc = FeatureLocation(105172, 108462, ref=\"AL391218.9\", strand=1)\n",
      " |      >>> print(loc)\n",
      " |      AL391218.9[105172:108462](+)\n",
      " |      >>> print(loc.ref)\n",
      " |      AL391218.9\n",
      " |  \n",
      " |  __iter__(self)\n",
      " |      Iterate over the parent positions within the FeatureLocation object.\n",
      " |      \n",
      " |      >>> from Bio.SeqFeature import FeatureLocation\n",
      " |      >>> from Bio.SeqFeature import BeforePosition, AfterPosition\n",
      " |      >>> loc = FeatureLocation(BeforePosition(5), AfterPosition(10))\n",
      " |      >>> len(loc)\n",
      " |      5\n",
      " |      >>> for i in loc: print(i)\n",
      " |      5\n",
      " |      6\n",
      " |      7\n",
      " |      8\n",
      " |      9\n",
      " |      >>> list(loc)\n",
      " |      [5, 6, 7, 8, 9]\n",
      " |      >>> [i for i in range(15) if i in loc]\n",
      " |      [5, 6, 7, 8, 9]\n",
      " |      \n",
      " |      Note this is strand aware:\n",
      " |      \n",
      " |      >>> loc = FeatureLocation(BeforePosition(5), AfterPosition(10), strand = -1)\n",
      " |      >>> list(loc)\n",
      " |      [9, 8, 7, 6, 5]\n",
      " |  \n",
      " |  __len__(self)\n",
      " |      Return the length of the region described by the FeatureLocation object.\n",
      " |      \n",
      " |      Note that extra care may be needed for fuzzy locations, e.g.\n",
      " |      \n",
      " |      >>> from Bio.SeqFeature import FeatureLocation\n",
      " |      >>> from Bio.SeqFeature import BeforePosition, AfterPosition\n",
      " |      >>> loc = FeatureLocation(BeforePosition(5), AfterPosition(10))\n",
      " |      >>> len(loc)\n",
      " |      5\n",
      " |  \n",
      " |  __nonzero__(self)\n",
      " |      Return True regardless of the length of the feature.\n",
      " |      \n",
      " |      This behaviour is for backwards compatibility, since until the\n",
      " |      __len__ method was added, a FeatureLocation always evaluated as True.\n",
      " |      \n",
      " |      Note that in comparison, Seq objects, strings, lists, etc, will all\n",
      " |      evaluate to False if they have length zero.\n",
      " |      \n",
      " |      WARNING: The FeatureLocation may in future evaluate to False when its\n",
      " |      length is zero (in order to better match normal python behaviour)!\n",
      " |  \n",
      " |  __radd__(self, other)\n",
      " |      Add a feature locationanother FeatureLocation object to the left.\n",
      " |  \n",
      " |  __repr__(self)\n",
      " |      Represent the FeatureLocation object as a string for debugging.\n",
      " |  \n",
      " |  __str__(self)\n",
      " |      Return a representation of the FeatureLocation object (with python counting).\n",
      " |      \n",
      " |      For the simple case this uses the python splicing syntax, [122:150]\n",
      " |      (zero based counting) which GenBank would call 123..150 (one based\n",
      " |      counting).\n",
      " |  \n",
      " |  extract(self, parent_sequence, references=None)\n",
      " |      Extract the sequence from supplied parent sequence using the FeatureLocation object.\n",
      " |      \n",
      " |      The parent_sequence can be a Seq like object or a string, and will\n",
      " |      generally return an object of the same type. The exception to this is\n",
      " |      a MutableSeq as the parent sequence will return a Seq object.\n",
      " |      If the location refers to other records, they must be supplied\n",
      " |      in the optional dictionary references.\n",
      " |      \n",
      " |      >>> from Bio.Seq import Seq\n",
      " |      >>> from Bio.SeqFeature import FeatureLocation\n",
      " |      >>> seq = Seq(\"MKQHKAMIVALIVICITAVVAAL\")\n",
      " |      >>> feature_loc = FeatureLocation(8, 15)\n",
      " |      >>> feature_loc.extract(seq)\n",
      " |      Seq('VALIVIC')\n",
      " |  \n",
      " |  ----------------------------------------------------------------------\n",
      " |  Readonly properties defined here:\n",
      " |  \n",
      " |  end\n",
      " |      End location - right most (maximum) value, regardless of strand.\n",
      " |      \n",
      " |      Read only, returns an integer like position object, possibly a fuzzy\n",
      " |      position.\n",
      " |  \n",
      " |  nofuzzy_end\n",
      " |      End position (integer, approximated if fuzzy, read only) (OBSOLETE).\n",
      " |      \n",
      " |      This is now an alias for int(feature.end), which should be\n",
      " |      used in preference -- unless you are trying to support old\n",
      " |      versions of Biopython.\n",
      " |  \n",
      " |  nofuzzy_start\n",
      " |      Start position (integer, approximated if fuzzy, read only) (OBSOLETE).\n",
      " |      \n",
      " |      This is now an alias for int(feature.start), which should be\n",
      " |      used in preference -- unless you are trying to support old\n",
      " |      versions of Biopython.\n",
      " |  \n",
      " |  parts\n",
      " |      Read only list of sections (always one, the FeatureLocation object).\n",
      " |      \n",
      " |      This is a convenience property allowing you to write code handling\n",
      " |      both simple FeatureLocation objects (with one part) and more complex\n",
      " |      CompoundLocation objects (with multiple parts) interchangeably.\n",
      " |  \n",
      " |  start\n",
      " |      Start location - left most (minimum) value, regardless of strand.\n",
      " |      \n",
      " |      Read only, returns an integer like position object, possibly a fuzzy\n",
      " |      position.\n",
      " |  \n",
      " |  ----------------------------------------------------------------------\n",
      " |  Data descriptors defined here:\n",
      " |  \n",
      " |  __dict__\n",
      " |      dictionary for instance variables (if defined)\n",
      " |  \n",
      " |  __weakref__\n",
      " |      list of weak references to the object (if defined)\n",
      " |  \n",
      " |  strand\n",
      " |      Strand of the location (+1, -1, 0 or None).\n",
      " |  \n",
      " |  ----------------------------------------------------------------------\n",
      " |  Data and other attributes defined here:\n",
      " |  \n",
      " |  __hash__ = None\n",
      "\n"
     ]
    }
   ],
   "source": [
    "help(resistance_genes_coords[0].location)"
   ],
   "metadata": {
    "collapsed": false,
    "pycharm": {
     "name": "#%%\n"
    }
   }
  },
  {
   "cell_type": "code",
   "execution_count": 16,
   "outputs": [
    {
     "data": {
      "text/plain": "ExactPosition(90210)"
     },
     "execution_count": 16,
     "metadata": {},
     "output_type": "execute_result"
    }
   ],
   "source": [
    "resistance_genes_coords[0].location.start\n"
   ],
   "metadata": {
    "collapsed": false,
    "pycharm": {
     "name": "#%%\n"
    }
   }
  },
  {
   "cell_type": "code",
   "execution_count": 20,
   "outputs": [],
   "source": [
    "gene_lol = list()\n",
    "genome_end = 5131220\n",
    "span = 100000\n",
    "for gene in resistance_genes_coords:\n",
    "    start = int(gene.location.start)\n",
    "    end = int(gene.location.end)\n",
    "    span_start = start - span\n",
    "    # check if it's negative\n",
    "    # if span_start < 0:\n",
    "    #    span_start = genome_end + span_start\n",
    "    span_end = end + span\n",
    "    row = [gene.id, start, end, span_start, span_end, int(gene.location.strand)]\n",
    "    gene_lol.append(row)"
   ],
   "metadata": {
    "collapsed": false,
    "pycharm": {
     "name": "#%%\n"
    }
   }
  },
  {
   "cell_type": "code",
   "execution_count": 21,
   "outputs": [
    {
     "data": {
      "text/plain": "                gene_id  gene_start  gene_end  span_start  span_end  strand\n0   HOKEGFAO_00108_gene       90210     90543       -9790    190543      -1\n1   HOKEGFAO_00337_gene      354630    355797      254630    455797      -1\n2   HOKEGFAO_00388_gene      414123    415371      314123    515371       1\n3   HOKEGFAO_00389_gene      415370    418493      315370    518493       1\n4   HOKEGFAO_00390_gene      418493    421571      318493    521571       1\n5   HOKEGFAO_00392_gene      422983    424387      322983    524387       1\n6   HOKEGFAO_00393_gene      424383    425106      324383    525106       1\n7   HOKEGFAO_00522_gene      560973    562617      460973    662617      -1\n8   HOKEGFAO_00549_gene      604627    605986      504627    705986      -1\n9   HOKEGFAO_00563_gene      620511    621480      520511    721480       1\n10  HOKEGFAO_00662_gene      730079    731618      630079    831618      -1\n11  HOKEGFAO_00663_gene      731617    732781      631617    832781      -1\n12  HOKEGFAO_00664_gene      733196    733811      633196    833811       1\n13  HOKEGFAO_00665_gene      733815    737409      633815    837409       1\n14  HOKEGFAO_00746_gene      825413    828527      725413    928527       1\n15  HOKEGFAO_00908_gene     1009848   1010379      909848   1110379       1\n16  HOKEGFAO_00909_gene     1010505   1011678      910505   1111678       1\n17  HOKEGFAO_00910_gene     1011694   1013233      911694   1113233       1\n18  HOKEGFAO_00920_gene     1019819   1020005      919819   1120005      -1\n19  HOKEGFAO_01376_gene     1520693   1522175     1420693   1622175       1\n20  HOKEGFAO_01401_gene     1549690   1550512     1449690   1650512      -1\n21  HOKEGFAO_01591_gene     1750355   1751018     1650355   1851018      -1\n22  HOKEGFAO_01592_gene     1751416   1752574     1651416   1852574       1\n23  HOKEGFAO_01593_gene     1752585   1755690     1652585   1855690       1\n24  HOKEGFAO_01664_gene     1807559   1808744     1707559   1908744      -1\n25  HOKEGFAO_01683_gene     1823534   1824167     1723534   1924167       1\n26  HOKEGFAO_01851_gene     2004003   2005161     1904003   2105161       1\n27  HOKEGFAO_01852_gene     2005185   2008299     1905185   2108299       1\n28  HOKEGFAO_01854_gene     2008661   2009390     1908661   2109390      -1\n29  HOKEGFAO_01855_gene     2009758   2010583     1909758   2110583      -1\n30  HOKEGFAO_02275_gene     2479932   2481306     2379932   2581306      -1\n31  HOKEGFAO_02346_gene     2564768   2565953     2464768   2665953       1\n32  HOKEGFAO_02510_gene     2726887   2727211     2626887   2827211      -1\n33  HOKEGFAO_02511_gene     2727296   2727761     2627296   2827761       1\n34  HOKEGFAO_02536_gene     2755765   2757232     2655765   2857232      -1\n35  HOKEGFAO_02537_gene     2757228   2759280     2657228   2859280      -1\n36  HOKEGFAO_02538_gene     2759279   2760311     2659279   2860311      -1\n37  HOKEGFAO_02571_gene     2789525   2791169     2689525   2891169      -1\n38  HOKEGFAO_02764_gene     2997000   2998134     2897000   3098134       1\n39  HOKEGFAO_03026_gene     3266340   3266931     3166340   3366931       1\n40  HOKEGFAO_03062_gene     3307815   3309582     3207815   3409582       1\n41  HOKEGFAO_03386_gene     3676131   3677289     3576131   3777289      -1\n42  HOKEGFAO_03470_gene     3762149   3765299     3662149   3865299      -1\n43  HOKEGFAO_03471_gene     3765321   3766515     3665321   3866515      -1\n44  HOKEGFAO_03472_gene     3766656   3767304     3666656   3867304       1\n45  HOKEGFAO_03651_gene     3967382   3968060     3867382   4068060      -1\n46  HOKEGFAO_03782_gene     4110033   4111266     4010033   4211266       1\n47  HOKEGFAO_03851_gene     4189562   4191311     4089562   4291311       1\n48  HOKEGFAO_04081_gene     4425277   4426504     4325277   4526504      -1\n49  HOKEGFAO_04093_gene     4435132   4436341     4335132   4536341      -1\n50  HOKEGFAO_04478_gene     4815597   4815963     4715597   4915963       1\n51  HOKEGFAO_04479_gene     4815949   4816279     4715949   4916279       1\n52  HOKEGFAO_04517_gene     4853931   4854315     4753931   4954315      -1\n53  HOKEGFAO_04518_gene     4854335   4854770     4754335   4954770      -1\n54  HOKEGFAO_04744_gene     5113685   5114099     5013685   5214099       1",
      "text/html": "<div>\n<style scoped>\n    .dataframe tbody tr th:only-of-type {\n        vertical-align: middle;\n    }\n\n    .dataframe tbody tr th {\n        vertical-align: top;\n    }\n\n    .dataframe thead th {\n        text-align: right;\n    }\n</style>\n<table border=\"1\" class=\"dataframe\">\n  <thead>\n    <tr style=\"text-align: right;\">\n      <th></th>\n      <th>gene_id</th>\n      <th>gene_start</th>\n      <th>gene_end</th>\n      <th>span_start</th>\n      <th>span_end</th>\n      <th>strand</th>\n    </tr>\n  </thead>\n  <tbody>\n    <tr>\n      <th>0</th>\n      <td>HOKEGFAO_00108_gene</td>\n      <td>90210</td>\n      <td>90543</td>\n      <td>-9790</td>\n      <td>190543</td>\n      <td>-1</td>\n    </tr>\n    <tr>\n      <th>1</th>\n      <td>HOKEGFAO_00337_gene</td>\n      <td>354630</td>\n      <td>355797</td>\n      <td>254630</td>\n      <td>455797</td>\n      <td>-1</td>\n    </tr>\n    <tr>\n      <th>2</th>\n      <td>HOKEGFAO_00388_gene</td>\n      <td>414123</td>\n      <td>415371</td>\n      <td>314123</td>\n      <td>515371</td>\n      <td>1</td>\n    </tr>\n    <tr>\n      <th>3</th>\n      <td>HOKEGFAO_00389_gene</td>\n      <td>415370</td>\n      <td>418493</td>\n      <td>315370</td>\n      <td>518493</td>\n      <td>1</td>\n    </tr>\n    <tr>\n      <th>4</th>\n      <td>HOKEGFAO_00390_gene</td>\n      <td>418493</td>\n      <td>421571</td>\n      <td>318493</td>\n      <td>521571</td>\n      <td>1</td>\n    </tr>\n    <tr>\n      <th>5</th>\n      <td>HOKEGFAO_00392_gene</td>\n      <td>422983</td>\n      <td>424387</td>\n      <td>322983</td>\n      <td>524387</td>\n      <td>1</td>\n    </tr>\n    <tr>\n      <th>6</th>\n      <td>HOKEGFAO_00393_gene</td>\n      <td>424383</td>\n      <td>425106</td>\n      <td>324383</td>\n      <td>525106</td>\n      <td>1</td>\n    </tr>\n    <tr>\n      <th>7</th>\n      <td>HOKEGFAO_00522_gene</td>\n      <td>560973</td>\n      <td>562617</td>\n      <td>460973</td>\n      <td>662617</td>\n      <td>-1</td>\n    </tr>\n    <tr>\n      <th>8</th>\n      <td>HOKEGFAO_00549_gene</td>\n      <td>604627</td>\n      <td>605986</td>\n      <td>504627</td>\n      <td>705986</td>\n      <td>-1</td>\n    </tr>\n    <tr>\n      <th>9</th>\n      <td>HOKEGFAO_00563_gene</td>\n      <td>620511</td>\n      <td>621480</td>\n      <td>520511</td>\n      <td>721480</td>\n      <td>1</td>\n    </tr>\n    <tr>\n      <th>10</th>\n      <td>HOKEGFAO_00662_gene</td>\n      <td>730079</td>\n      <td>731618</td>\n      <td>630079</td>\n      <td>831618</td>\n      <td>-1</td>\n    </tr>\n    <tr>\n      <th>11</th>\n      <td>HOKEGFAO_00663_gene</td>\n      <td>731617</td>\n      <td>732781</td>\n      <td>631617</td>\n      <td>832781</td>\n      <td>-1</td>\n    </tr>\n    <tr>\n      <th>12</th>\n      <td>HOKEGFAO_00664_gene</td>\n      <td>733196</td>\n      <td>733811</td>\n      <td>633196</td>\n      <td>833811</td>\n      <td>1</td>\n    </tr>\n    <tr>\n      <th>13</th>\n      <td>HOKEGFAO_00665_gene</td>\n      <td>733815</td>\n      <td>737409</td>\n      <td>633815</td>\n      <td>837409</td>\n      <td>1</td>\n    </tr>\n    <tr>\n      <th>14</th>\n      <td>HOKEGFAO_00746_gene</td>\n      <td>825413</td>\n      <td>828527</td>\n      <td>725413</td>\n      <td>928527</td>\n      <td>1</td>\n    </tr>\n    <tr>\n      <th>15</th>\n      <td>HOKEGFAO_00908_gene</td>\n      <td>1009848</td>\n      <td>1010379</td>\n      <td>909848</td>\n      <td>1110379</td>\n      <td>1</td>\n    </tr>\n    <tr>\n      <th>16</th>\n      <td>HOKEGFAO_00909_gene</td>\n      <td>1010505</td>\n      <td>1011678</td>\n      <td>910505</td>\n      <td>1111678</td>\n      <td>1</td>\n    </tr>\n    <tr>\n      <th>17</th>\n      <td>HOKEGFAO_00910_gene</td>\n      <td>1011694</td>\n      <td>1013233</td>\n      <td>911694</td>\n      <td>1113233</td>\n      <td>1</td>\n    </tr>\n    <tr>\n      <th>18</th>\n      <td>HOKEGFAO_00920_gene</td>\n      <td>1019819</td>\n      <td>1020005</td>\n      <td>919819</td>\n      <td>1120005</td>\n      <td>-1</td>\n    </tr>\n    <tr>\n      <th>19</th>\n      <td>HOKEGFAO_01376_gene</td>\n      <td>1520693</td>\n      <td>1522175</td>\n      <td>1420693</td>\n      <td>1622175</td>\n      <td>1</td>\n    </tr>\n    <tr>\n      <th>20</th>\n      <td>HOKEGFAO_01401_gene</td>\n      <td>1549690</td>\n      <td>1550512</td>\n      <td>1449690</td>\n      <td>1650512</td>\n      <td>-1</td>\n    </tr>\n    <tr>\n      <th>21</th>\n      <td>HOKEGFAO_01591_gene</td>\n      <td>1750355</td>\n      <td>1751018</td>\n      <td>1650355</td>\n      <td>1851018</td>\n      <td>-1</td>\n    </tr>\n    <tr>\n      <th>22</th>\n      <td>HOKEGFAO_01592_gene</td>\n      <td>1751416</td>\n      <td>1752574</td>\n      <td>1651416</td>\n      <td>1852574</td>\n      <td>1</td>\n    </tr>\n    <tr>\n      <th>23</th>\n      <td>HOKEGFAO_01593_gene</td>\n      <td>1752585</td>\n      <td>1755690</td>\n      <td>1652585</td>\n      <td>1855690</td>\n      <td>1</td>\n    </tr>\n    <tr>\n      <th>24</th>\n      <td>HOKEGFAO_01664_gene</td>\n      <td>1807559</td>\n      <td>1808744</td>\n      <td>1707559</td>\n      <td>1908744</td>\n      <td>-1</td>\n    </tr>\n    <tr>\n      <th>25</th>\n      <td>HOKEGFAO_01683_gene</td>\n      <td>1823534</td>\n      <td>1824167</td>\n      <td>1723534</td>\n      <td>1924167</td>\n      <td>1</td>\n    </tr>\n    <tr>\n      <th>26</th>\n      <td>HOKEGFAO_01851_gene</td>\n      <td>2004003</td>\n      <td>2005161</td>\n      <td>1904003</td>\n      <td>2105161</td>\n      <td>1</td>\n    </tr>\n    <tr>\n      <th>27</th>\n      <td>HOKEGFAO_01852_gene</td>\n      <td>2005185</td>\n      <td>2008299</td>\n      <td>1905185</td>\n      <td>2108299</td>\n      <td>1</td>\n    </tr>\n    <tr>\n      <th>28</th>\n      <td>HOKEGFAO_01854_gene</td>\n      <td>2008661</td>\n      <td>2009390</td>\n      <td>1908661</td>\n      <td>2109390</td>\n      <td>-1</td>\n    </tr>\n    <tr>\n      <th>29</th>\n      <td>HOKEGFAO_01855_gene</td>\n      <td>2009758</td>\n      <td>2010583</td>\n      <td>1909758</td>\n      <td>2110583</td>\n      <td>-1</td>\n    </tr>\n    <tr>\n      <th>30</th>\n      <td>HOKEGFAO_02275_gene</td>\n      <td>2479932</td>\n      <td>2481306</td>\n      <td>2379932</td>\n      <td>2581306</td>\n      <td>-1</td>\n    </tr>\n    <tr>\n      <th>31</th>\n      <td>HOKEGFAO_02346_gene</td>\n      <td>2564768</td>\n      <td>2565953</td>\n      <td>2464768</td>\n      <td>2665953</td>\n      <td>1</td>\n    </tr>\n    <tr>\n      <th>32</th>\n      <td>HOKEGFAO_02510_gene</td>\n      <td>2726887</td>\n      <td>2727211</td>\n      <td>2626887</td>\n      <td>2827211</td>\n      <td>-1</td>\n    </tr>\n    <tr>\n      <th>33</th>\n      <td>HOKEGFAO_02511_gene</td>\n      <td>2727296</td>\n      <td>2727761</td>\n      <td>2627296</td>\n      <td>2827761</td>\n      <td>1</td>\n    </tr>\n    <tr>\n      <th>34</th>\n      <td>HOKEGFAO_02536_gene</td>\n      <td>2755765</td>\n      <td>2757232</td>\n      <td>2655765</td>\n      <td>2857232</td>\n      <td>-1</td>\n    </tr>\n    <tr>\n      <th>35</th>\n      <td>HOKEGFAO_02537_gene</td>\n      <td>2757228</td>\n      <td>2759280</td>\n      <td>2657228</td>\n      <td>2859280</td>\n      <td>-1</td>\n    </tr>\n    <tr>\n      <th>36</th>\n      <td>HOKEGFAO_02538_gene</td>\n      <td>2759279</td>\n      <td>2760311</td>\n      <td>2659279</td>\n      <td>2860311</td>\n      <td>-1</td>\n    </tr>\n    <tr>\n      <th>37</th>\n      <td>HOKEGFAO_02571_gene</td>\n      <td>2789525</td>\n      <td>2791169</td>\n      <td>2689525</td>\n      <td>2891169</td>\n      <td>-1</td>\n    </tr>\n    <tr>\n      <th>38</th>\n      <td>HOKEGFAO_02764_gene</td>\n      <td>2997000</td>\n      <td>2998134</td>\n      <td>2897000</td>\n      <td>3098134</td>\n      <td>1</td>\n    </tr>\n    <tr>\n      <th>39</th>\n      <td>HOKEGFAO_03026_gene</td>\n      <td>3266340</td>\n      <td>3266931</td>\n      <td>3166340</td>\n      <td>3366931</td>\n      <td>1</td>\n    </tr>\n    <tr>\n      <th>40</th>\n      <td>HOKEGFAO_03062_gene</td>\n      <td>3307815</td>\n      <td>3309582</td>\n      <td>3207815</td>\n      <td>3409582</td>\n      <td>1</td>\n    </tr>\n    <tr>\n      <th>41</th>\n      <td>HOKEGFAO_03386_gene</td>\n      <td>3676131</td>\n      <td>3677289</td>\n      <td>3576131</td>\n      <td>3777289</td>\n      <td>-1</td>\n    </tr>\n    <tr>\n      <th>42</th>\n      <td>HOKEGFAO_03470_gene</td>\n      <td>3762149</td>\n      <td>3765299</td>\n      <td>3662149</td>\n      <td>3865299</td>\n      <td>-1</td>\n    </tr>\n    <tr>\n      <th>43</th>\n      <td>HOKEGFAO_03471_gene</td>\n      <td>3765321</td>\n      <td>3766515</td>\n      <td>3665321</td>\n      <td>3866515</td>\n      <td>-1</td>\n    </tr>\n    <tr>\n      <th>44</th>\n      <td>HOKEGFAO_03472_gene</td>\n      <td>3766656</td>\n      <td>3767304</td>\n      <td>3666656</td>\n      <td>3867304</td>\n      <td>1</td>\n    </tr>\n    <tr>\n      <th>45</th>\n      <td>HOKEGFAO_03651_gene</td>\n      <td>3967382</td>\n      <td>3968060</td>\n      <td>3867382</td>\n      <td>4068060</td>\n      <td>-1</td>\n    </tr>\n    <tr>\n      <th>46</th>\n      <td>HOKEGFAO_03782_gene</td>\n      <td>4110033</td>\n      <td>4111266</td>\n      <td>4010033</td>\n      <td>4211266</td>\n      <td>1</td>\n    </tr>\n    <tr>\n      <th>47</th>\n      <td>HOKEGFAO_03851_gene</td>\n      <td>4189562</td>\n      <td>4191311</td>\n      <td>4089562</td>\n      <td>4291311</td>\n      <td>1</td>\n    </tr>\n    <tr>\n      <th>48</th>\n      <td>HOKEGFAO_04081_gene</td>\n      <td>4425277</td>\n      <td>4426504</td>\n      <td>4325277</td>\n      <td>4526504</td>\n      <td>-1</td>\n    </tr>\n    <tr>\n      <th>49</th>\n      <td>HOKEGFAO_04093_gene</td>\n      <td>4435132</td>\n      <td>4436341</td>\n      <td>4335132</td>\n      <td>4536341</td>\n      <td>-1</td>\n    </tr>\n    <tr>\n      <th>50</th>\n      <td>HOKEGFAO_04478_gene</td>\n      <td>4815597</td>\n      <td>4815963</td>\n      <td>4715597</td>\n      <td>4915963</td>\n      <td>1</td>\n    </tr>\n    <tr>\n      <th>51</th>\n      <td>HOKEGFAO_04479_gene</td>\n      <td>4815949</td>\n      <td>4816279</td>\n      <td>4715949</td>\n      <td>4916279</td>\n      <td>1</td>\n    </tr>\n    <tr>\n      <th>52</th>\n      <td>HOKEGFAO_04517_gene</td>\n      <td>4853931</td>\n      <td>4854315</td>\n      <td>4753931</td>\n      <td>4954315</td>\n      <td>-1</td>\n    </tr>\n    <tr>\n      <th>53</th>\n      <td>HOKEGFAO_04518_gene</td>\n      <td>4854335</td>\n      <td>4854770</td>\n      <td>4754335</td>\n      <td>4954770</td>\n      <td>-1</td>\n    </tr>\n    <tr>\n      <th>54</th>\n      <td>HOKEGFAO_04744_gene</td>\n      <td>5113685</td>\n      <td>5114099</td>\n      <td>5013685</td>\n      <td>5214099</td>\n      <td>1</td>\n    </tr>\n  </tbody>\n</table>\n</div>"
     },
     "execution_count": 21,
     "metadata": {},
     "output_type": "execute_result"
    }
   ],
   "source": [
    "coordinates = pd.DataFrame(columns=[\"gene_id\", \"gene_start\", \"gene_end\", \"span_start\", \"span_end\", \"strand\"], data=gene_lol)\n",
    "coordinates"
   ],
   "metadata": {
    "collapsed": false,
    "pycharm": {
     "name": "#%%\n"
    }
   }
  },
  {
   "cell_type": "markdown",
   "source": [
    "Now collect the spans from the genome\n",
    "Use bed tools - create a bed file\n",
    "something should be done with the negative coordinates\n"
   ],
   "metadata": {
    "collapsed": false
   }
  }
 ],
 "metadata": {
  "kernelspec": {
   "display_name": "Python 3",
   "language": "python",
   "name": "python3"
  },
  "language_info": {
   "codemirror_mode": {
    "name": "ipython",
    "version": 2
   },
   "file_extension": ".py",
   "mimetype": "text/x-python",
   "name": "python",
   "nbconvert_exporter": "python",
   "pygments_lexer": "ipython2",
   "version": "2.7.6"
  }
 },
 "nbformat": 4,
 "nbformat_minor": 0
}