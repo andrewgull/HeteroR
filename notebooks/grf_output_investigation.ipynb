{
 "cells": [
  {
   "cell_type": "markdown",
   "metadata": {
    "collapsed": true,
    "pycharm": {
     "name": "#%% md\n"
    }
   },
   "source": [
    "Take one strain that has one long chromosome, t.ex. DA63366\n",
    "\n",
    "Check the repeats coordinates that you got:\n",
    "\n",
    "1. how many perfect and imperfect matches? -> imperfect have different format\n",
    "2. how many instances one repeat each record in GRF output corresponds to?\n",
    "3. what are their locations?\n",
    "4. between-match distances?\n"
   ]
  },
  {
   "cell_type": "code",
   "execution_count": 2,
   "outputs": [],
   "source": [
    "import pandas as pd\n",
    "\n",
    "def parse_spacer(header, type=\"perfect\"):\n",
    "    \"\"\"\n",
    "    :param header: a char string like '>1:0-190543:951:190482:14m'\n",
    "    :return: a list of values from parsed header\n",
    "    \"\"\"\n",
    "    first_split = header.split(\":\")\n",
    "    record_id = first_split[0][1:]\n",
    "    repeat_len = int(first_split[-1][:-1])\n",
    "    range_ = first_split[1].split(\"-\")\n",
    "    range_start, range_end = int(range_[0]), int(range_[-1])\n",
    "    repeat_1_start_in_range = int(first_split[2])\n",
    "    repeat_2_end_in_range = int(first_split[3])\n",
    "\n",
    "    repeat_1_start_in_chrom = range_start + repeat_1_start_in_range\n",
    "    repeat_1_end_in_chrom = repeat_1_start_in_chrom + repeat_len\n",
    "\n",
    "    repeat_2_end_in_chrom = range_start + repeat_2_end_in_range\n",
    "    repeat_2_start_in_chrom = repeat_2_end_in_chrom - repeat_len\n",
    "\n",
    "    return [record_id, repeat_1_start_in_chrom, repeat_1_end_in_chrom, repeat_2_start_in_chrom,\n",
    "            repeat_2_end_in_chrom, repeat_len, type]\n",
    "\n",
    "\n",
    "in_perf_spacers = \"/home/andrei/Data/HeteroR/results/direct_repeats/DA63366/repeats/perfect.spacer.id\"\n",
    "in_imperf_spacers = \"/home/andrei/Data/HeteroR/results/direct_repeats/DA63366/repeats/imperfect.id\"\n",
    "with open(in_perf_spacers) as f:\n",
    "    perf_spacer_ids = [line.rstrip() for line in f.readlines()]\n",
    "with open(in_imperf_spacers) as f:\n",
    "    imperf_spacer_ids = [line.rstrip() for line in f.readlines()]\n",
    "\n",
    "perfect_headers = [parse_spacer(line, type=\"perfect\") for line in perf_spacer_ids]\n",
    "# imperfect_headers = [parse_spacer(line, type=\"imperfect\") for line in imperf_spacer_ids]\n",
    "# all_headers = perfect_headers + imperfect_headers\n",
    "repeats = pd.DataFrame(columns=[\"record_id\", \"start_1\", \"end_1\", \"start_2\", \"end_2\", \"length\", \"type\"], data=perfect_headers)"
   ],
   "metadata": {
    "collapsed": false,
    "pycharm": {
     "name": "#%%\n"
    }
   }
  },
  {
   "cell_type": "code",
   "execution_count": 3,
   "outputs": [
    {
     "data": {
      "text/plain": "        record_id  start_1   end_1  start_2   end_2  length\n0               1   156785  156796   355577  355588      11\n1               1   155793  155803   354429  354439      10\n2               1   156991  157004   355523  355536      13\n3               1   155876  155886   354108  354118      10\n4               1   157996  158006   355931  355941      10\n...           ...      ...     ...      ...     ...     ...\n1536315         2    67576   67587    68111   68122      11\n1536316         2    57930   57940    58456   58466      10\n1536317         2    55882   55892    56401   56411      10\n1536318         2    90519   90534    91034   91049      15\n1536319         2     1104    1115     1615    1626      11\n\n[1536320 rows x 6 columns]",
      "text/html": "<div>\n<style scoped>\n    .dataframe tbody tr th:only-of-type {\n        vertical-align: middle;\n    }\n\n    .dataframe tbody tr th {\n        vertical-align: top;\n    }\n\n    .dataframe thead th {\n        text-align: right;\n    }\n</style>\n<table border=\"1\" class=\"dataframe\">\n  <thead>\n    <tr style=\"text-align: right;\">\n      <th></th>\n      <th>record_id</th>\n      <th>start_1</th>\n      <th>end_1</th>\n      <th>start_2</th>\n      <th>end_2</th>\n      <th>length</th>\n    </tr>\n  </thead>\n  <tbody>\n    <tr>\n      <th>0</th>\n      <td>1</td>\n      <td>156785</td>\n      <td>156796</td>\n      <td>355577</td>\n      <td>355588</td>\n      <td>11</td>\n    </tr>\n    <tr>\n      <th>1</th>\n      <td>1</td>\n      <td>155793</td>\n      <td>155803</td>\n      <td>354429</td>\n      <td>354439</td>\n      <td>10</td>\n    </tr>\n    <tr>\n      <th>2</th>\n      <td>1</td>\n      <td>156991</td>\n      <td>157004</td>\n      <td>355523</td>\n      <td>355536</td>\n      <td>13</td>\n    </tr>\n    <tr>\n      <th>3</th>\n      <td>1</td>\n      <td>155876</td>\n      <td>155886</td>\n      <td>354108</td>\n      <td>354118</td>\n      <td>10</td>\n    </tr>\n    <tr>\n      <th>4</th>\n      <td>1</td>\n      <td>157996</td>\n      <td>158006</td>\n      <td>355931</td>\n      <td>355941</td>\n      <td>10</td>\n    </tr>\n    <tr>\n      <th>...</th>\n      <td>...</td>\n      <td>...</td>\n      <td>...</td>\n      <td>...</td>\n      <td>...</td>\n      <td>...</td>\n    </tr>\n    <tr>\n      <th>1536315</th>\n      <td>2</td>\n      <td>67576</td>\n      <td>67587</td>\n      <td>68111</td>\n      <td>68122</td>\n      <td>11</td>\n    </tr>\n    <tr>\n      <th>1536316</th>\n      <td>2</td>\n      <td>57930</td>\n      <td>57940</td>\n      <td>58456</td>\n      <td>58466</td>\n      <td>10</td>\n    </tr>\n    <tr>\n      <th>1536317</th>\n      <td>2</td>\n      <td>55882</td>\n      <td>55892</td>\n      <td>56401</td>\n      <td>56411</td>\n      <td>10</td>\n    </tr>\n    <tr>\n      <th>1536318</th>\n      <td>2</td>\n      <td>90519</td>\n      <td>90534</td>\n      <td>91034</td>\n      <td>91049</td>\n      <td>15</td>\n    </tr>\n    <tr>\n      <th>1536319</th>\n      <td>2</td>\n      <td>1104</td>\n      <td>1115</td>\n      <td>1615</td>\n      <td>1626</td>\n      <td>11</td>\n    </tr>\n  </tbody>\n</table>\n<p>1536320 rows × 6 columns</p>\n</div>"
     },
     "execution_count": 3,
     "metadata": {},
     "output_type": "execute_result"
    }
   ],
   "source": [
    "repeats"
   ],
   "metadata": {
    "collapsed": false,
    "pycharm": {
     "name": "#%%\n"
    }
   }
  },
  {
   "cell_type": "code",
   "execution_count": 2,
   "outputs": [
    {
     "data": {
      "text/plain": "1536320"
     },
     "execution_count": 2,
     "metadata": {},
     "output_type": "execute_result"
    }
   ],
   "source": [
    "len(repeats)"
   ],
   "metadata": {
    "collapsed": false,
    "pycharm": {
     "name": "#%%\n"
    }
   }
  },
  {
   "cell_type": "markdown",
   "source": [
    "So, first match (=repeat) 156785-156796 (exclude last character) has 11 matches in the chromosome:\n",
    "\n",
    "355578-355588 (this one is in the same row as the original match)\n",
    "\n",
    "452879-452889\n",
    "\n",
    "753332-753342\n",
    "\n",
    "1126877-1126887\n",
    "\n",
    "...\n",
    "and so on\n",
    "\n",
    "Can you find these coords in the table?\n",
    "\n",
    "(you can just grep the original output file)\n",
    "\n",
    "```\n",
    " $ grep \"156785\" perfect.spacer.id\n",
    ">1:157454-360569:34544:156785:11m\n",
    ">1:434016-635175:156785:183822:10m\n",
    ">1:1054774-1255306:39708:156785:11m\n",
    ">1:1261074-1464189:89622:156785:11m\n",
    ">1:1358770-1559935:154610:156785:10m\n",
    ">1:1359933-1561473:4250:156785:10m\n",
    ">1:1527329-1728974:27411:156785:10m\n",
    ">1:1679323-1880692:114499:156785:10m\n",
    ">1:1736873-1938041:140950:156785:13m\n",
    ">1:2246869-2447236:51288:156785:10m\n",
    ">1:2247221-2447552:2073:156785:10m\n",
    ">1:3032219-3233453:57464:156785:10m\n",
    ">1:3032219-3233453:144235:156785:12m\n",
    ">1:3522920-3724079:145392:156785:10m\n",
    ">1:4242343-4443376:156785:157479:10m\n",
    "```\n",
    "\n",
    "which is 15 times\n",
    "\n",
    "it means that we can find 156785 in columns **start_1** and in **end_2**\n",
    "\n",
    "But IRL I can't do this - because the coordinates in the table are sums of region coordinates and repeat coordinates"
   ],
   "metadata": {
    "collapsed": false
   }
  },
  {
   "cell_type": "code",
   "execution_count": 9,
   "outputs": [
    {
     "data": {
      "text/plain": "Empty DataFrame\nColumns: [record_id, start_1, end_1, start_2, end_2, length]\nIndex: []",
      "text/html": "<div>\n<style scoped>\n    .dataframe tbody tr th:only-of-type {\n        vertical-align: middle;\n    }\n\n    .dataframe tbody tr th {\n        vertical-align: top;\n    }\n\n    .dataframe thead th {\n        text-align: right;\n    }\n</style>\n<table border=\"1\" class=\"dataframe\">\n  <thead>\n    <tr style=\"text-align: right;\">\n      <th></th>\n      <th>record_id</th>\n      <th>start_1</th>\n      <th>end_1</th>\n      <th>start_2</th>\n      <th>end_2</th>\n      <th>length</th>\n    </tr>\n  </thead>\n  <tbody>\n  </tbody>\n</table>\n</div>"
     },
     "execution_count": 9,
     "metadata": {},
     "output_type": "execute_result"
    }
   ],
   "source": [
    "repeats[repeats.end_2 == 156785]\n"
   ],
   "metadata": {
    "collapsed": false,
    "pycharm": {
     "name": "#%%\n"
    }
   }
  },
  {
   "cell_type": "code",
   "execution_count": 10,
   "outputs": [
    {
     "data": {
      "text/plain": "  record_id  start_1   end_1  start_2   end_2  length\n0         1   156785  156796   355577  355588      11",
      "text/html": "<div>\n<style scoped>\n    .dataframe tbody tr th:only-of-type {\n        vertical-align: middle;\n    }\n\n    .dataframe tbody tr th {\n        vertical-align: top;\n    }\n\n    .dataframe thead th {\n        text-align: right;\n    }\n</style>\n<table border=\"1\" class=\"dataframe\">\n  <thead>\n    <tr style=\"text-align: right;\">\n      <th></th>\n      <th>record_id</th>\n      <th>start_1</th>\n      <th>end_1</th>\n      <th>start_2</th>\n      <th>end_2</th>\n      <th>length</th>\n    </tr>\n  </thead>\n  <tbody>\n    <tr>\n      <th>0</th>\n      <td>1</td>\n      <td>156785</td>\n      <td>156796</td>\n      <td>355577</td>\n      <td>355588</td>\n      <td>11</td>\n    </tr>\n  </tbody>\n</table>\n</div>"
     },
     "execution_count": 10,
     "metadata": {},
     "output_type": "execute_result"
    }
   ],
   "source": [
    "repeats[repeats.start_1 == 156785]"
   ],
   "metadata": {
    "collapsed": false,
    "pycharm": {
     "name": "#%%\n"
    }
   }
  },
  {
   "cell_type": "code",
   "execution_count": 3,
   "outputs": [
    {
     "data": {
      "text/plain": "      record_id  start_1   end_1  start_2   end_2  length\n4259          1   191998  192009   314228  314239      11\n30647         1   191998  192009   314228  314239      11\n57257         1   191998  192009   314228  314239      11",
      "text/html": "<div>\n<style scoped>\n    .dataframe tbody tr th:only-of-type {\n        vertical-align: middle;\n    }\n\n    .dataframe tbody tr th {\n        vertical-align: top;\n    }\n\n    .dataframe thead th {\n        text-align: right;\n    }\n</style>\n<table border=\"1\" class=\"dataframe\">\n  <thead>\n    <tr style=\"text-align: right;\">\n      <th></th>\n      <th>record_id</th>\n      <th>start_1</th>\n      <th>end_1</th>\n      <th>start_2</th>\n      <th>end_2</th>\n      <th>length</th>\n    </tr>\n  </thead>\n  <tbody>\n    <tr>\n      <th>4259</th>\n      <td>1</td>\n      <td>191998</td>\n      <td>192009</td>\n      <td>314228</td>\n      <td>314239</td>\n      <td>11</td>\n    </tr>\n    <tr>\n      <th>30647</th>\n      <td>1</td>\n      <td>191998</td>\n      <td>192009</td>\n      <td>314228</td>\n      <td>314239</td>\n      <td>11</td>\n    </tr>\n    <tr>\n      <th>57257</th>\n      <td>1</td>\n      <td>191998</td>\n      <td>192009</td>\n      <td>314228</td>\n      <td>314239</td>\n      <td>11</td>\n    </tr>\n  </tbody>\n</table>\n</div>"
     },
     "execution_count": 3,
     "metadata": {},
     "output_type": "execute_result"
    }
   ],
   "source": [
    "a = 157454+34544\n",
    "\n",
    "repeats[repeats.start_1 == a]"
   ],
   "metadata": {
    "collapsed": false,
    "pycharm": {
     "name": "#%%\n"
    }
   }
  },
  {
   "cell_type": "markdown",
   "source": [
    "there are duplicated rows!\n",
    "\n",
    "A lot of them!\n",
    "\n",
    "Duplicates come from overlapping regions - I decided to not merge duplicated regions (see note 'On features')\n",
    "\n",
    "Duplicates is not a problem - I can remove them later using pandas\n",
    "\n",
    "There are less duplicated rows in the raw output file, because some repeats our found twice in different regions with different relative coordinates"
   ],
   "metadata": {
    "collapsed": false,
    "pycharm": {
     "name": "#%% md\n"
    }
   }
  },
  {
   "cell_type": "code",
   "execution_count": 4,
   "outputs": [
    {
     "data": {
      "text/plain": "     record_id  start_1   end_1  start_2   end_2  length\n4259         1   191998  192009   314228  314239      11",
      "text/html": "<div>\n<style scoped>\n    .dataframe tbody tr th:only-of-type {\n        vertical-align: middle;\n    }\n\n    .dataframe tbody tr th {\n        vertical-align: top;\n    }\n\n    .dataframe thead th {\n        text-align: right;\n    }\n</style>\n<table border=\"1\" class=\"dataframe\">\n  <thead>\n    <tr style=\"text-align: right;\">\n      <th></th>\n      <th>record_id</th>\n      <th>start_1</th>\n      <th>end_1</th>\n      <th>start_2</th>\n      <th>end_2</th>\n      <th>length</th>\n    </tr>\n  </thead>\n  <tbody>\n    <tr>\n      <th>4259</th>\n      <td>1</td>\n      <td>191998</td>\n      <td>192009</td>\n      <td>314228</td>\n      <td>314239</td>\n      <td>11</td>\n    </tr>\n  </tbody>\n</table>\n</div>"
     },
     "execution_count": 4,
     "metadata": {},
     "output_type": "execute_result"
    }
   ],
   "source": [
    "repeats.drop_duplicates(inplace=True)\n",
    "\n",
    "repeats[repeats.start_1 == a]"
   ],
   "metadata": {
    "collapsed": false,
    "pycharm": {
     "name": "#%%\n"
    }
   }
  },
  {
   "cell_type": "code",
   "execution_count": 5,
   "outputs": [
    {
     "data": {
      "text/plain": "624716"
     },
     "execution_count": 5,
     "metadata": {},
     "output_type": "execute_result"
    }
   ],
   "source": [
    "len(repeats)"
   ],
   "metadata": {
    "collapsed": false,
    "pycharm": {
     "name": "#%%\n"
    }
   }
  },
  {
   "cell_type": "markdown",
   "source": [
    "This data frame goes to current GFF file - everything longer than 15 bp"
   ],
   "metadata": {
    "collapsed": false,
    "pycharm": {
     "name": "#%% md\n"
    }
   }
  },
  {
   "cell_type": "code",
   "execution_count": 7,
   "outputs": [
    {
     "data": {
      "text/plain": "        record_id  start_1   end_1  start_2   end_2  length\n61              1   163851  163869   355547  355565      18\n2315            1   207813  207831   352593  352611      18\n2473            1   212688  212705   355527  355544      17\n2474            1   212706  212727   355545  355566      21\n2475            1   212657  212673   355495  355511      16\n...           ...      ...     ...      ...     ...     ...\n1519338         2    38948   39768    43390   44210     820\n1519454         2    39971   40791    43390   44210     820\n1519495         2    28597   28613    31651   31667      16\n1519582         2    55328   55344    57697   57713      16\n1519754         2    38948   39768    39970   40790     820\n\n[1074 rows x 6 columns]",
      "text/html": "<div>\n<style scoped>\n    .dataframe tbody tr th:only-of-type {\n        vertical-align: middle;\n    }\n\n    .dataframe tbody tr th {\n        vertical-align: top;\n    }\n\n    .dataframe thead th {\n        text-align: right;\n    }\n</style>\n<table border=\"1\" class=\"dataframe\">\n  <thead>\n    <tr style=\"text-align: right;\">\n      <th></th>\n      <th>record_id</th>\n      <th>start_1</th>\n      <th>end_1</th>\n      <th>start_2</th>\n      <th>end_2</th>\n      <th>length</th>\n    </tr>\n  </thead>\n  <tbody>\n    <tr>\n      <th>61</th>\n      <td>1</td>\n      <td>163851</td>\n      <td>163869</td>\n      <td>355547</td>\n      <td>355565</td>\n      <td>18</td>\n    </tr>\n    <tr>\n      <th>2315</th>\n      <td>1</td>\n      <td>207813</td>\n      <td>207831</td>\n      <td>352593</td>\n      <td>352611</td>\n      <td>18</td>\n    </tr>\n    <tr>\n      <th>2473</th>\n      <td>1</td>\n      <td>212688</td>\n      <td>212705</td>\n      <td>355527</td>\n      <td>355544</td>\n      <td>17</td>\n    </tr>\n    <tr>\n      <th>2474</th>\n      <td>1</td>\n      <td>212706</td>\n      <td>212727</td>\n      <td>355545</td>\n      <td>355566</td>\n      <td>21</td>\n    </tr>\n    <tr>\n      <th>2475</th>\n      <td>1</td>\n      <td>212657</td>\n      <td>212673</td>\n      <td>355495</td>\n      <td>355511</td>\n      <td>16</td>\n    </tr>\n    <tr>\n      <th>...</th>\n      <td>...</td>\n      <td>...</td>\n      <td>...</td>\n      <td>...</td>\n      <td>...</td>\n      <td>...</td>\n    </tr>\n    <tr>\n      <th>1519338</th>\n      <td>2</td>\n      <td>38948</td>\n      <td>39768</td>\n      <td>43390</td>\n      <td>44210</td>\n      <td>820</td>\n    </tr>\n    <tr>\n      <th>1519454</th>\n      <td>2</td>\n      <td>39971</td>\n      <td>40791</td>\n      <td>43390</td>\n      <td>44210</td>\n      <td>820</td>\n    </tr>\n    <tr>\n      <th>1519495</th>\n      <td>2</td>\n      <td>28597</td>\n      <td>28613</td>\n      <td>31651</td>\n      <td>31667</td>\n      <td>16</td>\n    </tr>\n    <tr>\n      <th>1519582</th>\n      <td>2</td>\n      <td>55328</td>\n      <td>55344</td>\n      <td>57697</td>\n      <td>57713</td>\n      <td>16</td>\n    </tr>\n    <tr>\n      <th>1519754</th>\n      <td>2</td>\n      <td>38948</td>\n      <td>39768</td>\n      <td>39970</td>\n      <td>40790</td>\n      <td>820</td>\n    </tr>\n  </tbody>\n</table>\n<p>1074 rows × 6 columns</p>\n</div>"
     },
     "execution_count": 7,
     "metadata": {},
     "output_type": "execute_result"
    }
   ],
   "source": [
    "repeats[repeats.length > 15]"
   ],
   "metadata": {
    "collapsed": false,
    "pycharm": {
     "name": "#%%\n"
    }
   }
  },
  {
   "cell_type": "markdown",
   "source": [
    "We have just 24 repeats longer than 99 bp (on two contigs)"
   ],
   "metadata": {
    "collapsed": false,
    "pycharm": {
     "name": "#%% md\n"
    }
   }
  },
  {
   "cell_type": "code",
   "execution_count": 9,
   "outputs": [
    {
     "data": {
      "text/plain": "        record_id  start_1    end_1  start_2    end_2  length\n25661           1   218570   218712   220018   220160     142\n813033          1  2322676  2323162  2409504  2409990     486\n912147          1  2747598  2747737  2798101  2798240     139\n923022          1  2733788  2733952  2734322  2734486     164\n1050257         1  3308401  3308815  3310271  3310685     414\n1192413         1  3840375  3841146  3841209  3841980     771\n1450538         1  4442299  4442413  4483512  4483626     114\n1450540         1  4442493  4447465  4483706  4488678    4972\n1462915         1  4486977  4488764  4626563  4628350    1787\n1462916         1  4488770  4488883  4628356  4628469     113\n1462923         1  4483479  4486659  4622973  4626153    3180\n1515147         2    35884    36370    97021    97507     486\n1516123         2    38110    38878    80730    81498     768\n1516357         2    58402    58518    97021    97137     116\n1516358         2    58519    59088    97138    97707     569\n1516993         2    12924    13745    43390    44211     821\n1517241         2    12923    13744    39969    40790     821\n1517315         2    12924    13744    38947    39767     820\n1517611         2    35882    36000    58399    58517     118\n1517612         2    36001    36370    58518    58887     369\n1518703         2    35574    35723    46396    46545     149\n1519338         2    38948    39768    43390    44210     820\n1519454         2    39971    40791    43390    44210     820\n1519754         2    38948    39768    39970    40790     820",
      "text/html": "<div>\n<style scoped>\n    .dataframe tbody tr th:only-of-type {\n        vertical-align: middle;\n    }\n\n    .dataframe tbody tr th {\n        vertical-align: top;\n    }\n\n    .dataframe thead th {\n        text-align: right;\n    }\n</style>\n<table border=\"1\" class=\"dataframe\">\n  <thead>\n    <tr style=\"text-align: right;\">\n      <th></th>\n      <th>record_id</th>\n      <th>start_1</th>\n      <th>end_1</th>\n      <th>start_2</th>\n      <th>end_2</th>\n      <th>length</th>\n    </tr>\n  </thead>\n  <tbody>\n    <tr>\n      <th>25661</th>\n      <td>1</td>\n      <td>218570</td>\n      <td>218712</td>\n      <td>220018</td>\n      <td>220160</td>\n      <td>142</td>\n    </tr>\n    <tr>\n      <th>813033</th>\n      <td>1</td>\n      <td>2322676</td>\n      <td>2323162</td>\n      <td>2409504</td>\n      <td>2409990</td>\n      <td>486</td>\n    </tr>\n    <tr>\n      <th>912147</th>\n      <td>1</td>\n      <td>2747598</td>\n      <td>2747737</td>\n      <td>2798101</td>\n      <td>2798240</td>\n      <td>139</td>\n    </tr>\n    <tr>\n      <th>923022</th>\n      <td>1</td>\n      <td>2733788</td>\n      <td>2733952</td>\n      <td>2734322</td>\n      <td>2734486</td>\n      <td>164</td>\n    </tr>\n    <tr>\n      <th>1050257</th>\n      <td>1</td>\n      <td>3308401</td>\n      <td>3308815</td>\n      <td>3310271</td>\n      <td>3310685</td>\n      <td>414</td>\n    </tr>\n    <tr>\n      <th>1192413</th>\n      <td>1</td>\n      <td>3840375</td>\n      <td>3841146</td>\n      <td>3841209</td>\n      <td>3841980</td>\n      <td>771</td>\n    </tr>\n    <tr>\n      <th>1450538</th>\n      <td>1</td>\n      <td>4442299</td>\n      <td>4442413</td>\n      <td>4483512</td>\n      <td>4483626</td>\n      <td>114</td>\n    </tr>\n    <tr>\n      <th>1450540</th>\n      <td>1</td>\n      <td>4442493</td>\n      <td>4447465</td>\n      <td>4483706</td>\n      <td>4488678</td>\n      <td>4972</td>\n    </tr>\n    <tr>\n      <th>1462915</th>\n      <td>1</td>\n      <td>4486977</td>\n      <td>4488764</td>\n      <td>4626563</td>\n      <td>4628350</td>\n      <td>1787</td>\n    </tr>\n    <tr>\n      <th>1462916</th>\n      <td>1</td>\n      <td>4488770</td>\n      <td>4488883</td>\n      <td>4628356</td>\n      <td>4628469</td>\n      <td>113</td>\n    </tr>\n    <tr>\n      <th>1462923</th>\n      <td>1</td>\n      <td>4483479</td>\n      <td>4486659</td>\n      <td>4622973</td>\n      <td>4626153</td>\n      <td>3180</td>\n    </tr>\n    <tr>\n      <th>1515147</th>\n      <td>2</td>\n      <td>35884</td>\n      <td>36370</td>\n      <td>97021</td>\n      <td>97507</td>\n      <td>486</td>\n    </tr>\n    <tr>\n      <th>1516123</th>\n      <td>2</td>\n      <td>38110</td>\n      <td>38878</td>\n      <td>80730</td>\n      <td>81498</td>\n      <td>768</td>\n    </tr>\n    <tr>\n      <th>1516357</th>\n      <td>2</td>\n      <td>58402</td>\n      <td>58518</td>\n      <td>97021</td>\n      <td>97137</td>\n      <td>116</td>\n    </tr>\n    <tr>\n      <th>1516358</th>\n      <td>2</td>\n      <td>58519</td>\n      <td>59088</td>\n      <td>97138</td>\n      <td>97707</td>\n      <td>569</td>\n    </tr>\n    <tr>\n      <th>1516993</th>\n      <td>2</td>\n      <td>12924</td>\n      <td>13745</td>\n      <td>43390</td>\n      <td>44211</td>\n      <td>821</td>\n    </tr>\n    <tr>\n      <th>1517241</th>\n      <td>2</td>\n      <td>12923</td>\n      <td>13744</td>\n      <td>39969</td>\n      <td>40790</td>\n      <td>821</td>\n    </tr>\n    <tr>\n      <th>1517315</th>\n      <td>2</td>\n      <td>12924</td>\n      <td>13744</td>\n      <td>38947</td>\n      <td>39767</td>\n      <td>820</td>\n    </tr>\n    <tr>\n      <th>1517611</th>\n      <td>2</td>\n      <td>35882</td>\n      <td>36000</td>\n      <td>58399</td>\n      <td>58517</td>\n      <td>118</td>\n    </tr>\n    <tr>\n      <th>1517612</th>\n      <td>2</td>\n      <td>36001</td>\n      <td>36370</td>\n      <td>58518</td>\n      <td>58887</td>\n      <td>369</td>\n    </tr>\n    <tr>\n      <th>1518703</th>\n      <td>2</td>\n      <td>35574</td>\n      <td>35723</td>\n      <td>46396</td>\n      <td>46545</td>\n      <td>149</td>\n    </tr>\n    <tr>\n      <th>1519338</th>\n      <td>2</td>\n      <td>38948</td>\n      <td>39768</td>\n      <td>43390</td>\n      <td>44210</td>\n      <td>820</td>\n    </tr>\n    <tr>\n      <th>1519454</th>\n      <td>2</td>\n      <td>39971</td>\n      <td>40791</td>\n      <td>43390</td>\n      <td>44210</td>\n      <td>820</td>\n    </tr>\n    <tr>\n      <th>1519754</th>\n      <td>2</td>\n      <td>38948</td>\n      <td>39768</td>\n      <td>39970</td>\n      <td>40790</td>\n      <td>820</td>\n    </tr>\n  </tbody>\n</table>\n</div>"
     },
     "execution_count": 9,
     "metadata": {},
     "output_type": "execute_result"
    }
   ],
   "source": [
    "repeats[repeats.length > 99]"
   ],
   "metadata": {
    "collapsed": false,
    "pycharm": {
     "name": "#%%\n"
    }
   }
  },
  {
   "cell_type": "markdown",
   "source": [
    "## Everything looks normal now\n",
    "\n",
    "test imperfect repeats as was planned and proceed to evaluation of discovered repeats\n",
    "\n",
    "# GRF intersperse\n",
    "Using intersperse mode I get the following results:\n",
    "\n",
    "command:\n",
    "\n",
    "```\n",
    "cd /home/andrei/Data/HeteroR/test_dir/GRF/DA63366\n",
    "grf-intersperse -i regions.fasta -o out_interspersed -t 12 -f 0 -c 2 -s 10 -p 90\n",
    "```\n",
    "fasta output looks OK sizewise"
   ],
   "metadata": {
    "collapsed": false
   }
  },
  {
   "cell_type": "code",
   "execution_count": 2,
   "outputs": [
    {
     "data": {
      "text/plain": "count    1.004369e+07\nmean     1.312339e+01\nstd      3.246630e+02\nmin      1.000000e+01\n25%      1.000000e+01\n50%      1.000000e+01\n75%      1.000000e+01\nmax      1.923910e+05\ndtype: float64"
     },
     "execution_count": 2,
     "metadata": {},
     "output_type": "execute_result"
    }
   ],
   "source": [
    "from Bio import SeqIO\n",
    "import pandas as pd\n",
    "\n",
    "in_interspersed_repeats = \"/home/andrei/Data/HeteroR/test_dir/GRF/DA63366/out_interspersed/interspersed_repeat.out\"\n",
    "\n",
    "repeats = [rec for rec in SeqIO.parse(in_interspersed_repeats, \"fasta\")]\n",
    "lengths = pd.Series([len(rec) for rec in repeats])\n",
    "\n",
    "lengths.describe()"
   ],
   "metadata": {
    "collapsed": false,
    "pycharm": {
     "name": "#%%\n"
    }
   }
  },
  {
   "cell_type": "code",
   "execution_count": 7,
   "outputs": [
    {
     "name": "stderr",
     "output_type": "stream",
     "text": [
      "/home/andrei/miniconda3/envs/snakemake/lib/python3.9/site-packages/seaborn/distributions.py:2619: FutureWarning: `distplot` is a deprecated function and will be removed in a future version. Please adapt your code to use either `displot` (a figure-level function with similar flexibility) or `histplot` (an axes-level function for histograms).\n",
      "  warnings.warn(msg, FutureWarning)\n",
      "/home/andrei/miniconda3/envs/snakemake/lib/python3.9/site-packages/seaborn/distributions.py:2103: FutureWarning: The `axis` variable is no longer used and will be removed. Instead, assign variables directly to `x` or `y`.\n",
      "  warnings.warn(msg, FutureWarning)\n"
     ]
    },
    {
     "data": {
      "text/plain": "<AxesSubplot:ylabel='Density'>"
     },
     "execution_count": 7,
     "metadata": {},
     "output_type": "execute_result"
    },
    {
     "data": {
      "text/plain": "<Figure size 1152x432 with 1 Axes>",
      "image/png": "[encoded data removed]"
     },
     "metadata": {
      "needs_background": "light"
     },
     "output_type": "display_data"
    }
   ],
   "source": [
    "import matplotlib.pyplot as plt\n",
    "import seaborn as sns\n",
    "%matplotlib inline\n",
    "plt.figure(figsize=(16,6))\n",
    "\n",
    "sns.distplot(lengths, bins=100, rug=True, hist=True, norm_hist=False)"
   ],
   "metadata": {
    "collapsed": false,
    "pycharm": {
     "name": "#%%\n"
    }
   }
  },
  {
   "cell_type": "code",
   "execution_count": 6,
   "outputs": [
    {
     "data": {
      "text/plain": "112"
     },
     "execution_count": 6,
     "metadata": {},
     "output_type": "execute_result"
    }
   ],
   "source": [
    "len(lengths[lengths > 10000])"
   ],
   "metadata": {
    "collapsed": false,
    "pycharm": {
     "name": "#%%\n"
    }
   }
  }
 ],
 "metadata": {
  "kernelspec": {
   "display_name": "Python 3",
   "language": "python",
   "name": "python3"
  },
  "language_info": {
   "codemirror_mode": {
    "name": "ipython",
    "version": 2
   },
   "file_extension": ".py",
   "mimetype": "text/x-python",
   "name": "python",
   "nbconvert_exporter": "python",
   "pygments_lexer": "ipython2",
   "version": "2.7.6"
  }
 },
 "nbformat": 4,
 "nbformat_minor": 0
}