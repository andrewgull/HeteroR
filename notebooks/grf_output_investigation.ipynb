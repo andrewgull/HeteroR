{
 "cells": [
  {
   "cell_type": "markdown",
   "metadata": {
    "collapsed": true,
    "pycharm": {
     "name": "#%% md\n"
    }
   },
   "source": [
    "Take one strain that has one long chromosome, t.ex. DA63366\n",
    "\n",
    "Check the repeats coordinates that you got:\n",
    "\n",
    "1. how many instances one repeat each record in GRF output corresponds to?\n",
    "2. what are their locations?\n",
    "3. between-match distances?\n"
   ]
  },
  {
   "cell_type": "code",
   "execution_count": 2,
   "outputs": [],
   "source": [
    "import pandas as pd\n",
    "\n",
    "def parse_spacer(header):\n",
    "    \"\"\"\n",
    "    :param header: a char string like '>1:0-190543:951:190482:14m'\n",
    "    :return: a list of values from parsed header\n",
    "    \"\"\"\n",
    "    first_split = header.split(\":\")\n",
    "    record_id = first_split[0][1:]\n",
    "    repeat_len = int(first_split[-1][:-1])\n",
    "    range_ = first_split[1].split(\"-\")\n",
    "    range_start, range_end = int(range_[0]), int(range_[-1])\n",
    "    repeat_1_start_in_range = int(first_split[2])\n",
    "    repeat_2_end_in_range = int(first_split[3])\n",
    "\n",
    "    repeat_1_start_in_chrom = range_start + repeat_1_start_in_range\n",
    "    repeat_1_end_in_chrom = repeat_1_start_in_chrom + repeat_len\n",
    "\n",
    "    repeat_2_end_in_chrom = range_start + repeat_2_end_in_range\n",
    "    repeat_2_start_in_chrom = repeat_2_end_in_chrom - repeat_len\n",
    "\n",
    "    return [record_id, repeat_1_start_in_chrom, repeat_1_end_in_chrom, repeat_2_start_in_chrom,\n",
    "            repeat_2_end_in_chrom, repeat_len]\n",
    "\n",
    "\n",
    "in_spacers = \"/home/andrei/Data/HeteroR/results/direct_repeats/DA63366/repeats/perfect.spacer.id\"\n",
    "with open(in_spacers) as f:\n",
    "    spacer_ids = [line.rstrip() for line in f.readlines()]\n",
    "\n",
    "parsed_headers = [parse_spacer(line) for line in spacer_ids]\n",
    "repeats = pd.DataFrame(columns=[\"record_id\", \"start_1\", \"end_1\", \"start_2\", \"end_2\", \"length\"], data=parsed_headers)"
   ],
   "metadata": {
    "collapsed": false,
    "pycharm": {
     "name": "#%%\n"
    }
   }
  },
  {
   "cell_type": "code",
   "execution_count": 3,
   "outputs": [
    {
     "data": {
      "text/plain": "        record_id  start_1   end_1  start_2   end_2  length\n0               1   156785  156796   355577  355588      11\n1               1   155793  155803   354429  354439      10\n2               1   156991  157004   355523  355536      13\n3               1   155876  155886   354108  354118      10\n4               1   157996  158006   355931  355941      10\n...           ...      ...     ...      ...     ...     ...\n1536315         2    67576   67587    68111   68122      11\n1536316         2    57930   57940    58456   58466      10\n1536317         2    55882   55892    56401   56411      10\n1536318         2    90519   90534    91034   91049      15\n1536319         2     1104    1115     1615    1626      11\n\n[1536320 rows x 6 columns]",
      "text/html": "<div>\n<style scoped>\n    .dataframe tbody tr th:only-of-type {\n        vertical-align: middle;\n    }\n\n    .dataframe tbody tr th {\n        vertical-align: top;\n    }\n\n    .dataframe thead th {\n        text-align: right;\n    }\n</style>\n<table border=\"1\" class=\"dataframe\">\n  <thead>\n    <tr style=\"text-align: right;\">\n      <th></th>\n      <th>record_id</th>\n      <th>start_1</th>\n      <th>end_1</th>\n      <th>start_2</th>\n      <th>end_2</th>\n      <th>length</th>\n    </tr>\n  </thead>\n  <tbody>\n    <tr>\n      <th>0</th>\n      <td>1</td>\n      <td>156785</td>\n      <td>156796</td>\n      <td>355577</td>\n      <td>355588</td>\n      <td>11</td>\n    </tr>\n    <tr>\n      <th>1</th>\n      <td>1</td>\n      <td>155793</td>\n      <td>155803</td>\n      <td>354429</td>\n      <td>354439</td>\n      <td>10</td>\n    </tr>\n    <tr>\n      <th>2</th>\n      <td>1</td>\n      <td>156991</td>\n      <td>157004</td>\n      <td>355523</td>\n      <td>355536</td>\n      <td>13</td>\n    </tr>\n    <tr>\n      <th>3</th>\n      <td>1</td>\n      <td>155876</td>\n      <td>155886</td>\n      <td>354108</td>\n      <td>354118</td>\n      <td>10</td>\n    </tr>\n    <tr>\n      <th>4</th>\n      <td>1</td>\n      <td>157996</td>\n      <td>158006</td>\n      <td>355931</td>\n      <td>355941</td>\n      <td>10</td>\n    </tr>\n    <tr>\n      <th>...</th>\n      <td>...</td>\n      <td>...</td>\n      <td>...</td>\n      <td>...</td>\n      <td>...</td>\n      <td>...</td>\n    </tr>\n    <tr>\n      <th>1536315</th>\n      <td>2</td>\n      <td>67576</td>\n      <td>67587</td>\n      <td>68111</td>\n      <td>68122</td>\n      <td>11</td>\n    </tr>\n    <tr>\n      <th>1536316</th>\n      <td>2</td>\n      <td>57930</td>\n      <td>57940</td>\n      <td>58456</td>\n      <td>58466</td>\n      <td>10</td>\n    </tr>\n    <tr>\n      <th>1536317</th>\n      <td>2</td>\n      <td>55882</td>\n      <td>55892</td>\n      <td>56401</td>\n      <td>56411</td>\n      <td>10</td>\n    </tr>\n    <tr>\n      <th>1536318</th>\n      <td>2</td>\n      <td>90519</td>\n      <td>90534</td>\n      <td>91034</td>\n      <td>91049</td>\n      <td>15</td>\n    </tr>\n    <tr>\n      <th>1536319</th>\n      <td>2</td>\n      <td>1104</td>\n      <td>1115</td>\n      <td>1615</td>\n      <td>1626</td>\n      <td>11</td>\n    </tr>\n  </tbody>\n</table>\n<p>1536320 rows × 6 columns</p>\n</div>"
     },
     "execution_count": 3,
     "metadata": {},
     "output_type": "execute_result"
    }
   ],
   "source": [
    "repeats"
   ],
   "metadata": {
    "collapsed": false,
    "pycharm": {
     "name": "#%%\n"
    }
   }
  },
  {
   "cell_type": "markdown",
   "source": [
    "So, first match (=repeat) 156785-156796 (exclude last character) has 11 matches in the chromosome:\n",
    "\n",
    "355578-355588 (this one is in the same row as the original match)\n",
    "\n",
    "452879-452889\n",
    "\n",
    "753332-753342\n",
    "\n",
    "1126877-1126887\n",
    "\n",
    "...\n",
    "and so on\n",
    "\n",
    "Can you find these coords in the table?\n",
    "\n",
    "(you can just grep the original output file)\n",
    "\n",
    "```\n",
    " $ grep \"156785\" perfect.spacer.id\n",
    ">1:157454-360569:34544:156785:11m\n",
    ">1:434016-635175:156785:183822:10m\n",
    ">1:1054774-1255306:39708:156785:11m\n",
    ">1:1261074-1464189:89622:156785:11m\n",
    ">1:1358770-1559935:154610:156785:10m\n",
    ">1:1359933-1561473:4250:156785:10m\n",
    ">1:1527329-1728974:27411:156785:10m\n",
    ">1:1679323-1880692:114499:156785:10m\n",
    ">1:1736873-1938041:140950:156785:13m\n",
    ">1:2246869-2447236:51288:156785:10m\n",
    ">1:2247221-2447552:2073:156785:10m\n",
    ">1:3032219-3233453:57464:156785:10m\n",
    ">1:3032219-3233453:144235:156785:12m\n",
    ">1:3522920-3724079:145392:156785:10m\n",
    ">1:4242343-4443376:156785:157479:10m\n",
    "```\n",
    "\n",
    "which is 15 times\n",
    "\n",
    "it means that we can find 156785 in columns **start_1** and in **end_2**\n",
    "\n",
    "But IRL I can't do this"
   ],
   "metadata": {
    "collapsed": false
   }
  },
  {
   "cell_type": "code",
   "execution_count": 9,
   "outputs": [
    {
     "data": {
      "text/plain": "Empty DataFrame\nColumns: [record_id, start_1, end_1, start_2, end_2, length]\nIndex: []",
      "text/html": "<div>\n<style scoped>\n    .dataframe tbody tr th:only-of-type {\n        vertical-align: middle;\n    }\n\n    .dataframe tbody tr th {\n        vertical-align: top;\n    }\n\n    .dataframe thead th {\n        text-align: right;\n    }\n</style>\n<table border=\"1\" class=\"dataframe\">\n  <thead>\n    <tr style=\"text-align: right;\">\n      <th></th>\n      <th>record_id</th>\n      <th>start_1</th>\n      <th>end_1</th>\n      <th>start_2</th>\n      <th>end_2</th>\n      <th>length</th>\n    </tr>\n  </thead>\n  <tbody>\n  </tbody>\n</table>\n</div>"
     },
     "execution_count": 9,
     "metadata": {},
     "output_type": "execute_result"
    }
   ],
   "source": [
    "repeats[repeats.end_2 == 156785]\n"
   ],
   "metadata": {
    "collapsed": false,
    "pycharm": {
     "name": "#%%\n"
    }
   }
  },
  {
   "cell_type": "code",
   "execution_count": 10,
   "outputs": [
    {
     "data": {
      "text/plain": "  record_id  start_1   end_1  start_2   end_2  length\n0         1   156785  156796   355577  355588      11",
      "text/html": "<div>\n<style scoped>\n    .dataframe tbody tr th:only-of-type {\n        vertical-align: middle;\n    }\n\n    .dataframe tbody tr th {\n        vertical-align: top;\n    }\n\n    .dataframe thead th {\n        text-align: right;\n    }\n</style>\n<table border=\"1\" class=\"dataframe\">\n  <thead>\n    <tr style=\"text-align: right;\">\n      <th></th>\n      <th>record_id</th>\n      <th>start_1</th>\n      <th>end_1</th>\n      <th>start_2</th>\n      <th>end_2</th>\n      <th>length</th>\n    </tr>\n  </thead>\n  <tbody>\n    <tr>\n      <th>0</th>\n      <td>1</td>\n      <td>156785</td>\n      <td>156796</td>\n      <td>355577</td>\n      <td>355588</td>\n      <td>11</td>\n    </tr>\n  </tbody>\n</table>\n</div>"
     },
     "execution_count": 10,
     "metadata": {},
     "output_type": "execute_result"
    }
   ],
   "source": [
    "repeats[repeats.start_1 == 156785]"
   ],
   "metadata": {
    "collapsed": false,
    "pycharm": {
     "name": "#%%\n"
    }
   }
  },
  {
   "cell_type": "code",
   "execution_count": 11,
   "outputs": [
    {
     "data": {
      "text/plain": "      record_id  start_1   end_1  start_2   end_2  length\n4259          1   191998  192009   314228  314239      11\n30647         1   191998  192009   314228  314239      11\n57257         1   191998  192009   314228  314239      11",
      "text/html": "<div>\n<style scoped>\n    .dataframe tbody tr th:only-of-type {\n        vertical-align: middle;\n    }\n\n    .dataframe tbody tr th {\n        vertical-align: top;\n    }\n\n    .dataframe thead th {\n        text-align: right;\n    }\n</style>\n<table border=\"1\" class=\"dataframe\">\n  <thead>\n    <tr style=\"text-align: right;\">\n      <th></th>\n      <th>record_id</th>\n      <th>start_1</th>\n      <th>end_1</th>\n      <th>start_2</th>\n      <th>end_2</th>\n      <th>length</th>\n    </tr>\n  </thead>\n  <tbody>\n    <tr>\n      <th>4259</th>\n      <td>1</td>\n      <td>191998</td>\n      <td>192009</td>\n      <td>314228</td>\n      <td>314239</td>\n      <td>11</td>\n    </tr>\n    <tr>\n      <th>30647</th>\n      <td>1</td>\n      <td>191998</td>\n      <td>192009</td>\n      <td>314228</td>\n      <td>314239</td>\n      <td>11</td>\n    </tr>\n    <tr>\n      <th>57257</th>\n      <td>1</td>\n      <td>191998</td>\n      <td>192009</td>\n      <td>314228</td>\n      <td>314239</td>\n      <td>11</td>\n    </tr>\n  </tbody>\n</table>\n</div>"
     },
     "execution_count": 11,
     "metadata": {},
     "output_type": "execute_result"
    }
   ],
   "source": [
    "a = 157454+34544\n",
    "\n",
    "repeats[repeats.start_1 == a]"
   ],
   "metadata": {
    "collapsed": false,
    "pycharm": {
     "name": "#%%\n"
    }
   }
  },
  {
   "cell_type": "markdown",
   "source": [
    "there are duplicated rows!\n"
   ],
   "metadata": {
    "collapsed": false,
    "pycharm": {
     "name": "#%% md\n"
    }
   }
  },
  {
   "cell_type": "code",
   "execution_count": 13,
   "outputs": [
    {
     "data": {
      "text/plain": "     record_id  start_1   end_1  start_2   end_2  length\n4259         1   191998  192009   314228  314239      11",
      "text/html": "<div>\n<style scoped>\n    .dataframe tbody tr th:only-of-type {\n        vertical-align: middle;\n    }\n\n    .dataframe tbody tr th {\n        vertical-align: top;\n    }\n\n    .dataframe thead th {\n        text-align: right;\n    }\n</style>\n<table border=\"1\" class=\"dataframe\">\n  <thead>\n    <tr style=\"text-align: right;\">\n      <th></th>\n      <th>record_id</th>\n      <th>start_1</th>\n      <th>end_1</th>\n      <th>start_2</th>\n      <th>end_2</th>\n      <th>length</th>\n    </tr>\n  </thead>\n  <tbody>\n    <tr>\n      <th>4259</th>\n      <td>1</td>\n      <td>191998</td>\n      <td>192009</td>\n      <td>314228</td>\n      <td>314239</td>\n      <td>11</td>\n    </tr>\n  </tbody>\n</table>\n</div>"
     },
     "execution_count": 13,
     "metadata": {},
     "output_type": "execute_result"
    }
   ],
   "source": [
    "repeats.drop_duplicates(inplace=True)\n",
    "\n",
    "repeats[repeats.start_1 == a]"
   ],
   "metadata": {
    "collapsed": false,
    "pycharm": {
     "name": "#%%\n"
    }
   }
  }
 ],
 "metadata": {
  "kernelspec": {
   "display_name": "Python 3",
   "language": "python",
   "name": "python3"
  },
  "language_info": {
   "codemirror_mode": {
    "name": "ipython",
    "version": 2
   },
   "file_extension": ".py",
   "mimetype": "text/x-python",
   "name": "python",
   "nbconvert_exporter": "python",
   "pygments_lexer": "ipython2",
   "version": "2.7.6"
  }
 },
 "nbformat": 4,
 "nbformat_minor": 0
}