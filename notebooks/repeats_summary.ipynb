{
 "cells": [
  {
   "cell_type": "code",
   "execution_count": 1,
   "metadata": {
    "collapsed": false,
    "jupyter": {
     "outputs_hidden": false
    },
    "pycharm": {
     "name": "#%%\n"
    }
   },
   "outputs": [],
   "source": [
    "import sys\n",
    "sys.path.append(\"/home/andrei/GitProjects/HeteroR/workflow/scripts\")\n",
    "from GRF_parser import parse_grf_output\n",
    "import pandas as pd"
   ]
  },
  {
   "cell_type": "markdown",
   "metadata": {
    "pycharm": {
     "name": "#%% md\n"
    }
   },
   "source": [
    "# Intro\n",
    "Here you'll find some summary and plots related to direct repeats found in our strains by GRF\n",
    "\n",
    "Last update:"
   ]
  },
  {
   "cell_type": "code",
   "execution_count": 2,
   "metadata": {
    "collapsed": false,
    "jupyter": {
     "outputs_hidden": false
    },
    "pycharm": {
     "name": "#%%\n"
    }
   },
   "outputs": [
    {
     "data": {
      "text/plain": [
       "'2021-12-17 13:35:48.556587'"
      ]
     },
     "execution_count": 2,
     "metadata": {},
     "output_type": "execute_result"
    }
   ],
   "source": [
    "str(pd.to_datetime('today'))"
   ]
  },
  {
   "cell_type": "markdown",
   "metadata": {
    "pycharm": {
     "name": "#%% md\n"
    }
   },
   "source": [
    "So far 11 strains were processed using GRF. Here they are:"
   ]
  },
  {
   "cell_type": "code",
   "execution_count": 3,
   "metadata": {
    "collapsed": true,
    "jupyter": {
     "outputs_hidden": true
    }
   },
   "outputs": [
    {
     "name": "stdout",
     "output_type": "stream",
     "text": [
      "/home/andrei/Data/HeteroR/results/direct_repeats\n",
      "\u001b[0m\u001b[01;34mDA62886\u001b[0m/  \u001b[01;34mDA63052\u001b[0m/  \u001b[01;34mDA63160\u001b[0m/  \u001b[01;34mDA63362\u001b[0m/  \u001b[01;34mDA63680\u001b[0m/  \u001b[01;34mDA63752\u001b[0m/  \u001b[01;34mDA63876\u001b[0m/  \u001b[01;34mDA63980\u001b[0m/\n",
      "\u001b[01;34mDA62892\u001b[0m/  \u001b[01;34mDA63054\u001b[0m/  \u001b[01;34mDA63178\u001b[0m/  \u001b[01;34mDA63366\u001b[0m/  \u001b[01;34mDA63682\u001b[0m/  \u001b[01;34mDA63758\u001b[0m/  \u001b[01;34mDA63882\u001b[0m/  \u001b[01;34mDA63988\u001b[0m/\n",
      "\u001b[01;34mDA62902\u001b[0m/  \u001b[01;34mDA63060\u001b[0m/  \u001b[01;34mDA63182\u001b[0m/  \u001b[01;34mDA63368\u001b[0m/  \u001b[01;34mDA63684\u001b[0m/  \u001b[01;34mDA63760\u001b[0m/  \u001b[01;34mDA63884\u001b[0m/  \u001b[01;34mDA64000\u001b[0m/\n",
      "\u001b[01;34mDA62918\u001b[0m/  \u001b[01;34mDA63062\u001b[0m/  \u001b[01;34mDA63186\u001b[0m/  \u001b[01;34mDA63382\u001b[0m/  \u001b[01;34mDA63686\u001b[0m/  \u001b[01;34mDA63766\u001b[0m/  \u001b[01;34mDA63888\u001b[0m/  \u001b[01;34mDA64002\u001b[0m/\n",
      "\u001b[01;34mDA62920\u001b[0m/  \u001b[01;34mDA63082\u001b[0m/  \u001b[01;34mDA63210\u001b[0m/  \u001b[01;34mDA63570\u001b[0m/  \u001b[01;34mDA63688\u001b[0m/  \u001b[01;34mDA63770\u001b[0m/  \u001b[01;34mDA63890\u001b[0m/  \u001b[01;34mDA64004\u001b[0m/\n",
      "\u001b[01;34mDA62942\u001b[0m/  \u001b[01;34mDA63084\u001b[0m/  \u001b[01;34mDA63218\u001b[0m/  \u001b[01;34mDA63594\u001b[0m/  \u001b[01;34mDA63690\u001b[0m/  \u001b[01;34mDA63776\u001b[0m/  \u001b[01;34mDA63900\u001b[0m/  \u001b[01;34mDA64006\u001b[0m/\n",
      "\u001b[01;34mDA62944\u001b[0m/  \u001b[01;34mDA63094\u001b[0m/  \u001b[01;34mDA63226\u001b[0m/  \u001b[01;34mDA63596\u001b[0m/  \u001b[01;34mDA63696\u001b[0m/  \u001b[01;34mDA63784\u001b[0m/  \u001b[01;34mDA63914\u001b[0m/  \u001b[01;34mDA64014\u001b[0m/\n",
      "\u001b[01;34mDA62946\u001b[0m/  \u001b[01;34mDA63098\u001b[0m/  \u001b[01;34mDA63244\u001b[0m/  \u001b[01;34mDA63608\u001b[0m/  \u001b[01;34mDA63702\u001b[0m/  \u001b[01;34mDA63790\u001b[0m/  \u001b[01;34mDA63916\u001b[0m/  \u001b[01;34mDA64024\u001b[0m/\n",
      "\u001b[01;34mDA62954\u001b[0m/  \u001b[01;34mDA63102\u001b[0m/  \u001b[01;34mDA63248\u001b[0m/  \u001b[01;34mDA63626\u001b[0m/  \u001b[01;34mDA63706\u001b[0m/  \u001b[01;34mDA63816\u001b[0m/  \u001b[01;34mDA63918\u001b[0m/  \u001b[01;34mDA64026\u001b[0m/\n",
      "\u001b[01;34mDA62958\u001b[0m/  \u001b[01;34mDA63106\u001b[0m/  \u001b[01;34mDA63252\u001b[0m/  \u001b[01;34mDA63640\u001b[0m/  \u001b[01;34mDA63710\u001b[0m/  \u001b[01;34mDA63818\u001b[0m/  \u001b[01;34mDA63926\u001b[0m/  \u001b[01;34mDA64030\u001b[0m/\n",
      "\u001b[01;34mDA62978\u001b[0m/  \u001b[01;34mDA63112\u001b[0m/  \u001b[01;34mDA63254\u001b[0m/  \u001b[01;34mDA63642\u001b[0m/  \u001b[01;34mDA63714\u001b[0m/  \u001b[01;34mDA63826\u001b[0m/  \u001b[01;34mDA63940\u001b[0m/  \u001b[01;34mDA64048\u001b[0m/\n",
      "\u001b[01;34mDA62998\u001b[0m/  \u001b[01;34mDA63122\u001b[0m/  \u001b[01;34mDA63264\u001b[0m/  \u001b[01;34mDA63644\u001b[0m/  \u001b[01;34mDA63718\u001b[0m/  \u001b[01;34mDA63828\u001b[0m/  \u001b[01;34mDA63942\u001b[0m/  \u001b[01;34mDA64058\u001b[0m/\n",
      "\u001b[01;34mDA63002\u001b[0m/  \u001b[01;34mDA63126\u001b[0m/  \u001b[01;34mDA63322\u001b[0m/  \u001b[01;34mDA63648\u001b[0m/  \u001b[01;34mDA63722\u001b[0m/  \u001b[01;34mDA63836\u001b[0m/  \u001b[01;34mDA63946\u001b[0m/  \u001b[01;34mDA64060\u001b[0m/\n",
      "\u001b[01;34mDA63004\u001b[0m/  \u001b[01;34mDA63128\u001b[0m/  \u001b[01;34mDA63334\u001b[0m/  \u001b[01;34mDA63656\u001b[0m/  \u001b[01;34mDA63726\u001b[0m/  \u001b[01;34mDA63838\u001b[0m/  \u001b[01;34mDA63950\u001b[0m/\n",
      "\u001b[01;34mDA63026\u001b[0m/  \u001b[01;34mDA63138\u001b[0m/  \u001b[01;34mDA63336\u001b[0m/  \u001b[01;34mDA63660\u001b[0m/  \u001b[01;34mDA63728\u001b[0m/  \u001b[01;34mDA63850\u001b[0m/  \u001b[01;34mDA63958\u001b[0m/\n",
      "\u001b[01;34mDA63030\u001b[0m/  \u001b[01;34mDA63146\u001b[0m/  \u001b[01;34mDA63340\u001b[0m/  \u001b[01;34mDA63662\u001b[0m/  \u001b[01;34mDA63730\u001b[0m/  \u001b[01;34mDA63854\u001b[0m/  \u001b[01;34mDA63960\u001b[0m/\n",
      "\u001b[01;34mDA63040\u001b[0m/  \u001b[01;34mDA63150\u001b[0m/  \u001b[01;34mDA63346\u001b[0m/  \u001b[01;34mDA63668\u001b[0m/  \u001b[01;34mDA63738\u001b[0m/  \u001b[01;34mDA63862\u001b[0m/  \u001b[01;34mDA63964\u001b[0m/\n",
      "\u001b[01;34mDA63044\u001b[0m/  \u001b[01;34mDA63152\u001b[0m/  \u001b[01;34mDA63350\u001b[0m/  \u001b[01;34mDA63672\u001b[0m/  \u001b[01;34mDA63744\u001b[0m/  \u001b[01;34mDA63870\u001b[0m/  \u001b[01;34mDA63968\u001b[0m/\n",
      "\u001b[01;34mDA63046\u001b[0m/  \u001b[01;34mDA63158\u001b[0m/  \u001b[01;34mDA63360\u001b[0m/  \u001b[01;34mDA63676\u001b[0m/  \u001b[01;34mDA63746\u001b[0m/  \u001b[01;34mDA63874\u001b[0m/  \u001b[01;34mDA63972\u001b[0m/\n"
     ]
    }
   ],
   "source": [
    "%cd \"/home/andrei/Data/HeteroR/results/direct_repeats/\"\n",
    "%ls"
   ]
  },
  {
   "cell_type": "markdown",
   "metadata": {},
   "source": [
    "Now I have some results of repeats analysis in 11 strains.\n",
    "For strain DA62886 GRF found 1.4 million repeats with the following settings (minimal repeat length 10 bp, no mismatches):\n",
    "\n",
    "`grf-main -i regions_output.fasta -c 2 -o DA62886_perfect_repeats_GRF_test -t 10 --min_tr 10 -f 1 --max_mismatch\n",
    "0 --seed_mismatch 0 --max_space 204000 --min_space 500`\n",
    "\n",
    "Some repeats were counted more than once, so duplicates are removed from the table below\n",
    "\n",
    "Results look like this:"
   ]
  },
  {
   "cell_type": "code",
   "execution_count": 4,
   "metadata": {
    "collapsed": false,
    "jupyter": {
     "outputs_hidden": false
    },
    "pycharm": {
     "name": "#%%\n"
    }
   },
   "outputs": [
    {
     "data": {
      "text/html": [
       "<div>\n",
       "<style scoped>\n",
       "    .dataframe tbody tr th:only-of-type {\n",
       "        vertical-align: middle;\n",
       "    }\n",
       "\n",
       "    .dataframe tbody tr th {\n",
       "        vertical-align: top;\n",
       "    }\n",
       "\n",
       "    .dataframe thead th {\n",
       "        text-align: right;\n",
       "    }\n",
       "</style>\n",
       "<table border=\"1\" class=\"dataframe\">\n",
       "  <thead>\n",
       "    <tr style=\"text-align: right;\">\n",
       "      <th></th>\n",
       "      <th>record_id</th>\n",
       "      <th>start_1</th>\n",
       "      <th>end_1</th>\n",
       "      <th>start_2</th>\n",
       "      <th>end_2</th>\n",
       "      <th>length</th>\n",
       "      <th>strain</th>\n",
       "    </tr>\n",
       "  </thead>\n",
       "  <tbody>\n",
       "    <tr>\n",
       "      <th>0</th>\n",
       "      <td>1</td>\n",
       "      <td>123259</td>\n",
       "      <td>123269</td>\n",
       "      <td>323162</td>\n",
       "      <td>323172</td>\n",
       "      <td>10</td>\n",
       "      <td>DA63668</td>\n",
       "    </tr>\n",
       "    <tr>\n",
       "      <th>1</th>\n",
       "      <td>1</td>\n",
       "      <td>124227</td>\n",
       "      <td>124237</td>\n",
       "      <td>322983</td>\n",
       "      <td>322993</td>\n",
       "      <td>10</td>\n",
       "      <td>DA63668</td>\n",
       "    </tr>\n",
       "    <tr>\n",
       "      <th>2</th>\n",
       "      <td>1</td>\n",
       "      <td>124249</td>\n",
       "      <td>124259</td>\n",
       "      <td>322600</td>\n",
       "      <td>322610</td>\n",
       "      <td>10</td>\n",
       "      <td>DA63668</td>\n",
       "    </tr>\n",
       "    <tr>\n",
       "      <th>3</th>\n",
       "      <td>1</td>\n",
       "      <td>124164</td>\n",
       "      <td>124175</td>\n",
       "      <td>322029</td>\n",
       "      <td>322040</td>\n",
       "      <td>11</td>\n",
       "      <td>DA63668</td>\n",
       "    </tr>\n",
       "    <tr>\n",
       "      <th>4</th>\n",
       "      <td>1</td>\n",
       "      <td>125381</td>\n",
       "      <td>125393</td>\n",
       "      <td>323221</td>\n",
       "      <td>323233</td>\n",
       "      <td>12</td>\n",
       "      <td>DA63668</td>\n",
       "    </tr>\n",
       "    <tr>\n",
       "      <th>...</th>\n",
       "      <td>...</td>\n",
       "      <td>...</td>\n",
       "      <td>...</td>\n",
       "      <td>...</td>\n",
       "      <td>...</td>\n",
       "      <td>...</td>\n",
       "      <td>...</td>\n",
       "    </tr>\n",
       "    <tr>\n",
       "      <th>1556362</th>\n",
       "      <td>9</td>\n",
       "      <td>59429</td>\n",
       "      <td>59440</td>\n",
       "      <td>59970</td>\n",
       "      <td>59981</td>\n",
       "      <td>11</td>\n",
       "      <td>DA64024</td>\n",
       "    </tr>\n",
       "    <tr>\n",
       "      <th>1556363</th>\n",
       "      <td>9</td>\n",
       "      <td>49987</td>\n",
       "      <td>49997</td>\n",
       "      <td>50517</td>\n",
       "      <td>50527</td>\n",
       "      <td>10</td>\n",
       "      <td>DA64024</td>\n",
       "    </tr>\n",
       "    <tr>\n",
       "      <th>1556364</th>\n",
       "      <td>9</td>\n",
       "      <td>1096</td>\n",
       "      <td>1113</td>\n",
       "      <td>1612</td>\n",
       "      <td>1629</td>\n",
       "      <td>17</td>\n",
       "      <td>DA64024</td>\n",
       "    </tr>\n",
       "    <tr>\n",
       "      <th>1556365</th>\n",
       "      <td>9</td>\n",
       "      <td>67459</td>\n",
       "      <td>67469</td>\n",
       "      <td>67974</td>\n",
       "      <td>67984</td>\n",
       "      <td>10</td>\n",
       "      <td>DA64024</td>\n",
       "    </tr>\n",
       "    <tr>\n",
       "      <th>1556366</th>\n",
       "      <td>9</td>\n",
       "      <td>40682</td>\n",
       "      <td>40692</td>\n",
       "      <td>41191</td>\n",
       "      <td>41201</td>\n",
       "      <td>10</td>\n",
       "      <td>DA64024</td>\n",
       "    </tr>\n",
       "  </tbody>\n",
       "</table>\n",
       "<p>16921792 rows × 7 columns</p>\n",
       "</div>"
      ],
      "text/plain": [
       "        record_id  start_1   end_1  start_2   end_2  length   strain\n",
       "0               1   123259  123269   323162  323172      10  DA63668\n",
       "1               1   124227  124237   322983  322993      10  DA63668\n",
       "2               1   124249  124259   322600  322610      10  DA63668\n",
       "3               1   124164  124175   322029  322040      11  DA63668\n",
       "4               1   125381  125393   323221  323233      12  DA63668\n",
       "...           ...      ...     ...      ...     ...     ...      ...\n",
       "1556362         9    59429   59440    59970   59981      11  DA64024\n",
       "1556363         9    49987   49997    50517   50527      10  DA64024\n",
       "1556364         9     1096    1113     1612    1629      17  DA64024\n",
       "1556365         9    67459   67469    67974   67984      10  DA64024\n",
       "1556366         9    40682   40692    41191   41201      10  DA64024\n",
       "\n",
       "[16921792 rows x 7 columns]"
      ]
     },
     "execution_count": 4,
     "metadata": {},
     "output_type": "execute_result"
    }
   ],
   "source": [
    "import glob\n",
    "\n",
    "def make_repeats_df(spacer_file, strain_index=0):\n",
    "    # remove duplicated rows!\n",
    "    with open(spacer_file) as f:\n",
    "        output_lines = [line.rstrip() for line in f.readlines()]\n",
    "    parsed_lines = [parse_grf_output(line) for line in output_lines]\n",
    "    spacer_df = pd.DataFrame(columns=[\"record_id\", \"start_1\", \"end_1\", \"start_2\", \"end_2\", \"length\"], data=parsed_lines)\n",
    "    spacer_df[\"strain\"] = spacer_file.split(\"/\")[strain_index]\n",
    "    return spacer_df\n",
    "\n",
    "\n",
    "# read spacer files and make DF for each\n",
    "grf_results_df =pd.concat([make_repeats_df(file) for file in glob.glob(\"DA*/repeats/perfect.spacer.id\")])\n",
    "\n",
    "grf_results_df"
   ]
  },
  {
   "cell_type": "code",
   "execution_count": 5,
   "metadata": {
    "collapsed": false,
    "jupyter": {
     "outputs_hidden": false
    },
    "pycharm": {
     "name": "#%%\n"
    }
   },
   "outputs": [],
   "source": [
    "grf_results_df.drop_duplicates(inplace=True)"
   ]
  },
  {
   "cell_type": "markdown",
   "metadata": {
    "pycharm": {
     "name": "#%% md\n"
    }
   },
   "source": [
    "# Number of repeats per strain\n",
    "\n",
    "### As a table"
   ]
  },
  {
   "cell_type": "code",
   "execution_count": 6,
   "metadata": {
    "collapsed": false,
    "jupyter": {
     "outputs_hidden": false
    },
    "pycharm": {
     "name": "#%%\n"
    }
   },
   "outputs": [
    {
     "data": {
      "text/html": [
       "<div>\n",
       "<style scoped>\n",
       "    .dataframe tbody tr th:only-of-type {\n",
       "        vertical-align: middle;\n",
       "    }\n",
       "\n",
       "    .dataframe tbody tr th {\n",
       "        vertical-align: top;\n",
       "    }\n",
       "\n",
       "    .dataframe thead th {\n",
       "        text-align: right;\n",
       "    }\n",
       "</style>\n",
       "<table border=\"1\" class=\"dataframe\">\n",
       "  <thead>\n",
       "    <tr style=\"text-align: right;\">\n",
       "      <th></th>\n",
       "      <th>counts</th>\n",
       "      <th>strain</th>\n",
       "    </tr>\n",
       "  </thead>\n",
       "  <tbody>\n",
       "    <tr>\n",
       "      <th>DA63726</th>\n",
       "      <td>689221</td>\n",
       "      <td>DA63726</td>\n",
       "    </tr>\n",
       "    <tr>\n",
       "      <th>DA63026</th>\n",
       "      <td>673534</td>\n",
       "      <td>DA63026</td>\n",
       "    </tr>\n",
       "    <tr>\n",
       "      <th>DA63862</th>\n",
       "      <td>670311</td>\n",
       "      <td>DA63862</td>\n",
       "    </tr>\n",
       "    <tr>\n",
       "      <th>DA63850</th>\n",
       "      <td>630109</td>\n",
       "      <td>DA63850</td>\n",
       "    </tr>\n",
       "    <tr>\n",
       "      <th>DA63366</th>\n",
       "      <td>624716</td>\n",
       "      <td>DA63366</td>\n",
       "    </tr>\n",
       "    <tr>\n",
       "      <th>DA63702</th>\n",
       "      <td>623753</td>\n",
       "      <td>DA63702</td>\n",
       "    </tr>\n",
       "    <tr>\n",
       "      <th>DA64024</th>\n",
       "      <td>613124</td>\n",
       "      <td>DA64024</td>\n",
       "    </tr>\n",
       "    <tr>\n",
       "      <th>DA62886</th>\n",
       "      <td>610817</td>\n",
       "      <td>DA62886</td>\n",
       "    </tr>\n",
       "    <tr>\n",
       "      <th>DA63668</th>\n",
       "      <td>608037</td>\n",
       "      <td>DA63668</td>\n",
       "    </tr>\n",
       "    <tr>\n",
       "      <th>DA63776</th>\n",
       "      <td>604903</td>\n",
       "      <td>DA63776</td>\n",
       "    </tr>\n",
       "    <tr>\n",
       "      <th>DA63084</th>\n",
       "      <td>601705</td>\n",
       "      <td>DA63084</td>\n",
       "    </tr>\n",
       "  </tbody>\n",
       "</table>\n",
       "</div>"
      ],
      "text/plain": [
       "         counts   strain\n",
       "DA63726  689221  DA63726\n",
       "DA63026  673534  DA63026\n",
       "DA63862  670311  DA63862\n",
       "DA63850  630109  DA63850\n",
       "DA63366  624716  DA63366\n",
       "DA63702  623753  DA63702\n",
       "DA64024  613124  DA64024\n",
       "DA62886  610817  DA62886\n",
       "DA63668  608037  DA63668\n",
       "DA63776  604903  DA63776\n",
       "DA63084  601705  DA63084"
      ]
     },
     "execution_count": 6,
     "metadata": {},
     "output_type": "execute_result"
    }
   ],
   "source": [
    "nrows_df = pd.DataFrame(grf_results_df[\"strain\"].value_counts())\n",
    "nrows_df = nrows_df.rename(columns={\"strain\": \"counts\"})\n",
    "nrows_df[\"strain\"] = nrows_df.index\n",
    "nrows_df"
   ]
  },
  {
   "cell_type": "markdown",
   "metadata": {
    "pycharm": {
     "name": "#%% md\n"
    }
   },
   "source": [
    "### As a barplot"
   ]
  },
  {
   "cell_type": "code",
   "execution_count": 7,
   "metadata": {
    "collapsed": false,
    "jupyter": {
     "outputs_hidden": false
    },
    "pycharm": {
     "name": "#%%\n"
    }
   },
   "outputs": [
    {
     "data": {
      "text/plain": [
       "<AxesSubplot:xlabel='strain', ylabel='counts'>"
      ]
     },
     "execution_count": 7,
     "metadata": {},
     "output_type": "execute_result"
    },
    {
     "data": {
      "image/png": "[encoded data removed]",
      "text/plain": [
       "<Figure size 1152x432 with 1 Axes>"
      ]
     },
     "metadata": {
      "needs_background": "light"
     },
     "output_type": "display_data"
    }
   ],
   "source": [
    "import matplotlib.pyplot as plt\n",
    "import seaborn as sns\n",
    "%matplotlib inline\n",
    "plt.figure(figsize=(16,6))\n",
    "\n",
    "sns.barplot(x=\"strain\", y=\"counts\", data=nrows_df)\n"
   ]
  },
  {
   "cell_type": "markdown",
   "metadata": {},
   "source": [
    "# Repeat length distribution\n"
   ]
  },
  {
   "cell_type": "code",
   "execution_count": 20,
   "metadata": {
    "collapsed": false,
    "jupyter": {
     "outputs_hidden": false
    },
    "pycharm": {
     "name": "#%%\n"
    }
   },
   "outputs": [
    {
     "data": {
      "text/plain": [
       "[None]"
      ]
     },
     "execution_count": 20,
     "metadata": {},
     "output_type": "execute_result"
    },
    {
     "data": {
      "image/png": "[encoded data removed]",
      "text/plain": [
       "<Figure size 1152x432 with 1 Axes>"
      ]
     },
     "metadata": {
      "needs_background": "light"
     },
     "output_type": "display_data"
    }
   ],
   "source": [
    "plt.figure(figsize=(16, 6))\n",
    "\n",
    "bxplt = sns.boxplot(x=\"strain\", y=\"length\", data=grf_results_df)\n",
    "bxplt.set(yscale=\"log\")"
   ]
  },
  {
   "cell_type": "markdown",
   "metadata": {},
   "source": [
    "# Test run of GRF for imperfect repeats\n",
    "\n",
    "As it was planned - max mismatch 10%\n",
    "\n",
    "`grf-main -i regions.fasta -c 2 -o out_mismatch10 -t 14 --min_tr 10 -f 1 --max_mismatch 10 --seed_mismatch 0 --max_space 205000 --min_space 500`\n",
    "\n",
    "it gives 1 394 678 lines"
   ]
  },
  {
   "cell_type": "code",
   "execution_count": 8,
   "metadata": {
    "collapsed": false,
    "jupyter": {
     "outputs_hidden": false
    },
    "pycharm": {
     "name": "#%%\n"
    }
   },
   "outputs": [
    {
     "data": {
      "text/html": [
       "<div>\n",
       "<style scoped>\n",
       "    .dataframe tbody tr th:only-of-type {\n",
       "        vertical-align: middle;\n",
       "    }\n",
       "\n",
       "    .dataframe tbody tr th {\n",
       "        vertical-align: top;\n",
       "    }\n",
       "\n",
       "    .dataframe thead th {\n",
       "        text-align: right;\n",
       "    }\n",
       "</style>\n",
       "<table border=\"1\" class=\"dataframe\">\n",
       "  <thead>\n",
       "    <tr style=\"text-align: right;\">\n",
       "      <th></th>\n",
       "      <th>record_id</th>\n",
       "      <th>start_1</th>\n",
       "      <th>end_1</th>\n",
       "      <th>start_2</th>\n",
       "      <th>end_2</th>\n",
       "      <th>length</th>\n",
       "      <th>strain</th>\n",
       "    </tr>\n",
       "  </thead>\n",
       "  <tbody>\n",
       "    <tr>\n",
       "      <th>0</th>\n",
       "      <td>1</td>\n",
       "      <td>156785</td>\n",
       "      <td>156796</td>\n",
       "      <td>355577</td>\n",
       "      <td>355588</td>\n",
       "      <td>11</td>\n",
       "      <td>DA63366</td>\n",
       "    </tr>\n",
       "    <tr>\n",
       "      <th>1</th>\n",
       "      <td>1</td>\n",
       "      <td>155793</td>\n",
       "      <td>155803</td>\n",
       "      <td>354429</td>\n",
       "      <td>354439</td>\n",
       "      <td>10</td>\n",
       "      <td>DA63366</td>\n",
       "    </tr>\n",
       "    <tr>\n",
       "      <th>2</th>\n",
       "      <td>1</td>\n",
       "      <td>156991</td>\n",
       "      <td>157004</td>\n",
       "      <td>355523</td>\n",
       "      <td>355536</td>\n",
       "      <td>13</td>\n",
       "      <td>DA63366</td>\n",
       "    </tr>\n",
       "    <tr>\n",
       "      <th>3</th>\n",
       "      <td>1</td>\n",
       "      <td>155876</td>\n",
       "      <td>155886</td>\n",
       "      <td>354108</td>\n",
       "      <td>354118</td>\n",
       "      <td>10</td>\n",
       "      <td>DA63366</td>\n",
       "    </tr>\n",
       "    <tr>\n",
       "      <th>4</th>\n",
       "      <td>1</td>\n",
       "      <td>157996</td>\n",
       "      <td>158006</td>\n",
       "      <td>355931</td>\n",
       "      <td>355941</td>\n",
       "      <td>10</td>\n",
       "      <td>DA63366</td>\n",
       "    </tr>\n",
       "    <tr>\n",
       "      <th>...</th>\n",
       "      <td>...</td>\n",
       "      <td>...</td>\n",
       "      <td>...</td>\n",
       "      <td>...</td>\n",
       "      <td>...</td>\n",
       "      <td>...</td>\n",
       "      <td>...</td>\n",
       "    </tr>\n",
       "    <tr>\n",
       "      <th>1394673</th>\n",
       "      <td>2</td>\n",
       "      <td>86562</td>\n",
       "      <td>86574</td>\n",
       "      <td>87116</td>\n",
       "      <td>87128</td>\n",
       "      <td>12</td>\n",
       "      <td>DA63366</td>\n",
       "    </tr>\n",
       "    <tr>\n",
       "      <th>1394674</th>\n",
       "      <td>2</td>\n",
       "      <td>67576</td>\n",
       "      <td>67587</td>\n",
       "      <td>68111</td>\n",
       "      <td>68122</td>\n",
       "      <td>11</td>\n",
       "      <td>DA63366</td>\n",
       "    </tr>\n",
       "    <tr>\n",
       "      <th>1394675</th>\n",
       "      <td>2</td>\n",
       "      <td>57930</td>\n",
       "      <td>57940</td>\n",
       "      <td>58456</td>\n",
       "      <td>58466</td>\n",
       "      <td>10</td>\n",
       "      <td>DA63366</td>\n",
       "    </tr>\n",
       "    <tr>\n",
       "      <th>1394676</th>\n",
       "      <td>2</td>\n",
       "      <td>90519</td>\n",
       "      <td>90534</td>\n",
       "      <td>91034</td>\n",
       "      <td>91049</td>\n",
       "      <td>15</td>\n",
       "      <td>DA63366</td>\n",
       "    </tr>\n",
       "    <tr>\n",
       "      <th>1394677</th>\n",
       "      <td>2</td>\n",
       "      <td>1104</td>\n",
       "      <td>1115</td>\n",
       "      <td>1615</td>\n",
       "      <td>1626</td>\n",
       "      <td>11</td>\n",
       "      <td>DA63366</td>\n",
       "    </tr>\n",
       "  </tbody>\n",
       "</table>\n",
       "<p>1394678 rows × 7 columns</p>\n",
       "</div>"
      ],
      "text/plain": [
       "        record_id  start_1   end_1  start_2   end_2  length   strain\n",
       "0               1   156785  156796   355577  355588      11  DA63366\n",
       "1               1   155793  155803   354429  354439      10  DA63366\n",
       "2               1   156991  157004   355523  355536      13  DA63366\n",
       "3               1   155876  155886   354108  354118      10  DA63366\n",
       "4               1   157996  158006   355931  355941      10  DA63366\n",
       "...           ...      ...     ...      ...     ...     ...      ...\n",
       "1394673         2    86562   86574    87116   87128      12  DA63366\n",
       "1394674         2    67576   67587    68111   68122      11  DA63366\n",
       "1394675         2    57930   57940    58456   58466      10  DA63366\n",
       "1394676         2    90519   90534    91034   91049      15  DA63366\n",
       "1394677         2     1104    1115     1615    1626      11  DA63366\n",
       "\n",
       "[1394678 rows x 7 columns]"
      ]
     },
     "execution_count": 8,
     "metadata": {},
     "output_type": "execute_result"
    }
   ],
   "source": [
    "mismatch_output = \"/home/andrei/Data/HeteroR/test_dir/GRF/DA63366/out_mismatch10/perfect.spacer.id\"\n",
    "\n",
    "mismatch_df = make_repeats_df(mismatch_output, strain_index=7)\n",
    "\n",
    "mismatch_df"
   ]
  },
  {
   "cell_type": "code",
   "execution_count": 9,
   "metadata": {
    "collapsed": false,
    "jupyter": {
     "outputs_hidden": false
    },
    "pycharm": {
     "name": "#%%\n"
    }
   },
   "outputs": [
    {
     "data": {
      "text/plain": [
       "567249"
      ]
     },
     "execution_count": 9,
     "metadata": {},
     "output_type": "execute_result"
    }
   ],
   "source": [
    "mismatch_df.drop_duplicates(inplace=True)\n",
    "len(mismatch_df)\n"
   ]
  },
  {
   "cell_type": "code",
   "execution_count": 10,
   "metadata": {
    "collapsed": false,
    "jupyter": {
     "outputs_hidden": false
    },
    "pycharm": {
     "name": "#%%\n"
    }
   },
   "outputs": [
    {
     "data": {
      "text/plain": [
       "6950230"
      ]
     },
     "execution_count": 10,
     "metadata": {},
     "output_type": "execute_result"
    }
   ],
   "source": [
    "len(grf_results_df.strain==\"DA63366\")"
   ]
  },
  {
   "cell_type": "code",
   "execution_count": 12,
   "metadata": {
    "collapsed": false,
    "jupyter": {
     "outputs_hidden": false
    },
    "pycharm": {
     "name": "#%%\n"
    }
   },
   "outputs": [
    {
     "data": {
      "text/plain": [
       "count    624716.000000\n",
       "mean         10.441657\n",
       "std           8.454774\n",
       "min          10.000000\n",
       "25%          10.000000\n",
       "50%          10.000000\n",
       "75%          11.000000\n",
       "max        4972.000000\n",
       "Name: length, dtype: float64"
      ]
     },
     "execution_count": 12,
     "metadata": {},
     "output_type": "execute_result"
    }
   ],
   "source": [
    "grf_results_df[grf_results_df.strain==\"DA63366\"].length.describe()"
   ]
  },
  {
   "cell_type": "markdown",
   "metadata": {},
   "source": [
    "a lot less without duplicates"
   ]
  },
  {
   "cell_type": "code",
   "execution_count": null,
   "metadata": {
    "collapsed": false,
    "jupyter": {
     "outputs_hidden": false
    },
    "pycharm": {
     "name": "#%%\n"
    }
   },
   "outputs": [
    {
     "data": {
      "image/png": "[encoded data removed]",
      "text/plain": [
       "<Figure size 1152x432 with 1 Axes>"
      ]
     },
     "metadata": {
      "needs_background": "light"
     },
     "output_type": "display_data"
    }
   ],
   "source": [
    "plt.figure(figsize=(16, 6))\n",
    "\n",
    "dstrplt = sns.distplot(mismatch_df.length, rug=True, bins=100)\n",
    "dstrplt.set(xscale=\"log\")"
   ]
  },
  {
   "cell_type": "markdown",
   "metadata": {},
   "source": [
    "# Repeat quantification\n",
    "\n",
    "For example, I will use strain 5 strains with annotated repeats:\n",
    "\n",
    "DA63084\n",
    "DA63186\n",
    "DA63322\n",
    "DA63946\n",
    "DA64026\n",
    "\n",
    "Parse GRF output using `GRF_parser.py`\n",
    "\n",
    ">\"perfect.id\": TDRs with perfect stems and no spacer in the middle.\n",
    "\"perfect.spacer.id\": TDRs with perfect stems and a spacer in the middle.\n",
    "\"imperfect.id\": TDRs with imperfect stems.\n",
    "\n",
    "Another question: size of amplifiable region: how to find? distance between repeats of similar length within one region and on the different?\n",
    "\n",
    "## Prepare function form GRF_parser.py"
   ]
  },
  {
   "cell_type": "code",
   "execution_count": 1,
   "metadata": {
    "collapsed": false,
    "jupyter": {
     "outputs_hidden": false
    },
    "pycharm": {
     "name": "#%%\n"
    }
   },
   "outputs": [],
   "source": [
    "from Bio import SeqIO\n",
    "from Bio.SeqFeature import SeqFeature, FeatureLocation, ExactPosition\n",
    "import pandas as pd\n",
    "#from BCBio import GFF\n",
    "import os\n",
    "\n",
    "# some functions from GRF_parser\n",
    "def parse_grf_output_w_ranges(header):\n",
    "    \"\"\"\n",
    "    MUST BE RE-WRITTEN (OR NOT) FOR A CASE WHEN A GENE NAME IS IN THE HEADER\n",
    "    :param header: a char string like '>1:0-190543:951:190482:14m' or '>1:155171-355997:1372:198472:10m1D3m'\n",
    "    :return: a list of values from parsed header\n",
    "    \"\"\"\n",
    "    first_split = header.split(\":\")\n",
    "    record_id = first_split[0][1:]\n",
    "    # this works for both mismatch or no mismatch types of output\n",
    "    repeat_len = int(first_split[-1].split(\"m\")[0])\n",
    "    range_ = first_split[1].split(\"-\")\n",
    "    range_start, range_end = int(range_[0]), int(range_[-1])\n",
    "    repeat_1_start_in_range = int(first_split[2])\n",
    "    repeat_2_end_in_range = int(first_split[3])\n",
    "\n",
    "    repeat_1_start_in_chrom = range_start + repeat_1_start_in_range\n",
    "    repeat_1_end_in_chrom = repeat_1_start_in_chrom + repeat_len\n",
    "\n",
    "    repeat_2_end_in_chrom = range_start + repeat_2_end_in_range\n",
    "    repeat_2_start_in_chrom = repeat_2_end_in_chrom - repeat_len\n",
    "\n",
    "    return [record_id, repeat_1_start_in_chrom, repeat_1_end_in_chrom, repeat_2_start_in_chrom,\n",
    "            repeat_2_end_in_chrom, repeat_len]\n",
    "\n",
    "\n",
    "def parse_grf_output_no_ranges(header):\n",
    "    \"\"\"\n",
    "    for newer version of grf files: '>IPFHMEHC_00036_gene:12520:113509:13m1I2m2I5m' or\n",
    "    '>IPFHMEHC_00036_gene:95122:101284:29m'\n",
    "    where headers do not contain coordinates of regions on chromosome (i.e. 'ranges')\n",
    "    :param header: a string from grf output, see above\n",
    "    :return: a list of coordinates from this header ready to be turned into a gff-record\n",
    "    \"\"\"\n",
    "    first_split = header.split(\":\")\n",
    "    record_id = first_split[0][1:]\n",
    "    repeat_len = int(first_split[-1].split(\"m\")[0])\n",
    "    repeat_1_start_in_range = int(first_split[1])\n",
    "    repeat_1_end_in_range = repeat_1_start_in_range + repeat_len\n",
    "    repeat_2_end_in_range = int(first_split[2])\n",
    "    repeat_2_start_in_range = repeat_2_end_in_range - repeat_len\n",
    "    return [record_id, repeat_1_start_in_range, repeat_1_end_in_range, repeat_2_start_in_range, repeat_2_end_in_range,\n",
    "            repeat_len]\n",
    "\n",
    "\n",
    "def make_repeat_df(input_grf, min_len):\n",
    "    # read spacer IDs\n",
    "    with open(input_grf) as f:\n",
    "        repeat_ids = [line.rstrip() for line in f.readlines()]\n",
    "\n",
    "    # read assembly\n",
    "    # assembly = [rec for rec in SeqIO.parse(input_assembly, \"fasta\")]\n",
    "\n",
    "    # make features rows from spacer IDs\n",
    "    gff_rows = [parse_grf_output_no_ranges(line) for line in repeat_ids]\n",
    "    gff_df = pd.DataFrame(columns=[\"record_id\", \"start_1\", \"end_1\", \"start_2\", \"end_2\", \"length\"], data=gff_rows)\n",
    "    gff_df.drop_duplicates(inplace=True)\n",
    "\n",
    "    # filter out too short repeats\n",
    "    gff_df = gff_df[gff_df.length > min_len]\n",
    "\n",
    "    # make a gff object from this filtered data frame\n",
    "    # one SeqRecord with features per record in assembly\n",
    "    # gff_records = [gff_object(gff_df, record) for record in assembly]\n",
    "    return gff_df"
   ]
  },
  {
   "cell_type": "markdown",
   "metadata": {},
   "source": [
    "Inputs on HPZ2"
   ]
  },
  {
   "cell_type": "code",
   "execution_count": null,
   "metadata": {
    "collapsed": false,
    "jupyter": {
     "outputs_hidden": false
    },
    "pycharm": {
     "name": "#%%\n"
    }
   },
   "outputs": [],
   "source": [
    "# add length\n",
    "# there is a copy of the same file on Google Drive\n",
    "perfect_in = \"/home/andrei/Data/HeteroR/results/direct_repeats/DA63186/repeats_no_mismatch/perfect.spacer.id\"\n",
    "imperfect_in = \"/home/andrei/Data/HeteroR/results/direct_repeats/DA63186/repeats_no_mismatch/imperfect.id\"\n",
    "in_assembly = \"/home/andrei/Data/HeteroR/results/assemblies_joined/DA63186/assembly.fasta\""
   ]
  },
  {
   "cell_type": "markdown",
   "metadata": {},
   "source": [
    "Inputs on Mac"
   ]
  },
  {
   "cell_type": "code",
   "execution_count": 2,
   "metadata": {
    "collapsed": false,
    "jupyter": {
     "outputs_hidden": false
    },
    "pycharm": {
     "name": "#%%\n"
    }
   },
   "outputs": [],
   "source": [
    "strains = [\"DA63084\", \"DA63186\", \"DA63322\", \"DA63946\", \"DA64026\"]\n",
    "main_path = \"/Users/andgu885/GoogleDrive/HeteroR/tests/repeat_quantification/%s/perfect.spacer.id\"\n",
    "#perfect_in_lst = [path % strain for strain in strains]\n",
    "#perfect_in_lst\n",
    "#imperfect_in = \"/Users/andgu885/GoogleDrive/HeteroR/tests/DA63186/repeats_no_mismatch/imperfect.id\"\n",
    "#in_assembly = \"/Users/andgu885/GoogleDrive/HeteroR/tests/DA63186/assembly.fasta\""
   ]
  },
  {
   "cell_type": "markdown",
   "metadata": {},
   "source": [
    "## Make a DataFrame with repeats\n",
    "\n",
    "There is no repeated rows (i.e. pair of coordinates) and nothing shorter than `min_len`"
   ]
  },
  {
   "cell_type": "code",
   "execution_count": 3,
   "metadata": {
    "collapsed": false,
    "jupyter": {
     "outputs_hidden": false
    },
    "pycharm": {
     "name": "#%%\n"
    }
   },
   "outputs": [
    {
     "data": {
      "text/html": [
       "<div>\n",
       "<style scoped>\n",
       "    .dataframe tbody tr th:only-of-type {\n",
       "        vertical-align: middle;\n",
       "    }\n",
       "\n",
       "    .dataframe tbody tr th {\n",
       "        vertical-align: top;\n",
       "    }\n",
       "\n",
       "    .dataframe thead th {\n",
       "        text-align: right;\n",
       "    }\n",
       "</style>\n",
       "<table border=\"1\" class=\"dataframe\">\n",
       "  <thead>\n",
       "    <tr style=\"text-align: right;\">\n",
       "      <th></th>\n",
       "      <th>record_id</th>\n",
       "      <th>start_1</th>\n",
       "      <th>end_1</th>\n",
       "      <th>start_2</th>\n",
       "      <th>end_2</th>\n",
       "      <th>length</th>\n",
       "      <th>strain</th>\n",
       "    </tr>\n",
       "  </thead>\n",
       "  <tbody>\n",
       "    <tr>\n",
       "      <th>0</th>\n",
       "      <td>IPFHMEHC_00036_gene</td>\n",
       "      <td>95122</td>\n",
       "      <td>95151</td>\n",
       "      <td>101255</td>\n",
       "      <td>101284</td>\n",
       "      <td>29</td>\n",
       "      <td>DA63084</td>\n",
       "    </tr>\n",
       "    <tr>\n",
       "      <th>1</th>\n",
       "      <td>IPFHMEHC_00036_gene</td>\n",
       "      <td>96581</td>\n",
       "      <td>96683</td>\n",
       "      <td>101273</td>\n",
       "      <td>101375</td>\n",
       "      <td>102</td>\n",
       "      <td>DA63084</td>\n",
       "    </tr>\n",
       "    <tr>\n",
       "      <th>4</th>\n",
       "      <td>IPFHMEHC_00036_gene</td>\n",
       "      <td>41131</td>\n",
       "      <td>41207</td>\n",
       "      <td>41458</td>\n",
       "      <td>41534</td>\n",
       "      <td>76</td>\n",
       "      <td>DA63084</td>\n",
       "    </tr>\n",
       "    <tr>\n",
       "      <th>5</th>\n",
       "      <td>IPFHMEHC_00036_gene</td>\n",
       "      <td>41208</td>\n",
       "      <td>41233</td>\n",
       "      <td>41535</td>\n",
       "      <td>41560</td>\n",
       "      <td>25</td>\n",
       "      <td>DA63084</td>\n",
       "    </tr>\n",
       "    <tr>\n",
       "      <th>6</th>\n",
       "      <td>IPFHMEHC_00036_gene</td>\n",
       "      <td>41249</td>\n",
       "      <td>41375</td>\n",
       "      <td>41576</td>\n",
       "      <td>41702</td>\n",
       "      <td>126</td>\n",
       "      <td>DA63084</td>\n",
       "    </tr>\n",
       "  </tbody>\n",
       "</table>\n",
       "</div>"
      ],
      "text/plain": [
       "             record_id  start_1  end_1  start_2   end_2  length   strain\n",
       "0  IPFHMEHC_00036_gene    95122  95151   101255  101284      29  DA63084\n",
       "1  IPFHMEHC_00036_gene    96581  96683   101273  101375     102  DA63084\n",
       "4  IPFHMEHC_00036_gene    41131  41207    41458   41534      76  DA63084\n",
       "5  IPFHMEHC_00036_gene    41208  41233    41535   41560      25  DA63084\n",
       "6  IPFHMEHC_00036_gene    41249  41375    41576   41702     126  DA63084"
      ]
     },
     "execution_count": 3,
     "metadata": {},
     "output_type": "execute_result"
    }
   ],
   "source": [
    "# cd \"/home/andrei/Data/HeteroR\"\n",
    "df_lst = list()\n",
    "for strain in strains:\n",
    "    file_path = main_path %strain\n",
    "    df = make_repeat_df(input_grf=file_path, min_len=20)\n",
    "    df[\"strain\"] = strain\n",
    "    df_lst.append(df)\n",
    "    \n",
    "repeat_df = pd.concat(df_lst)\n",
    "repeat_df.head()"
   ]
  },
  {
   "cell_type": "code",
   "execution_count": 4,
   "metadata": {},
   "outputs": [
    {
     "data": {
      "text/plain": [
       "5733"
      ]
     },
     "execution_count": 4,
     "metadata": {},
     "output_type": "execute_result"
    }
   ],
   "source": [
    "len(repeat_df)"
   ]
  },
  {
   "cell_type": "code",
   "execution_count": 6,
   "metadata": {},
   "outputs": [],
   "source": [
    "repeat_df.to_csv(\"/Users/andgu885/GoogleDrive/HeteroR/tests/repeat_quantification/repeats_summary_table.csv\")"
   ]
  },
  {
   "cell_type": "code",
   "execution_count": 4,
   "metadata": {},
   "outputs": [
    {
     "data": {
      "text/html": [
       "<div>\n",
       "<style scoped>\n",
       "    .dataframe tbody tr th:only-of-type {\n",
       "        vertical-align: middle;\n",
       "    }\n",
       "\n",
       "    .dataframe tbody tr th {\n",
       "        vertical-align: top;\n",
       "    }\n",
       "\n",
       "    .dataframe thead th {\n",
       "        text-align: right;\n",
       "    }\n",
       "</style>\n",
       "<table border=\"1\" class=\"dataframe\">\n",
       "  <thead>\n",
       "    <tr style=\"text-align: right;\">\n",
       "      <th></th>\n",
       "      <th>record_id</th>\n",
       "      <th>start_1</th>\n",
       "      <th>end_1</th>\n",
       "      <th>start_2</th>\n",
       "      <th>end_2</th>\n",
       "      <th>length</th>\n",
       "      <th>strain</th>\n",
       "    </tr>\n",
       "  </thead>\n",
       "  <tbody>\n",
       "    <tr>\n",
       "      <th>0</th>\n",
       "      <td>IPFHMEHC_00036_gene</td>\n",
       "      <td>95122</td>\n",
       "      <td>95151</td>\n",
       "      <td>101255</td>\n",
       "      <td>101284</td>\n",
       "      <td>29</td>\n",
       "      <td>DA63084</td>\n",
       "    </tr>\n",
       "    <tr>\n",
       "      <th>1</th>\n",
       "      <td>IPFHMEHC_00036_gene</td>\n",
       "      <td>96581</td>\n",
       "      <td>96683</td>\n",
       "      <td>101273</td>\n",
       "      <td>101375</td>\n",
       "      <td>102</td>\n",
       "      <td>DA63084</td>\n",
       "    </tr>\n",
       "    <tr>\n",
       "      <th>4</th>\n",
       "      <td>IPFHMEHC_00036_gene</td>\n",
       "      <td>41131</td>\n",
       "      <td>41207</td>\n",
       "      <td>41458</td>\n",
       "      <td>41534</td>\n",
       "      <td>76</td>\n",
       "      <td>DA63084</td>\n",
       "    </tr>\n",
       "    <tr>\n",
       "      <th>5</th>\n",
       "      <td>IPFHMEHC_00036_gene</td>\n",
       "      <td>41208</td>\n",
       "      <td>41233</td>\n",
       "      <td>41535</td>\n",
       "      <td>41560</td>\n",
       "      <td>25</td>\n",
       "      <td>DA63084</td>\n",
       "    </tr>\n",
       "    <tr>\n",
       "      <th>6</th>\n",
       "      <td>IPFHMEHC_00036_gene</td>\n",
       "      <td>41249</td>\n",
       "      <td>41375</td>\n",
       "      <td>41576</td>\n",
       "      <td>41702</td>\n",
       "      <td>126</td>\n",
       "      <td>DA63084</td>\n",
       "    </tr>\n",
       "    <tr>\n",
       "      <th>...</th>\n",
       "      <td>...</td>\n",
       "      <td>...</td>\n",
       "      <td>...</td>\n",
       "      <td>...</td>\n",
       "      <td>...</td>\n",
       "      <td>...</td>\n",
       "      <td>...</td>\n",
       "    </tr>\n",
       "    <tr>\n",
       "      <th>1414</th>\n",
       "      <td>IPFHMEHC_04309_gene</td>\n",
       "      <td>187019</td>\n",
       "      <td>187048</td>\n",
       "      <td>190205</td>\n",
       "      <td>190234</td>\n",
       "      <td>29</td>\n",
       "      <td>DA63084</td>\n",
       "    </tr>\n",
       "    <tr>\n",
       "      <th>1417</th>\n",
       "      <td>IPFHMEHC_04331_gene</td>\n",
       "      <td>68594</td>\n",
       "      <td>68618</td>\n",
       "      <td>91616</td>\n",
       "      <td>91640</td>\n",
       "      <td>24</td>\n",
       "      <td>DA63084</td>\n",
       "    </tr>\n",
       "    <tr>\n",
       "      <th>1418</th>\n",
       "      <td>IPFHMEHC_04331_gene</td>\n",
       "      <td>150096</td>\n",
       "      <td>150119</td>\n",
       "      <td>153282</td>\n",
       "      <td>153305</td>\n",
       "      <td>23</td>\n",
       "      <td>DA63084</td>\n",
       "    </tr>\n",
       "    <tr>\n",
       "      <th>1420</th>\n",
       "      <td>IPFHMEHC_04331_gene</td>\n",
       "      <td>150492</td>\n",
       "      <td>150521</td>\n",
       "      <td>153678</td>\n",
       "      <td>153707</td>\n",
       "      <td>29</td>\n",
       "      <td>DA63084</td>\n",
       "    </tr>\n",
       "    <tr>\n",
       "      <th>1421</th>\n",
       "      <td>IPFHMEHC_04331_gene</td>\n",
       "      <td>150561</td>\n",
       "      <td>150590</td>\n",
       "      <td>153747</td>\n",
       "      <td>153776</td>\n",
       "      <td>29</td>\n",
       "      <td>DA63084</td>\n",
       "    </tr>\n",
       "  </tbody>\n",
       "</table>\n",
       "<p>1280 rows × 7 columns</p>\n",
       "</div>"
      ],
      "text/plain": [
       "                record_id  start_1   end_1  start_2   end_2  length   strain\n",
       "0     IPFHMEHC_00036_gene    95122   95151   101255  101284      29  DA63084\n",
       "1     IPFHMEHC_00036_gene    96581   96683   101273  101375     102  DA63084\n",
       "4     IPFHMEHC_00036_gene    41131   41207    41458   41534      76  DA63084\n",
       "5     IPFHMEHC_00036_gene    41208   41233    41535   41560      25  DA63084\n",
       "6     IPFHMEHC_00036_gene    41249   41375    41576   41702     126  DA63084\n",
       "...                   ...      ...     ...      ...     ...     ...      ...\n",
       "1414  IPFHMEHC_04309_gene   187019  187048   190205  190234      29  DA63084\n",
       "1417  IPFHMEHC_04331_gene    68594   68618    91616   91640      24  DA63084\n",
       "1418  IPFHMEHC_04331_gene   150096  150119   153282  153305      23  DA63084\n",
       "1420  IPFHMEHC_04331_gene   150492  150521   153678  153707      29  DA63084\n",
       "1421  IPFHMEHC_04331_gene   150561  150590   153747  153776      29  DA63084\n",
       "\n",
       "[1280 rows x 7 columns]"
      ]
     },
     "execution_count": 4,
     "metadata": {},
     "output_type": "execute_result"
    }
   ],
   "source": [
    "repeat_df[repeat_df[\"strain\"]==\"DA63084\"]"
   ]
  },
  {
   "cell_type": "markdown",
   "metadata": {},
   "source": [
    "What I can look at?\n",
    "\n",
    "- lengths distribution \n",
    "   - overall\n",
    "   - per gene \n",
    "- count per gene\n",
    "- distances between repeats"
   ]
  },
  {
   "cell_type": "code",
   "execution_count": 9,
   "metadata": {},
   "outputs": [],
   "source": [
    "import matplotlib.pyplot as plt\n",
    "plt.rcParams[\"figure.figsize\"]=20,10\n"
   ]
  },
  {
   "cell_type": "markdown",
   "metadata": {},
   "source": [
    "##  Number of unique repeats\n",
    "\n",
    "By unique lengths"
   ]
  },
  {
   "cell_type": "code",
   "execution_count": 17,
   "metadata": {},
   "outputs": [
    {
     "data": {
      "text/plain": [
       "154"
      ]
     },
     "execution_count": 17,
     "metadata": {},
     "output_type": "execute_result"
    }
   ],
   "source": [
    "len(set(repeat_df.length))"
   ]
  },
  {
   "cell_type": "markdown",
   "metadata": {},
   "source": [
    "## Repeat length distribution"
   ]
  },
  {
   "cell_type": "code",
   "execution_count": 6,
   "metadata": {},
   "outputs": [
    {
     "data": {
      "image/png": "[encoded data removed]",
      "text/plain": [
       "<Figure size 1440x720 with 1 Axes>"
      ]
     },
     "metadata": {
      "needs_background": "light"
     },
     "output_type": "display_data"
    }
   ],
   "source": [
    "bxplt = repeat_df.boxplot(column='length', by='strain')\n",
    "bxplt.set_yscale('symlog')"
   ]
  },
  {
   "cell_type": "markdown",
   "metadata": {},
   "source": [
    "## Repeat count distribution\n",
    "\n",
    "### Overall"
   ]
  },
  {
   "cell_type": "code",
   "execution_count": 23,
   "metadata": {
    "collapsed": false,
    "jupyter": {
     "outputs_hidden": false
    },
    "pycharm": {
     "name": "#%%\n"
    }
   },
   "outputs": [
    {
     "data": {
      "text/html": [
       "<div>\n",
       "<style scoped>\n",
       "    .dataframe tbody tr th:only-of-type {\n",
       "        vertical-align: middle;\n",
       "    }\n",
       "\n",
       "    .dataframe tbody tr th {\n",
       "        vertical-align: top;\n",
       "    }\n",
       "\n",
       "    .dataframe thead th {\n",
       "        text-align: right;\n",
       "    }\n",
       "</style>\n",
       "<table border=\"1\" class=\"dataframe\">\n",
       "  <thead>\n",
       "    <tr style=\"text-align: right;\">\n",
       "      <th></th>\n",
       "      <th>record_id</th>\n",
       "      <th>strain</th>\n",
       "      <th>n_repeats</th>\n",
       "    </tr>\n",
       "  </thead>\n",
       "  <tbody>\n",
       "    <tr>\n",
       "      <th>0</th>\n",
       "      <td>HCLAOJAB_00148_gene</td>\n",
       "      <td>DA63322</td>\n",
       "      <td>8</td>\n",
       "    </tr>\n",
       "    <tr>\n",
       "      <th>1</th>\n",
       "      <td>HCLAOJAB_00168_gene</td>\n",
       "      <td>DA63322</td>\n",
       "      <td>8</td>\n",
       "    </tr>\n",
       "    <tr>\n",
       "      <th>2</th>\n",
       "      <td>HCLAOJAB_00363_gene</td>\n",
       "      <td>DA63322</td>\n",
       "      <td>22</td>\n",
       "    </tr>\n",
       "    <tr>\n",
       "      <th>3</th>\n",
       "      <td>HCLAOJAB_00364_gene</td>\n",
       "      <td>DA63322</td>\n",
       "      <td>22</td>\n",
       "    </tr>\n",
       "    <tr>\n",
       "      <th>4</th>\n",
       "      <td>HCLAOJAB_00365_gene</td>\n",
       "      <td>DA63322</td>\n",
       "      <td>22</td>\n",
       "    </tr>\n",
       "    <tr>\n",
       "      <th>...</th>\n",
       "      <td>...</td>\n",
       "      <td>...</td>\n",
       "      <td>...</td>\n",
       "    </tr>\n",
       "    <tr>\n",
       "      <th>299</th>\n",
       "      <td>PBKEJGAK_05145_gene</td>\n",
       "      <td>DA64026</td>\n",
       "      <td>28</td>\n",
       "    </tr>\n",
       "    <tr>\n",
       "      <th>300</th>\n",
       "      <td>PBKEJGAK_05146_gene</td>\n",
       "      <td>DA64026</td>\n",
       "      <td>28</td>\n",
       "    </tr>\n",
       "    <tr>\n",
       "      <th>301</th>\n",
       "      <td>PBKEJGAK_05147_gene</td>\n",
       "      <td>DA64026</td>\n",
       "      <td>29</td>\n",
       "    </tr>\n",
       "    <tr>\n",
       "      <th>302</th>\n",
       "      <td>PBKEJGAK_05154_gene</td>\n",
       "      <td>DA64026</td>\n",
       "      <td>29</td>\n",
       "    </tr>\n",
       "    <tr>\n",
       "      <th>303</th>\n",
       "      <td>PBKEJGAK_05158_gene</td>\n",
       "      <td>DA64026</td>\n",
       "      <td>29</td>\n",
       "    </tr>\n",
       "  </tbody>\n",
       "</table>\n",
       "<p>304 rows × 3 columns</p>\n",
       "</div>"
      ],
      "text/plain": [
       "               record_id   strain  n_repeats\n",
       "0    HCLAOJAB_00148_gene  DA63322          8\n",
       "1    HCLAOJAB_00168_gene  DA63322          8\n",
       "2    HCLAOJAB_00363_gene  DA63322         22\n",
       "3    HCLAOJAB_00364_gene  DA63322         22\n",
       "4    HCLAOJAB_00365_gene  DA63322         22\n",
       "..                   ...      ...        ...\n",
       "299  PBKEJGAK_05145_gene  DA64026         28\n",
       "300  PBKEJGAK_05146_gene  DA64026         28\n",
       "301  PBKEJGAK_05147_gene  DA64026         29\n",
       "302  PBKEJGAK_05154_gene  DA64026         29\n",
       "303  PBKEJGAK_05158_gene  DA64026         29\n",
       "\n",
       "[304 rows x 3 columns]"
      ]
     },
     "execution_count": 23,
     "metadata": {},
     "output_type": "execute_result"
    }
   ],
   "source": [
    "repeat_counts = repeat_df.groupby(by=[\"record_id\", \"strain\"]).size()\n",
    "repeat_counts = pd.DataFrame(repeat_counts).reset_index(level=[\"strain\", \"record_id\"])\n",
    "repeat_counts = repeat_counts.rename(columns={0:\"n_repeats\"})\n",
    "#repeat_counts.index = repeat_counts.record_id\n",
    "repeat_counts"
   ]
  },
  {
   "cell_type": "markdown",
   "metadata": {},
   "source": [
    "### Number of genes with repeats in surrounding regions"
   ]
  },
  {
   "cell_type": "code",
   "execution_count": 33,
   "metadata": {},
   "outputs": [
    {
     "data": {
      "text/plain": [
       "strain\n",
       "DA63084    57\n",
       "DA63186    57\n",
       "DA63322    58\n",
       "DA63946    62\n",
       "DA64026    70\n",
       "dtype: int64"
      ]
     },
     "execution_count": 33,
     "metadata": {},
     "output_type": "execute_result"
    }
   ],
   "source": [
    "repeat_counts.groupby(by=[\"strain\"]).size()"
   ]
  },
  {
   "cell_type": "markdown",
   "metadata": {},
   "source": [
    "### Repeat counts around each RG by strain"
   ]
  },
  {
   "cell_type": "code",
   "execution_count": 24,
   "metadata": {},
   "outputs": [
    {
     "data": {
      "text/plain": [
       "<AxesSubplot:xlabel='strain', ylabel='n_repeats'>"
      ]
     },
     "execution_count": 24,
     "metadata": {},
     "output_type": "execute_result"
    },
    {
     "data": {
      "image/png": "[encoded data removed]",
      "text/plain": [
       "<Figure size 1440x720 with 1 Axes>"
      ]
     },
     "metadata": {},
     "output_type": "display_data"
    }
   ],
   "source": [
    "import seaborn as sns \n",
    "\n",
    "sns.boxplot(y=\"n_repeats\", x=\"strain\", data=repeat_counts, palette=\"muted\")"
   ]
  },
  {
   "cell_type": "markdown",
   "metadata": {},
   "source": [
    "## Repeat couts per gene"
   ]
  },
  {
   "cell_type": "code",
   "execution_count": 26,
   "metadata": {},
   "outputs": [
    {
     "data": {
      "image/png": "[encoded data removed]",
      "text/plain": [
       "<Figure size 1440x504 with 1 Axes>"
      ]
     },
     "metadata": {
      "needs_background": "light"
     },
     "output_type": "display_data"
    },
    {
     "data": {
      "image/png": "[encoded data removed]",
      "text/plain": [
       "<Figure size 1440x504 with 1 Axes>"
      ]
     },
     "metadata": {
      "needs_background": "light"
     },
     "output_type": "display_data"
    },
    {
     "data": {
      "image/png": "[encoded data removed]",
      "text/plain": [
       "<Figure size 1440x504 with 1 Axes>"
      ]
     },
     "metadata": {
      "needs_background": "light"
     },
     "output_type": "display_data"
    },
    {
     "data": {
      "image/png": "[encoded data removed]",
      "text/plain": [
       "<Figure size 1440x504 with 1 Axes>"
      ]
     },
     "metadata": {
      "needs_background": "light"
     },
     "output_type": "display_data"
    },
    {
     "data": {
      "image/png": "[encoded data removed]",
      "text/plain": [
       "<Figure size 1440x504 with 1 Axes>"
      ]
     },
     "metadata": {
      "needs_background": "light"
     },
     "output_type": "display_data"
    }
   ],
   "source": [
    "import matplotlib.pyplot as plt\n",
    "plt.rcParams[\"figure.figsize\"]=20,7\n",
    "for strain in strains:\n",
    "    repeat_counts[repeat_counts.strain == strain].plot.bar(x=\"record_id\", y=\"n_repeats\", title=strain)\n"
   ]
  },
  {
   "cell_type": "markdown",
   "metadata": {
    "pycharm": {
     "name": "#%% md\n"
    }
   },
   "source": [
    "## Distances between repeat pairs aka AR length"
   ]
  },
  {
   "cell_type": "code",
   "execution_count": 5,
   "metadata": {
    "collapsed": false,
    "jupyter": {
     "outputs_hidden": false
    },
    "pycharm": {
     "name": "#%%\n"
    }
   },
   "outputs": [
    {
     "data": {
      "text/html": [
       "<div>\n",
       "<style scoped>\n",
       "    .dataframe tbody tr th:only-of-type {\n",
       "        vertical-align: middle;\n",
       "    }\n",
       "\n",
       "    .dataframe tbody tr th {\n",
       "        vertical-align: top;\n",
       "    }\n",
       "\n",
       "    .dataframe thead th {\n",
       "        text-align: right;\n",
       "    }\n",
       "</style>\n",
       "<table border=\"1\" class=\"dataframe\">\n",
       "  <thead>\n",
       "    <tr style=\"text-align: right;\">\n",
       "      <th></th>\n",
       "      <th>record_id</th>\n",
       "      <th>start_1</th>\n",
       "      <th>end_1</th>\n",
       "      <th>start_2</th>\n",
       "      <th>end_2</th>\n",
       "      <th>length</th>\n",
       "      <th>strain</th>\n",
       "      <th>ARL</th>\n",
       "    </tr>\n",
       "  </thead>\n",
       "  <tbody>\n",
       "    <tr>\n",
       "      <th>0</th>\n",
       "      <td>IPFHMEHC_00036_gene</td>\n",
       "      <td>95122</td>\n",
       "      <td>95151</td>\n",
       "      <td>101255</td>\n",
       "      <td>101284</td>\n",
       "      <td>29</td>\n",
       "      <td>DA63084</td>\n",
       "      <td>6104</td>\n",
       "    </tr>\n",
       "    <tr>\n",
       "      <th>1</th>\n",
       "      <td>IPFHMEHC_00036_gene</td>\n",
       "      <td>96581</td>\n",
       "      <td>96683</td>\n",
       "      <td>101273</td>\n",
       "      <td>101375</td>\n",
       "      <td>102</td>\n",
       "      <td>DA63084</td>\n",
       "      <td>4590</td>\n",
       "    </tr>\n",
       "    <tr>\n",
       "      <th>4</th>\n",
       "      <td>IPFHMEHC_00036_gene</td>\n",
       "      <td>41131</td>\n",
       "      <td>41207</td>\n",
       "      <td>41458</td>\n",
       "      <td>41534</td>\n",
       "      <td>76</td>\n",
       "      <td>DA63084</td>\n",
       "      <td>251</td>\n",
       "    </tr>\n",
       "    <tr>\n",
       "      <th>5</th>\n",
       "      <td>IPFHMEHC_00036_gene</td>\n",
       "      <td>41208</td>\n",
       "      <td>41233</td>\n",
       "      <td>41535</td>\n",
       "      <td>41560</td>\n",
       "      <td>25</td>\n",
       "      <td>DA63084</td>\n",
       "      <td>302</td>\n",
       "    </tr>\n",
       "    <tr>\n",
       "      <th>6</th>\n",
       "      <td>IPFHMEHC_00036_gene</td>\n",
       "      <td>41249</td>\n",
       "      <td>41375</td>\n",
       "      <td>41576</td>\n",
       "      <td>41702</td>\n",
       "      <td>126</td>\n",
       "      <td>DA63084</td>\n",
       "      <td>201</td>\n",
       "    </tr>\n",
       "  </tbody>\n",
       "</table>\n",
       "</div>"
      ],
      "text/plain": [
       "             record_id  start_1  end_1  start_2   end_2  length   strain   ARL\n",
       "0  IPFHMEHC_00036_gene    95122  95151   101255  101284      29  DA63084  6104\n",
       "1  IPFHMEHC_00036_gene    96581  96683   101273  101375     102  DA63084  4590\n",
       "4  IPFHMEHC_00036_gene    41131  41207    41458   41534      76  DA63084   251\n",
       "5  IPFHMEHC_00036_gene    41208  41233    41535   41560      25  DA63084   302\n",
       "6  IPFHMEHC_00036_gene    41249  41375    41576   41702     126  DA63084   201"
      ]
     },
     "execution_count": 5,
     "metadata": {},
     "output_type": "execute_result"
    }
   ],
   "source": [
    "repeat_df[\"ARL\"] = repeat_df.start_2 - repeat_df.end_1\n",
    "repeat_df.head()"
   ]
  },
  {
   "cell_type": "code",
   "execution_count": 19,
   "metadata": {},
   "outputs": [
    {
     "data": {
      "text/plain": [
       "<AxesSubplot:xlabel='strain', ylabel='ARL'>"
      ]
     },
     "execution_count": 19,
     "metadata": {},
     "output_type": "execute_result"
    },
    {
     "data": {
      "image/png": "[encoded data removed]",
      "text/plain": [
       "<Figure size 1440x720 with 1 Axes>"
      ]
     },
     "metadata": {},
     "output_type": "display_data"
    }
   ],
   "source": [
    "import matplotlib.pyplot as plt\n",
    "plt.rcParams[\"figure.figsize\"]=20,10\n",
    "\n",
    "#repeat_df.boxplot(column=\"ARL\", by=\"strain\")\n",
    "sns.boxplot(x=\"strain\", y=\"ARL\", data=repeat_df, palette=\"muted\")"
   ]
  },
  {
   "cell_type": "code",
   "execution_count": 15,
   "metadata": {},
   "outputs": [
    {
     "data": {
      "image/png": "[encoded data removed]",
      "text/plain": [
       "<Figure size 1440x720 with 1 Axes>"
      ]
     },
     "metadata": {},
     "output_type": "display_data"
    }
   ],
   "source": [
    "import seaborn as sns\n",
    "sns.set_theme(style=\"whitegrid\")\n",
    "ax = sns.violinplot(x=\"strain\", y=\"ARL\", data=repeat_df, palette=\"muted\", scale=\"count\")"
   ]
  },
  {
   "cell_type": "code",
   "execution_count": 14,
   "metadata": {},
   "outputs": [
    {
     "data": {
      "text/html": [
       "<div>\n",
       "<style scoped>\n",
       "    .dataframe tbody tr th:only-of-type {\n",
       "        vertical-align: middle;\n",
       "    }\n",
       "\n",
       "    .dataframe tbody tr th {\n",
       "        vertical-align: top;\n",
       "    }\n",
       "\n",
       "    .dataframe thead th {\n",
       "        text-align: right;\n",
       "    }\n",
       "</style>\n",
       "<table border=\"1\" class=\"dataframe\">\n",
       "  <thead>\n",
       "    <tr style=\"text-align: right;\">\n",
       "      <th></th>\n",
       "      <th>record_id</th>\n",
       "      <th>start_1</th>\n",
       "      <th>end_1</th>\n",
       "      <th>start_2</th>\n",
       "      <th>end_2</th>\n",
       "      <th>length</th>\n",
       "      <th>strain</th>\n",
       "      <th>ARL</th>\n",
       "    </tr>\n",
       "  </thead>\n",
       "  <tbody>\n",
       "  </tbody>\n",
       "</table>\n",
       "</div>"
      ],
      "text/plain": [
       "Empty DataFrame\n",
       "Columns: [record_id, start_1, end_1, start_2, end_2, length, strain, ARL]\n",
       "Index: []"
      ]
     },
     "execution_count": 14,
     "metadata": {},
     "output_type": "execute_result"
    }
   ],
   "source": [
    "repeat_df[repeat_df.ARL < 0]"
   ]
  },
  {
   "cell_type": "markdown",
   "metadata": {},
   "source": [
    "### How many repeat pairs cross the middle of the range?\n",
    "\n",
    "I need bed file: regions_within.bed\n",
    "there I can find regions around RGs - to find the middle of each region\n",
    "\n",
    "files here:\n",
    "\n",
    "results/direct_repeats/DA*/regions/regions_within.bed\n",
    "\n",
    "bed file structure:\n",
    "\n",
    "chrom start end gene_name score strand\n"
   ]
  },
  {
   "cell_type": "code",
   "execution_count": 30,
   "metadata": {},
   "outputs": [
    {
     "data": {
      "text/html": [
       "<div>\n",
       "<style scoped>\n",
       "    .dataframe tbody tr th:only-of-type {\n",
       "        vertical-align: middle;\n",
       "    }\n",
       "\n",
       "    .dataframe tbody tr th {\n",
       "        vertical-align: top;\n",
       "    }\n",
       "\n",
       "    .dataframe thead th {\n",
       "        text-align: right;\n",
       "    }\n",
       "</style>\n",
       "<table border=\"1\" class=\"dataframe\">\n",
       "  <thead>\n",
       "    <tr style=\"text-align: right;\">\n",
       "      <th></th>\n",
       "      <th>0</th>\n",
       "      <th>1</th>\n",
       "      <th>2</th>\n",
       "      <th>3</th>\n",
       "      <th>4</th>\n",
       "      <th>5</th>\n",
       "    </tr>\n",
       "  </thead>\n",
       "  <tbody>\n",
       "    <tr>\n",
       "      <th>0</th>\n",
       "      <td>1</td>\n",
       "      <td>0</td>\n",
       "      <td>130659</td>\n",
       "      <td>IPFHMEHC_00036_gene</td>\n",
       "      <td>0</td>\n",
       "      <td>-1</td>\n",
       "    </tr>\n",
       "    <tr>\n",
       "      <th>1</th>\n",
       "      <td>1</td>\n",
       "      <td>0</td>\n",
       "      <td>132059</td>\n",
       "      <td>IPFHMEHC_00037_gene</td>\n",
       "      <td>0</td>\n",
       "      <td>-1</td>\n",
       "    </tr>\n",
       "    <tr>\n",
       "      <th>2</th>\n",
       "      <td>1</td>\n",
       "      <td>0</td>\n",
       "      <td>136549</td>\n",
       "      <td>IPFHMEHC_00039_gene</td>\n",
       "      <td>0</td>\n",
       "      <td>-1</td>\n",
       "    </tr>\n",
       "    <tr>\n",
       "      <th>3</th>\n",
       "      <td>1</td>\n",
       "      <td>0</td>\n",
       "      <td>139672</td>\n",
       "      <td>IPFHMEHC_00040_gene</td>\n",
       "      <td>0</td>\n",
       "      <td>-1</td>\n",
       "    </tr>\n",
       "    <tr>\n",
       "      <th>4</th>\n",
       "      <td>1</td>\n",
       "      <td>0</td>\n",
       "      <td>140919</td>\n",
       "      <td>IPFHMEHC_00041_gene</td>\n",
       "      <td>0</td>\n",
       "      <td>-1</td>\n",
       "    </tr>\n",
       "    <tr>\n",
       "      <th>5</th>\n",
       "      <td>1</td>\n",
       "      <td>459709</td>\n",
       "      <td>660076</td>\n",
       "      <td>IPFHMEHC_00543_gene</td>\n",
       "      <td>0</td>\n",
       "      <td>1</td>\n",
       "    </tr>\n",
       "    <tr>\n",
       "      <th>6</th>\n",
       "      <td>1</td>\n",
       "      <td>460061</td>\n",
       "      <td>660392</td>\n",
       "      <td>IPFHMEHC_00544_gene</td>\n",
       "      <td>0</td>\n",
       "      <td>1</td>\n",
       "    </tr>\n",
       "    <tr>\n",
       "      <th>7</th>\n",
       "      <td>1</td>\n",
       "      <td>499035</td>\n",
       "      <td>699420</td>\n",
       "      <td>IPFHMEHC_00583_gene</td>\n",
       "      <td>0</td>\n",
       "      <td>-1</td>\n",
       "    </tr>\n",
       "    <tr>\n",
       "      <th>8</th>\n",
       "      <td>1</td>\n",
       "      <td>499438</td>\n",
       "      <td>699874</td>\n",
       "      <td>IPFHMEHC_00584_gene</td>\n",
       "      <td>0</td>\n",
       "      <td>-1</td>\n",
       "    </tr>\n",
       "    <tr>\n",
       "      <th>9</th>\n",
       "      <td>1</td>\n",
       "      <td>836480</td>\n",
       "      <td>1036895</td>\n",
       "      <td>IPFHMEHC_00902_gene</td>\n",
       "      <td>0</td>\n",
       "      <td>1</td>\n",
       "    </tr>\n",
       "    <tr>\n",
       "      <th>10</th>\n",
       "      <td>1</td>\n",
       "      <td>990037</td>\n",
       "      <td>1191247</td>\n",
       "      <td>IPFHMEHC_01052_gene</td>\n",
       "      <td>0</td>\n",
       "      <td>1</td>\n",
       "    </tr>\n",
       "    <tr>\n",
       "      <th>11</th>\n",
       "      <td>1</td>\n",
       "      <td>999876</td>\n",
       "      <td>1201104</td>\n",
       "      <td>IPFHMEHC_01064_gene</td>\n",
       "      <td>0</td>\n",
       "      <td>1</td>\n",
       "    </tr>\n",
       "    <tr>\n",
       "      <th>12</th>\n",
       "      <td>1</td>\n",
       "      <td>1145981</td>\n",
       "      <td>1347731</td>\n",
       "      <td>IPFHMEHC_01198_gene</td>\n",
       "      <td>0</td>\n",
       "      <td>-1</td>\n",
       "    </tr>\n",
       "    <tr>\n",
       "      <th>13</th>\n",
       "      <td>1</td>\n",
       "      <td>1262810</td>\n",
       "      <td>1464044</td>\n",
       "      <td>IPFHMEHC_01315_gene</td>\n",
       "      <td>0</td>\n",
       "      <td>-1</td>\n",
       "    </tr>\n",
       "    <tr>\n",
       "      <th>14</th>\n",
       "      <td>1</td>\n",
       "      <td>1421012</td>\n",
       "      <td>1621691</td>\n",
       "      <td>IPFHMEHC_01455_gene</td>\n",
       "      <td>0</td>\n",
       "      <td>1</td>\n",
       "    </tr>\n",
       "    <tr>\n",
       "      <th>15</th>\n",
       "      <td>1</td>\n",
       "      <td>1570767</td>\n",
       "      <td>1770924</td>\n",
       "      <td>IPFHMEHC_01592_gene</td>\n",
       "      <td>0</td>\n",
       "      <td>-1</td>\n",
       "    </tr>\n",
       "    <tr>\n",
       "      <th>16</th>\n",
       "      <td>1</td>\n",
       "      <td>1570885</td>\n",
       "      <td>1771102</td>\n",
       "      <td>IPFHMEHC_01593_gene</td>\n",
       "      <td>0</td>\n",
       "      <td>-1</td>\n",
       "    </tr>\n",
       "    <tr>\n",
       "      <th>17</th>\n",
       "      <td>1</td>\n",
       "      <td>1653398</td>\n",
       "      <td>1854047</td>\n",
       "      <td>IPFHMEHC_01671_gene</td>\n",
       "      <td>0</td>\n",
       "      <td>-1</td>\n",
       "    </tr>\n",
       "    <tr>\n",
       "      <th>18</th>\n",
       "      <td>1</td>\n",
       "      <td>1654187</td>\n",
       "      <td>1855382</td>\n",
       "      <td>IPFHMEHC_01672_gene</td>\n",
       "      <td>0</td>\n",
       "      <td>1</td>\n",
       "    </tr>\n",
       "    <tr>\n",
       "      <th>19</th>\n",
       "      <td>1</td>\n",
       "      <td>1655403</td>\n",
       "      <td>1858554</td>\n",
       "      <td>IPFHMEHC_01673_gene</td>\n",
       "      <td>0</td>\n",
       "      <td>1</td>\n",
       "    </tr>\n",
       "    <tr>\n",
       "      <th>20</th>\n",
       "      <td>1</td>\n",
       "      <td>1745740</td>\n",
       "      <td>1946899</td>\n",
       "      <td>IPFHMEHC_01760_gene</td>\n",
       "      <td>0</td>\n",
       "      <td>1</td>\n",
       "    </tr>\n",
       "    <tr>\n",
       "      <th>21</th>\n",
       "      <td>1</td>\n",
       "      <td>2074317</td>\n",
       "      <td>2276085</td>\n",
       "      <td>IPFHMEHC_02050_gene</td>\n",
       "      <td>0</td>\n",
       "      <td>-1</td>\n",
       "    </tr>\n",
       "    <tr>\n",
       "      <th>22</th>\n",
       "      <td>1</td>\n",
       "      <td>2115718</td>\n",
       "      <td>2316310</td>\n",
       "      <td>IPFHMEHC_02083_gene</td>\n",
       "      <td>0</td>\n",
       "      <td>-1</td>\n",
       "    </tr>\n",
       "    <tr>\n",
       "      <th>23</th>\n",
       "      <td>1</td>\n",
       "      <td>2239354</td>\n",
       "      <td>2440588</td>\n",
       "      <td>IPFHMEHC_02196_gene</td>\n",
       "      <td>0</td>\n",
       "      <td>1</td>\n",
       "    </tr>\n",
       "    <tr>\n",
       "      <th>24</th>\n",
       "      <td>1</td>\n",
       "      <td>2403377</td>\n",
       "      <td>2604512</td>\n",
       "      <td>IPFHMEHC_02352_gene</td>\n",
       "      <td>0</td>\n",
       "      <td>1</td>\n",
       "    </tr>\n",
       "    <tr>\n",
       "      <th>25</th>\n",
       "      <td>1</td>\n",
       "      <td>2448006</td>\n",
       "      <td>2649651</td>\n",
       "      <td>IPFHMEHC_02391_gene</td>\n",
       "      <td>0</td>\n",
       "      <td>1</td>\n",
       "    </tr>\n",
       "    <tr>\n",
       "      <th>26</th>\n",
       "      <td>1</td>\n",
       "      <td>2472372</td>\n",
       "      <td>2673405</td>\n",
       "      <td>IPFHMEHC_02418_gene</td>\n",
       "      <td>0</td>\n",
       "      <td>1</td>\n",
       "    </tr>\n",
       "    <tr>\n",
       "      <th>27</th>\n",
       "      <td>1</td>\n",
       "      <td>2473403</td>\n",
       "      <td>2675456</td>\n",
       "      <td>IPFHMEHC_02419_gene</td>\n",
       "      <td>0</td>\n",
       "      <td>1</td>\n",
       "    </tr>\n",
       "    <tr>\n",
       "      <th>28</th>\n",
       "      <td>1</td>\n",
       "      <td>2475451</td>\n",
       "      <td>2676919</td>\n",
       "      <td>IPFHMEHC_02420_gene</td>\n",
       "      <td>0</td>\n",
       "      <td>1</td>\n",
       "    </tr>\n",
       "    <tr>\n",
       "      <th>29</th>\n",
       "      <td>1</td>\n",
       "      <td>2497982</td>\n",
       "      <td>2698448</td>\n",
       "      <td>IPFHMEHC_02438_gene</td>\n",
       "      <td>0</td>\n",
       "      <td>-1</td>\n",
       "    </tr>\n",
       "    <tr>\n",
       "      <th>30</th>\n",
       "      <td>1</td>\n",
       "      <td>2498532</td>\n",
       "      <td>2698857</td>\n",
       "      <td>IPFHMEHC_02439_gene</td>\n",
       "      <td>0</td>\n",
       "      <td>1</td>\n",
       "    </tr>\n",
       "    <tr>\n",
       "      <th>31</th>\n",
       "      <td>1</td>\n",
       "      <td>2600853</td>\n",
       "      <td>2802039</td>\n",
       "      <td>IPFHMEHC_02527_gene</td>\n",
       "      <td>0</td>\n",
       "      <td>-1</td>\n",
       "    </tr>\n",
       "    <tr>\n",
       "      <th>32</th>\n",
       "      <td>1</td>\n",
       "      <td>2713650</td>\n",
       "      <td>2915025</td>\n",
       "      <td>IPFHMEHC_02636_gene</td>\n",
       "      <td>0</td>\n",
       "      <td>1</td>\n",
       "    </tr>\n",
       "    <tr>\n",
       "      <th>33</th>\n",
       "      <td>1</td>\n",
       "      <td>3165856</td>\n",
       "      <td>3366682</td>\n",
       "      <td>IPFHMEHC_03044_gene</td>\n",
       "      <td>0</td>\n",
       "      <td>1</td>\n",
       "    </tr>\n",
       "    <tr>\n",
       "      <th>34</th>\n",
       "      <td>1</td>\n",
       "      <td>3168139</td>\n",
       "      <td>3371254</td>\n",
       "      <td>IPFHMEHC_03047_gene</td>\n",
       "      <td>0</td>\n",
       "      <td>-1</td>\n",
       "    </tr>\n",
       "    <tr>\n",
       "      <th>35</th>\n",
       "      <td>1</td>\n",
       "      <td>3171277</td>\n",
       "      <td>3372436</td>\n",
       "      <td>IPFHMEHC_03048_gene</td>\n",
       "      <td>0</td>\n",
       "      <td>-1</td>\n",
       "    </tr>\n",
       "    <tr>\n",
       "      <th>36</th>\n",
       "      <td>1</td>\n",
       "      <td>3342827</td>\n",
       "      <td>3543461</td>\n",
       "      <td>IPFHMEHC_03209_gene</td>\n",
       "      <td>0</td>\n",
       "      <td>-1</td>\n",
       "    </tr>\n",
       "    <tr>\n",
       "      <th>37</th>\n",
       "      <td>1</td>\n",
       "      <td>3358250</td>\n",
       "      <td>3559436</td>\n",
       "      <td>IPFHMEHC_03228_gene</td>\n",
       "      <td>0</td>\n",
       "      <td>1</td>\n",
       "    </tr>\n",
       "    <tr>\n",
       "      <th>38</th>\n",
       "      <td>1</td>\n",
       "      <td>3396346</td>\n",
       "      <td>3599041</td>\n",
       "      <td>IPFHMEHC_03285_gene</td>\n",
       "      <td>0</td>\n",
       "      <td>-1</td>\n",
       "    </tr>\n",
       "    <tr>\n",
       "      <th>39</th>\n",
       "      <td>1</td>\n",
       "      <td>3399127</td>\n",
       "      <td>3599452</td>\n",
       "      <td>IPFHMEHC_03286_gene</td>\n",
       "      <td>0</td>\n",
       "      <td>-1</td>\n",
       "    </tr>\n",
       "    <tr>\n",
       "      <th>40</th>\n",
       "      <td>1</td>\n",
       "      <td>3399462</td>\n",
       "      <td>3600621</td>\n",
       "      <td>IPFHMEHC_03287_gene</td>\n",
       "      <td>0</td>\n",
       "      <td>-1</td>\n",
       "    </tr>\n",
       "    <tr>\n",
       "      <th>41</th>\n",
       "      <td>1</td>\n",
       "      <td>3401018</td>\n",
       "      <td>3601682</td>\n",
       "      <td>IPFHMEHC_03288_gene</td>\n",
       "      <td>0</td>\n",
       "      <td>1</td>\n",
       "    </tr>\n",
       "    <tr>\n",
       "      <th>42</th>\n",
       "      <td>1</td>\n",
       "      <td>3611809</td>\n",
       "      <td>3812632</td>\n",
       "      <td>IPFHMEHC_03486_gene</td>\n",
       "      <td>0</td>\n",
       "      <td>1</td>\n",
       "    </tr>\n",
       "    <tr>\n",
       "      <th>43</th>\n",
       "      <td>1</td>\n",
       "      <td>3634986</td>\n",
       "      <td>3836469</td>\n",
       "      <td>IPFHMEHC_03506_gene</td>\n",
       "      <td>0</td>\n",
       "      <td>-1</td>\n",
       "    </tr>\n",
       "    <tr>\n",
       "      <th>44</th>\n",
       "      <td>1</td>\n",
       "      <td>4029269</td>\n",
       "      <td>4229456</td>\n",
       "      <td>IPFHMEHC_03868_gene</td>\n",
       "      <td>0</td>\n",
       "      <td>1</td>\n",
       "    </tr>\n",
       "    <tr>\n",
       "      <th>45</th>\n",
       "      <td>1</td>\n",
       "      <td>4034261</td>\n",
       "      <td>4235801</td>\n",
       "      <td>IPFHMEHC_03873_gene</td>\n",
       "      <td>0</td>\n",
       "      <td>-1</td>\n",
       "    </tr>\n",
       "    <tr>\n",
       "      <th>46</th>\n",
       "      <td>1</td>\n",
       "      <td>4035816</td>\n",
       "      <td>4236990</td>\n",
       "      <td>IPFHMEHC_03874_gene</td>\n",
       "      <td>0</td>\n",
       "      <td>-1</td>\n",
       "    </tr>\n",
       "    <tr>\n",
       "      <th>47</th>\n",
       "      <td>1</td>\n",
       "      <td>4037115</td>\n",
       "      <td>4237647</td>\n",
       "      <td>IPFHMEHC_03875_gene</td>\n",
       "      <td>0</td>\n",
       "      <td>-1</td>\n",
       "    </tr>\n",
       "    <tr>\n",
       "      <th>48</th>\n",
       "      <td>1</td>\n",
       "      <td>4273878</td>\n",
       "      <td>4476993</td>\n",
       "      <td>IPFHMEHC_04114_gene</td>\n",
       "      <td>0</td>\n",
       "      <td>-1</td>\n",
       "    </tr>\n",
       "    <tr>\n",
       "      <th>49</th>\n",
       "      <td>1</td>\n",
       "      <td>4308109</td>\n",
       "      <td>4509415</td>\n",
       "      <td>IPFHMEHC_04145_gene</td>\n",
       "      <td>0</td>\n",
       "      <td>-1</td>\n",
       "    </tr>\n",
       "    <tr>\n",
       "      <th>50</th>\n",
       "      <td>1</td>\n",
       "      <td>4362954</td>\n",
       "      <td>4566549</td>\n",
       "      <td>IPFHMEHC_04194_gene</td>\n",
       "      <td>0</td>\n",
       "      <td>-1</td>\n",
       "    </tr>\n",
       "    <tr>\n",
       "      <th>51</th>\n",
       "      <td>1</td>\n",
       "      <td>4366552</td>\n",
       "      <td>4567168</td>\n",
       "      <td>IPFHMEHC_04195_gene</td>\n",
       "      <td>0</td>\n",
       "      <td>-1</td>\n",
       "    </tr>\n",
       "    <tr>\n",
       "      <th>52</th>\n",
       "      <td>1</td>\n",
       "      <td>4367582</td>\n",
       "      <td>4568747</td>\n",
       "      <td>IPFHMEHC_04196_gene</td>\n",
       "      <td>0</td>\n",
       "      <td>1</td>\n",
       "    </tr>\n",
       "    <tr>\n",
       "      <th>53</th>\n",
       "      <td>1</td>\n",
       "      <td>4368745</td>\n",
       "      <td>4570285</td>\n",
       "      <td>IPFHMEHC_04197_gene</td>\n",
       "      <td>0</td>\n",
       "      <td>1</td>\n",
       "    </tr>\n",
       "    <tr>\n",
       "      <th>54</th>\n",
       "      <td>1</td>\n",
       "      <td>4472788</td>\n",
       "      <td>4673758</td>\n",
       "      <td>IPFHMEHC_04298_gene</td>\n",
       "      <td>0</td>\n",
       "      <td>-1</td>\n",
       "    </tr>\n",
       "    <tr>\n",
       "      <th>55</th>\n",
       "      <td>1</td>\n",
       "      <td>4484395</td>\n",
       "      <td>4685755</td>\n",
       "      <td>IPFHMEHC_04309_gene</td>\n",
       "      <td>0</td>\n",
       "      <td>1</td>\n",
       "    </tr>\n",
       "    <tr>\n",
       "      <th>56</th>\n",
       "      <td>1</td>\n",
       "      <td>4520853</td>\n",
       "      <td>4722498</td>\n",
       "      <td>IPFHMEHC_04331_gene</td>\n",
       "      <td>0</td>\n",
       "      <td>1</td>\n",
       "    </tr>\n",
       "  </tbody>\n",
       "</table>\n",
       "</div>"
      ],
      "text/plain": [
       "    0        1        2                    3  4  5\n",
       "0   1        0   130659  IPFHMEHC_00036_gene  0 -1\n",
       "1   1        0   132059  IPFHMEHC_00037_gene  0 -1\n",
       "2   1        0   136549  IPFHMEHC_00039_gene  0 -1\n",
       "3   1        0   139672  IPFHMEHC_00040_gene  0 -1\n",
       "4   1        0   140919  IPFHMEHC_00041_gene  0 -1\n",
       "5   1   459709   660076  IPFHMEHC_00543_gene  0  1\n",
       "6   1   460061   660392  IPFHMEHC_00544_gene  0  1\n",
       "7   1   499035   699420  IPFHMEHC_00583_gene  0 -1\n",
       "8   1   499438   699874  IPFHMEHC_00584_gene  0 -1\n",
       "9   1   836480  1036895  IPFHMEHC_00902_gene  0  1\n",
       "10  1   990037  1191247  IPFHMEHC_01052_gene  0  1\n",
       "11  1   999876  1201104  IPFHMEHC_01064_gene  0  1\n",
       "12  1  1145981  1347731  IPFHMEHC_01198_gene  0 -1\n",
       "13  1  1262810  1464044  IPFHMEHC_01315_gene  0 -1\n",
       "14  1  1421012  1621691  IPFHMEHC_01455_gene  0  1\n",
       "15  1  1570767  1770924  IPFHMEHC_01592_gene  0 -1\n",
       "16  1  1570885  1771102  IPFHMEHC_01593_gene  0 -1\n",
       "17  1  1653398  1854047  IPFHMEHC_01671_gene  0 -1\n",
       "18  1  1654187  1855382  IPFHMEHC_01672_gene  0  1\n",
       "19  1  1655403  1858554  IPFHMEHC_01673_gene  0  1\n",
       "20  1  1745740  1946899  IPFHMEHC_01760_gene  0  1\n",
       "21  1  2074317  2276085  IPFHMEHC_02050_gene  0 -1\n",
       "22  1  2115718  2316310  IPFHMEHC_02083_gene  0 -1\n",
       "23  1  2239354  2440588  IPFHMEHC_02196_gene  0  1\n",
       "24  1  2403377  2604512  IPFHMEHC_02352_gene  0  1\n",
       "25  1  2448006  2649651  IPFHMEHC_02391_gene  0  1\n",
       "26  1  2472372  2673405  IPFHMEHC_02418_gene  0  1\n",
       "27  1  2473403  2675456  IPFHMEHC_02419_gene  0  1\n",
       "28  1  2475451  2676919  IPFHMEHC_02420_gene  0  1\n",
       "29  1  2497982  2698448  IPFHMEHC_02438_gene  0 -1\n",
       "30  1  2498532  2698857  IPFHMEHC_02439_gene  0  1\n",
       "31  1  2600853  2802039  IPFHMEHC_02527_gene  0 -1\n",
       "32  1  2713650  2915025  IPFHMEHC_02636_gene  0  1\n",
       "33  1  3165856  3366682  IPFHMEHC_03044_gene  0  1\n",
       "34  1  3168139  3371254  IPFHMEHC_03047_gene  0 -1\n",
       "35  1  3171277  3372436  IPFHMEHC_03048_gene  0 -1\n",
       "36  1  3342827  3543461  IPFHMEHC_03209_gene  0 -1\n",
       "37  1  3358250  3559436  IPFHMEHC_03228_gene  0  1\n",
       "38  1  3396346  3599041  IPFHMEHC_03285_gene  0 -1\n",
       "39  1  3399127  3599452  IPFHMEHC_03286_gene  0 -1\n",
       "40  1  3399462  3600621  IPFHMEHC_03287_gene  0 -1\n",
       "41  1  3401018  3601682  IPFHMEHC_03288_gene  0  1\n",
       "42  1  3611809  3812632  IPFHMEHC_03486_gene  0  1\n",
       "43  1  3634986  3836469  IPFHMEHC_03506_gene  0 -1\n",
       "44  1  4029269  4229456  IPFHMEHC_03868_gene  0  1\n",
       "45  1  4034261  4235801  IPFHMEHC_03873_gene  0 -1\n",
       "46  1  4035816  4236990  IPFHMEHC_03874_gene  0 -1\n",
       "47  1  4037115  4237647  IPFHMEHC_03875_gene  0 -1\n",
       "48  1  4273878  4476993  IPFHMEHC_04114_gene  0 -1\n",
       "49  1  4308109  4509415  IPFHMEHC_04145_gene  0 -1\n",
       "50  1  4362954  4566549  IPFHMEHC_04194_gene  0 -1\n",
       "51  1  4366552  4567168  IPFHMEHC_04195_gene  0 -1\n",
       "52  1  4367582  4568747  IPFHMEHC_04196_gene  0  1\n",
       "53  1  4368745  4570285  IPFHMEHC_04197_gene  0  1\n",
       "54  1  4472788  4673758  IPFHMEHC_04298_gene  0 -1\n",
       "55  1  4484395  4685755  IPFHMEHC_04309_gene  0  1\n",
       "56  1  4520853  4722498  IPFHMEHC_04331_gene  0  1"
      ]
     },
     "execution_count": 30,
     "metadata": {},
     "output_type": "execute_result"
    }
   ],
   "source": [
    "DA63084_bed = pd.read_csv(\"/Users/andgu885/GoogleDrive/HeteroR/tests/repeat_quantification/DA63084/regions_within.bed\", delimiter='\\t', header=None)\n",
    "DA63084_bed"
   ]
  },
  {
   "cell_type": "code",
   "execution_count": 25,
   "metadata": {},
   "outputs": [
    {
     "data": {
      "text/html": [
       "<div>\n",
       "<style scoped>\n",
       "    .dataframe tbody tr th:only-of-type {\n",
       "        vertical-align: middle;\n",
       "    }\n",
       "\n",
       "    .dataframe tbody tr th {\n",
       "        vertical-align: top;\n",
       "    }\n",
       "\n",
       "    .dataframe thead th {\n",
       "        text-align: right;\n",
       "    }\n",
       "</style>\n",
       "<table border=\"1\" class=\"dataframe\">\n",
       "  <thead>\n",
       "    <tr style=\"text-align: right;\">\n",
       "      <th></th>\n",
       "      <th>record_id</th>\n",
       "      <th>start_1</th>\n",
       "      <th>end_1</th>\n",
       "      <th>start_2</th>\n",
       "      <th>end_2</th>\n",
       "      <th>length</th>\n",
       "      <th>strain</th>\n",
       "      <th>ARL</th>\n",
       "    </tr>\n",
       "  </thead>\n",
       "  <tbody>\n",
       "    <tr>\n",
       "      <th>0</th>\n",
       "      <td>IPFHMEHC_00036_gene</td>\n",
       "      <td>95122</td>\n",
       "      <td>95151</td>\n",
       "      <td>101255</td>\n",
       "      <td>101284</td>\n",
       "      <td>29</td>\n",
       "      <td>DA63084</td>\n",
       "      <td>6104</td>\n",
       "    </tr>\n",
       "    <tr>\n",
       "      <th>1</th>\n",
       "      <td>IPFHMEHC_00036_gene</td>\n",
       "      <td>96581</td>\n",
       "      <td>96683</td>\n",
       "      <td>101273</td>\n",
       "      <td>101375</td>\n",
       "      <td>102</td>\n",
       "      <td>DA63084</td>\n",
       "      <td>4590</td>\n",
       "    </tr>\n",
       "    <tr>\n",
       "      <th>4</th>\n",
       "      <td>IPFHMEHC_00036_gene</td>\n",
       "      <td>41131</td>\n",
       "      <td>41207</td>\n",
       "      <td>41458</td>\n",
       "      <td>41534</td>\n",
       "      <td>76</td>\n",
       "      <td>DA63084</td>\n",
       "      <td>251</td>\n",
       "    </tr>\n",
       "    <tr>\n",
       "      <th>5</th>\n",
       "      <td>IPFHMEHC_00036_gene</td>\n",
       "      <td>41208</td>\n",
       "      <td>41233</td>\n",
       "      <td>41535</td>\n",
       "      <td>41560</td>\n",
       "      <td>25</td>\n",
       "      <td>DA63084</td>\n",
       "      <td>302</td>\n",
       "    </tr>\n",
       "    <tr>\n",
       "      <th>6</th>\n",
       "      <td>IPFHMEHC_00036_gene</td>\n",
       "      <td>41249</td>\n",
       "      <td>41375</td>\n",
       "      <td>41576</td>\n",
       "      <td>41702</td>\n",
       "      <td>126</td>\n",
       "      <td>DA63084</td>\n",
       "      <td>201</td>\n",
       "    </tr>\n",
       "    <tr>\n",
       "      <th>...</th>\n",
       "      <td>...</td>\n",
       "      <td>...</td>\n",
       "      <td>...</td>\n",
       "      <td>...</td>\n",
       "      <td>...</td>\n",
       "      <td>...</td>\n",
       "      <td>...</td>\n",
       "      <td>...</td>\n",
       "    </tr>\n",
       "    <tr>\n",
       "      <th>1219</th>\n",
       "      <td>PBKEJGAK_05158_gene</td>\n",
       "      <td>109943</td>\n",
       "      <td>109978</td>\n",
       "      <td>113258</td>\n",
       "      <td>113293</td>\n",
       "      <td>35</td>\n",
       "      <td>DA64026</td>\n",
       "      <td>3280</td>\n",
       "    </tr>\n",
       "    <tr>\n",
       "      <th>1220</th>\n",
       "      <td>PBKEJGAK_05158_gene</td>\n",
       "      <td>109979</td>\n",
       "      <td>110010</td>\n",
       "      <td>113294</td>\n",
       "      <td>113325</td>\n",
       "      <td>31</td>\n",
       "      <td>DA64026</td>\n",
       "      <td>3284</td>\n",
       "    </tr>\n",
       "    <tr>\n",
       "      <th>1221</th>\n",
       "      <td>PBKEJGAK_05158_gene</td>\n",
       "      <td>110011</td>\n",
       "      <td>110098</td>\n",
       "      <td>113326</td>\n",
       "      <td>113413</td>\n",
       "      <td>87</td>\n",
       "      <td>DA64026</td>\n",
       "      <td>3228</td>\n",
       "    </tr>\n",
       "    <tr>\n",
       "      <th>1222</th>\n",
       "      <td>PBKEJGAK_05158_gene</td>\n",
       "      <td>110099</td>\n",
       "      <td>110132</td>\n",
       "      <td>113414</td>\n",
       "      <td>113447</td>\n",
       "      <td>33</td>\n",
       "      <td>DA64026</td>\n",
       "      <td>3282</td>\n",
       "    </tr>\n",
       "    <tr>\n",
       "      <th>1223</th>\n",
       "      <td>PBKEJGAK_05158_gene</td>\n",
       "      <td>40916</td>\n",
       "      <td>41065</td>\n",
       "      <td>41774</td>\n",
       "      <td>41923</td>\n",
       "      <td>149</td>\n",
       "      <td>DA64026</td>\n",
       "      <td>709</td>\n",
       "    </tr>\n",
       "  </tbody>\n",
       "</table>\n",
       "<p>5733 rows × 8 columns</p>\n",
       "</div>"
      ],
      "text/plain": [
       "                record_id  start_1   end_1  start_2   end_2  length   strain  \\\n",
       "0     IPFHMEHC_00036_gene    95122   95151   101255  101284      29  DA63084   \n",
       "1     IPFHMEHC_00036_gene    96581   96683   101273  101375     102  DA63084   \n",
       "4     IPFHMEHC_00036_gene    41131   41207    41458   41534      76  DA63084   \n",
       "5     IPFHMEHC_00036_gene    41208   41233    41535   41560      25  DA63084   \n",
       "6     IPFHMEHC_00036_gene    41249   41375    41576   41702     126  DA63084   \n",
       "...                   ...      ...     ...      ...     ...     ...      ...   \n",
       "1219  PBKEJGAK_05158_gene   109943  109978   113258  113293      35  DA64026   \n",
       "1220  PBKEJGAK_05158_gene   109979  110010   113294  113325      31  DA64026   \n",
       "1221  PBKEJGAK_05158_gene   110011  110098   113326  113413      87  DA64026   \n",
       "1222  PBKEJGAK_05158_gene   110099  110132   113414  113447      33  DA64026   \n",
       "1223  PBKEJGAK_05158_gene    40916   41065    41774   41923     149  DA64026   \n",
       "\n",
       "       ARL  \n",
       "0     6104  \n",
       "1     4590  \n",
       "4      251  \n",
       "5      302  \n",
       "6      201  \n",
       "...    ...  \n",
       "1219  3280  \n",
       "1220  3284  \n",
       "1221  3228  \n",
       "1222  3282  \n",
       "1223   709  \n",
       "\n",
       "[5733 rows x 8 columns]"
      ]
     },
     "execution_count": 25,
     "metadata": {},
     "output_type": "execute_result"
    }
   ],
   "source": [
    "repeat_df"
   ]
  },
  {
   "cell_type": "markdown",
   "metadata": {},
   "source": [
    "# Compiling THE BIG FEATURES TABLE\n",
    "\n",
    "that should contain all features like (all for a given AB)\n",
    "\n",
    "| Strain   | N repeats | Median repeat length | Longest repeat length | Nearest distance to oriC | Median distance to oriC | Perfect match concentration | Number of RG on plasmids | AR min length | AR median length |...\n",
    "|----------|-----------|----------------------|-----------------------|--------------------------|-------------------------|-----------------------------|--------------------------|---------------|------------------|---\n",
    "| DA000000 | 500       |      200             |        5000           |          25000           |       40000             |            0.76             |          5               |     3000      |     15000        |...\n",
    "\n",
    "\n",
    "Features:\n",
    "\n",
    " - number of RG\n",
    " - number of RG on plasmids\n",
    " - nearest distance to oriC\n",
    " - median distance to oriC\n",
    " - total number of repeats\n",
    " - median number of repeats\n",
    " - median repeat length\n",
    " - longest repeat length\n",
    " - match concetration (=number of mismatches)\n",
    " - amplifiable region (AR) min length\n",
    " - AR median length\n",
    " - BLACK BOX\n",
    " "
   ]
  },
  {
   "cell_type": "code",
   "execution_count": 35,
   "metadata": {},
   "outputs": [
    {
     "data": {
      "text/html": [
       "<div>\n",
       "<style scoped>\n",
       "    .dataframe tbody tr th:only-of-type {\n",
       "        vertical-align: middle;\n",
       "    }\n",
       "\n",
       "    .dataframe tbody tr th {\n",
       "        vertical-align: top;\n",
       "    }\n",
       "\n",
       "    .dataframe thead th {\n",
       "        text-align: right;\n",
       "    }\n",
       "</style>\n",
       "<table border=\"1\" class=\"dataframe\">\n",
       "  <thead>\n",
       "    <tr style=\"text-align: right;\">\n",
       "      <th></th>\n",
       "      <th>record_id</th>\n",
       "      <th>strain</th>\n",
       "      <th>n_repeats</th>\n",
       "    </tr>\n",
       "  </thead>\n",
       "  <tbody>\n",
       "    <tr>\n",
       "      <th>0</th>\n",
       "      <td>HCLAOJAB_00148_gene</td>\n",
       "      <td>DA63322</td>\n",
       "      <td>8</td>\n",
       "    </tr>\n",
       "    <tr>\n",
       "      <th>1</th>\n",
       "      <td>HCLAOJAB_00168_gene</td>\n",
       "      <td>DA63322</td>\n",
       "      <td>8</td>\n",
       "    </tr>\n",
       "    <tr>\n",
       "      <th>2</th>\n",
       "      <td>HCLAOJAB_00363_gene</td>\n",
       "      <td>DA63322</td>\n",
       "      <td>22</td>\n",
       "    </tr>\n",
       "    <tr>\n",
       "      <th>3</th>\n",
       "      <td>HCLAOJAB_00364_gene</td>\n",
       "      <td>DA63322</td>\n",
       "      <td>22</td>\n",
       "    </tr>\n",
       "    <tr>\n",
       "      <th>4</th>\n",
       "      <td>HCLAOJAB_00365_gene</td>\n",
       "      <td>DA63322</td>\n",
       "      <td>22</td>\n",
       "    </tr>\n",
       "    <tr>\n",
       "      <th>...</th>\n",
       "      <td>...</td>\n",
       "      <td>...</td>\n",
       "      <td>...</td>\n",
       "    </tr>\n",
       "    <tr>\n",
       "      <th>299</th>\n",
       "      <td>PBKEJGAK_05145_gene</td>\n",
       "      <td>DA64026</td>\n",
       "      <td>28</td>\n",
       "    </tr>\n",
       "    <tr>\n",
       "      <th>300</th>\n",
       "      <td>PBKEJGAK_05146_gene</td>\n",
       "      <td>DA64026</td>\n",
       "      <td>28</td>\n",
       "    </tr>\n",
       "    <tr>\n",
       "      <th>301</th>\n",
       "      <td>PBKEJGAK_05147_gene</td>\n",
       "      <td>DA64026</td>\n",
       "      <td>29</td>\n",
       "    </tr>\n",
       "    <tr>\n",
       "      <th>302</th>\n",
       "      <td>PBKEJGAK_05154_gene</td>\n",
       "      <td>DA64026</td>\n",
       "      <td>29</td>\n",
       "    </tr>\n",
       "    <tr>\n",
       "      <th>303</th>\n",
       "      <td>PBKEJGAK_05158_gene</td>\n",
       "      <td>DA64026</td>\n",
       "      <td>29</td>\n",
       "    </tr>\n",
       "  </tbody>\n",
       "</table>\n",
       "<p>304 rows × 3 columns</p>\n",
       "</div>"
      ],
      "text/plain": [
       "               record_id   strain  n_repeats\n",
       "0    HCLAOJAB_00148_gene  DA63322          8\n",
       "1    HCLAOJAB_00168_gene  DA63322          8\n",
       "2    HCLAOJAB_00363_gene  DA63322         22\n",
       "3    HCLAOJAB_00364_gene  DA63322         22\n",
       "4    HCLAOJAB_00365_gene  DA63322         22\n",
       "..                   ...      ...        ...\n",
       "299  PBKEJGAK_05145_gene  DA64026         28\n",
       "300  PBKEJGAK_05146_gene  DA64026         28\n",
       "301  PBKEJGAK_05147_gene  DA64026         29\n",
       "302  PBKEJGAK_05154_gene  DA64026         29\n",
       "303  PBKEJGAK_05158_gene  DA64026         29\n",
       "\n",
       "[304 rows x 3 columns]"
      ]
     },
     "execution_count": 35,
     "metadata": {},
     "output_type": "execute_result"
    }
   ],
   "source": [
    "repeat_counts"
   ]
  }
 ],
 "metadata": {
  "kernelspec": {
   "display_name": "Python 3 (ipykernel)",
   "language": "python",
   "name": "python3"
  },
  "language_info": {
   "codemirror_mode": {
    "name": "ipython",
    "version": 3
   },
   "file_extension": ".py",
   "mimetype": "text/x-python",
   "name": "python",
   "nbconvert_exporter": "python",
   "pygments_lexer": "ipython3",
   "version": "3.10.0"
  }
 },
 "nbformat": 4,
 "nbformat_minor": 4
}
