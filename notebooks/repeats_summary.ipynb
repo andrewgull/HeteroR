{
 "cells": [
  {
   "cell_type": "code",
   "execution_count": 4,
   "outputs": [],
   "source": [
    "import sys\n",
    "sys.path.append(\"/home/andrei/GitProjects/HeteroR/workflow/scripts\")\n",
    "from GRF_parser import parse_spacer"
   ],
   "metadata": {
    "collapsed": false,
    "pycharm": {
     "name": "#%%\n"
    }
   }
  },
  {
   "cell_type": "markdown",
   "source": [
    "# Intro\n"
   ],
   "metadata": {
    "collapsed": false,
    "pycharm": {
     "name": "#%% md\n"
    }
   }
  },
  {
   "cell_type": "code",
   "execution_count": 5,
   "metadata": {
    "collapsed": true
   },
   "outputs": [
    {
     "name": "stdout",
     "output_type": "stream",
     "text": [
      "/home/andrei/Data/HeteroR/results/direct_repeats\n",
      "\u001B[0m\u001B[01;34mDA62886\u001B[0m/  \u001B[01;34mDA63084\u001B[0m/  \u001B[01;34mDA63668\u001B[0m/  \u001B[01;34mDA63726\u001B[0m/  \u001B[01;34mDA63850\u001B[0m/  \u001B[01;34mDA64024\u001B[0m/\r\n",
      "\u001B[01;34mDA63026\u001B[0m/  \u001B[01;34mDA63366\u001B[0m/  \u001B[01;34mDA63702\u001B[0m/  \u001B[01;34mDA63776\u001B[0m/  \u001B[01;34mDA63862\u001B[0m/\r\n"
     ]
    }
   ],
   "source": [
    "%cd \"/home/andrei/Data/HeteroR/results/direct_repeats/\"\n",
    "%ls"
   ]
  },
  {
   "cell_type": "markdown",
   "source": [
    "Now I have some results of repeats analysis in 11 strains.\n",
    "For strain DA62886 GRF found ound 1.4 million repeats with the following settings (minimal repeat length 10 bp, no mismatches):\n",
    "\n",
    "`grf-main -i regions_output.fasta -c 2 -o DA62886_perfect_repeats_GRF_test -t 10 --min_tr 10 -f 1 --max_mismatch\n",
    "0 --seed_mismatch 0 --max_space 204000 --min_space 500`"
   ],
   "metadata": {
    "collapsed": false
   }
  },
  {
   "cell_type": "code",
   "execution_count": 6,
   "outputs": [
    {
     "data": {
      "text/plain": "        record_id  start_1   end_1  start_2   end_2  length   strain\n0               1   123259  123269   323162  323172      10  DA63668\n1               1   124227  124237   322983  322993      10  DA63668\n2               1   124249  124259   322600  322610      10  DA63668\n3               1   124164  124175   322029  322040      11  DA63668\n4               1   125381  125393   323221  323233      12  DA63668\n...           ...      ...     ...      ...     ...     ...      ...\n1556362         9    59429   59440    59970   59981      11  DA64024\n1556363         9    49987   49997    50517   50527      10  DA64024\n1556364         9     1096    1113     1612    1629      17  DA64024\n1556365         9    67459   67469    67974   67984      10  DA64024\n1556366         9    40682   40692    41191   41201      10  DA64024\n\n[16921792 rows x 7 columns]",
      "text/html": "<div>\n<style scoped>\n    .dataframe tbody tr th:only-of-type {\n        vertical-align: middle;\n    }\n\n    .dataframe tbody tr th {\n        vertical-align: top;\n    }\n\n    .dataframe thead th {\n        text-align: right;\n    }\n</style>\n<table border=\"1\" class=\"dataframe\">\n  <thead>\n    <tr style=\"text-align: right;\">\n      <th></th>\n      <th>record_id</th>\n      <th>start_1</th>\n      <th>end_1</th>\n      <th>start_2</th>\n      <th>end_2</th>\n      <th>length</th>\n      <th>strain</th>\n    </tr>\n  </thead>\n  <tbody>\n    <tr>\n      <th>0</th>\n      <td>1</td>\n      <td>123259</td>\n      <td>123269</td>\n      <td>323162</td>\n      <td>323172</td>\n      <td>10</td>\n      <td>DA63668</td>\n    </tr>\n    <tr>\n      <th>1</th>\n      <td>1</td>\n      <td>124227</td>\n      <td>124237</td>\n      <td>322983</td>\n      <td>322993</td>\n      <td>10</td>\n      <td>DA63668</td>\n    </tr>\n    <tr>\n      <th>2</th>\n      <td>1</td>\n      <td>124249</td>\n      <td>124259</td>\n      <td>322600</td>\n      <td>322610</td>\n      <td>10</td>\n      <td>DA63668</td>\n    </tr>\n    <tr>\n      <th>3</th>\n      <td>1</td>\n      <td>124164</td>\n      <td>124175</td>\n      <td>322029</td>\n      <td>322040</td>\n      <td>11</td>\n      <td>DA63668</td>\n    </tr>\n    <tr>\n      <th>4</th>\n      <td>1</td>\n      <td>125381</td>\n      <td>125393</td>\n      <td>323221</td>\n      <td>323233</td>\n      <td>12</td>\n      <td>DA63668</td>\n    </tr>\n    <tr>\n      <th>...</th>\n      <td>...</td>\n      <td>...</td>\n      <td>...</td>\n      <td>...</td>\n      <td>...</td>\n      <td>...</td>\n      <td>...</td>\n    </tr>\n    <tr>\n      <th>1556362</th>\n      <td>9</td>\n      <td>59429</td>\n      <td>59440</td>\n      <td>59970</td>\n      <td>59981</td>\n      <td>11</td>\n      <td>DA64024</td>\n    </tr>\n    <tr>\n      <th>1556363</th>\n      <td>9</td>\n      <td>49987</td>\n      <td>49997</td>\n      <td>50517</td>\n      <td>50527</td>\n      <td>10</td>\n      <td>DA64024</td>\n    </tr>\n    <tr>\n      <th>1556364</th>\n      <td>9</td>\n      <td>1096</td>\n      <td>1113</td>\n      <td>1612</td>\n      <td>1629</td>\n      <td>17</td>\n      <td>DA64024</td>\n    </tr>\n    <tr>\n      <th>1556365</th>\n      <td>9</td>\n      <td>67459</td>\n      <td>67469</td>\n      <td>67974</td>\n      <td>67984</td>\n      <td>10</td>\n      <td>DA64024</td>\n    </tr>\n    <tr>\n      <th>1556366</th>\n      <td>9</td>\n      <td>40682</td>\n      <td>40692</td>\n      <td>41191</td>\n      <td>41201</td>\n      <td>10</td>\n      <td>DA64024</td>\n    </tr>\n  </tbody>\n</table>\n<p>16921792 rows × 7 columns</p>\n</div>"
     },
     "execution_count": 6,
     "metadata": {},
     "output_type": "execute_result"
    }
   ],
   "source": [
    "import glob\n",
    "import pandas as pd\n",
    "\n",
    "\n",
    "def make_repeats_df(spacer_file):\n",
    "    with open(spacer_file) as f:\n",
    "        output_lines = [line.rstrip() for line in f.readlines()]\n",
    "    parsed_lines = [parse_spacer(line) for line in output_lines]\n",
    "    spacer_df = pd.DataFrame(columns=[\"record_id\", \"start_1\", \"end_1\", \"start_2\", \"end_2\", \"length\"], data=parsed_lines)\n",
    "    spacer_df[\"strain\"] = spacer_file.split(\"/\")[0]\n",
    "    return spacer_df\n",
    "\n",
    "\n",
    "# read spacer files and make DF for each\n",
    "grf_results_df =pd.concat([make_repeats_df(file) for file in glob.glob(\"DA*/repeats/perfect.spacer.id\")])\n",
    "\n",
    "grf_results_df"
   ],
   "metadata": {
    "collapsed": false,
    "pycharm": {
     "name": "#%%\n"
    }
   }
  },
  {
   "cell_type": "code",
   "execution_count": 19,
   "outputs": [
    {
     "data": {
      "text/plain": "          counts   strain\nDA63862  1655405  DA63862\nDA63726  1646327  DA63726\nDA63026  1643019  DA63026\nDA64024  1556367  DA64024\nDA63850  1546413  DA63850\nDA63366  1536320  DA63366\nDA63776  1528953  DA63776\nDA63668  1474281  DA63668\nDA63702  1453787  DA63702\nDA63084  1452385  DA63084\nDA62886  1428535  DA62886",
      "text/html": "<div>\n<style scoped>\n    .dataframe tbody tr th:only-of-type {\n        vertical-align: middle;\n    }\n\n    .dataframe tbody tr th {\n        vertical-align: top;\n    }\n\n    .dataframe thead th {\n        text-align: right;\n    }\n</style>\n<table border=\"1\" class=\"dataframe\">\n  <thead>\n    <tr style=\"text-align: right;\">\n      <th></th>\n      <th>counts</th>\n      <th>strain</th>\n    </tr>\n  </thead>\n  <tbody>\n    <tr>\n      <th>DA63862</th>\n      <td>1655405</td>\n      <td>DA63862</td>\n    </tr>\n    <tr>\n      <th>DA63726</th>\n      <td>1646327</td>\n      <td>DA63726</td>\n    </tr>\n    <tr>\n      <th>DA63026</th>\n      <td>1643019</td>\n      <td>DA63026</td>\n    </tr>\n    <tr>\n      <th>DA64024</th>\n      <td>1556367</td>\n      <td>DA64024</td>\n    </tr>\n    <tr>\n      <th>DA63850</th>\n      <td>1546413</td>\n      <td>DA63850</td>\n    </tr>\n    <tr>\n      <th>DA63366</th>\n      <td>1536320</td>\n      <td>DA63366</td>\n    </tr>\n    <tr>\n      <th>DA63776</th>\n      <td>1528953</td>\n      <td>DA63776</td>\n    </tr>\n    <tr>\n      <th>DA63668</th>\n      <td>1474281</td>\n      <td>DA63668</td>\n    </tr>\n    <tr>\n      <th>DA63702</th>\n      <td>1453787</td>\n      <td>DA63702</td>\n    </tr>\n    <tr>\n      <th>DA63084</th>\n      <td>1452385</td>\n      <td>DA63084</td>\n    </tr>\n    <tr>\n      <th>DA62886</th>\n      <td>1428535</td>\n      <td>DA62886</td>\n    </tr>\n  </tbody>\n</table>\n</div>"
     },
     "execution_count": 19,
     "metadata": {},
     "output_type": "execute_result"
    }
   ],
   "source": [
    "nrows_df = pd.DataFrame(grf_results_df[\"strain\"].value_counts())\n",
    "nrows_df = nrows_df.rename(columns={\"strain\": \"counts\"})\n",
    "nrows_df[\"strain\"] = nrows_df.index\n",
    "nrows_df"
   ],
   "metadata": {
    "collapsed": false,
    "pycharm": {
     "name": "#%%\n"
    }
   }
  },
  {
   "cell_type": "markdown",
   "source": [
    "# Number of repeats per strain"
   ],
   "metadata": {
    "collapsed": false,
    "pycharm": {
     "name": "#%% md\n"
    }
   }
  },
  {
   "cell_type": "code",
   "execution_count": 21,
   "outputs": [
    {
     "data": {
      "text/plain": "<AxesSubplot:xlabel='strain', ylabel='counts'>"
     },
     "execution_count": 21,
     "metadata": {},
     "output_type": "execute_result"
    },
    {
     "data": {
      "text/plain": "<Figure size 1152x432 with 1 Axes>",
      "image/png": "[encoded data removed]"
     },
     "metadata": {
      "needs_background": "light"
     },
     "output_type": "display_data"
    }
   ],
   "source": [
    "import matplotlib.pyplot as plt\n",
    "import seaborn as sns\n",
    "%matplotlib inline\n",
    "plt.figure(figsize=(16,6))\n",
    "\n",
    "sns.barplot(x=\"strain\", y=\"counts\", data=nrows_df)\n"
   ],
   "metadata": {
    "collapsed": false,
    "pycharm": {
     "name": "#%%\n"
    }
   }
  },
  {
   "cell_type": "markdown",
   "source": [
    "# Repeat length distribution\n"
   ],
   "metadata": {
    "collapsed": false
   }
  },
  {
   "cell_type": "code",
   "execution_count": 25,
   "outputs": [
    {
     "data": {
      "text/plain": "[None]"
     },
     "execution_count": 25,
     "metadata": {},
     "output_type": "execute_result"
    },
    {
     "data": {
      "text/plain": "<Figure size 1152x432 with 1 Axes>",
      "image/png": "[encoded data removed]"
     },
     "metadata": {
      "needs_background": "light"
     },
     "output_type": "display_data"
    }
   ],
   "source": [
    "plt.figure(figsize=(16, 6))\n",
    "\n",
    "bxplt = sns.boxplot(x=\"strain\", y=\"length\", data=grf_results_df)\n",
    "bxplt.set(yscale=\"log\")\n"
   ],
   "metadata": {
    "collapsed": false,
    "pycharm": {
     "name": "#%%\n"
    }
   }
  }
 ],
 "metadata": {
  "kernelspec": {
   "display_name": "Python 3",
   "language": "python",
   "name": "python3"
  },
  "language_info": {
   "codemirror_mode": {
    "name": "ipython",
    "version": 2
   },
   "file_extension": ".py",
   "mimetype": "text/x-python",
   "name": "python",
   "nbconvert_exporter": "python",
   "pygments_lexer": "ipython2",
   "version": "2.7.6"
  }
 },
 "nbformat": 4,
 "nbformat_minor": 0
}