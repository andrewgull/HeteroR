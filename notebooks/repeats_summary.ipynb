{
 "cells": [
  {
   "cell_type": "code",
   "execution_count": 1,
   "metadata": {
    "collapsed": true
   },
   "outputs": [
    {
     "name": "stdout",
     "output_type": "stream",
     "text": [
      "/home/andrei/Data/HeteroR/test_dir/GRF\n"
     ]
    }
   ],
   "source": [
    "%cd \"/home/andrei/Data/HeteroR/test_dir/GRF\""
   ]
  },
  {
   "cell_type": "markdown",
   "source": [
    "Now I have some results of repeats analysis in DA62886 strain.\n",
    "\n",
    "There are 55 resistance genes and 55 ranges of length 190 kbp to 204 kbp.\n",
    "\n",
    "with the following settings (minimal repeat length 10 bp, no mismatches) GRF has found 1.4 million repeats\n",
    "\n",
    "`grf-main -i regions_output.fasta -c 2 -o DA62886_perfect_repeats_GRF_test -t 10 --min_tr 10 -f 1 --max_mismatch\n",
    "0 --seed_mismatch 0 --max_space 204000 --min_space 500`\n",
    "\n",
    "Distribution of the repeats' lengths:"
   ],
   "metadata": {
    "collapsed": false
   }
  },
  {
   "cell_type": "code",
   "execution_count": 2,
   "outputs": [
    {
     "data": {
      "text/plain": "1456407"
     },
     "execution_count": 2,
     "metadata": {},
     "output_type": "execute_result"
    }
   ],
   "source": [
    "grf_results_file = \"DA62886_perfect_repeats_GRF_test/perfect.spacer.id\"\n",
    "with open(grf_results_file) as f:\n",
    "    output_lines = [line.rstrip() for line in f.readlines()]\n",
    "\n",
    "len(output_lines)"
   ],
   "metadata": {
    "collapsed": false,
    "pycharm": {
     "name": "#%%\n"
    }
   }
  },
  {
   "cell_type": "code",
   "execution_count": 3,
   "outputs": [],
   "source": [
    "repeat_lengths = [int(item.split(\":\")[-1][:-1]) for item in output_lines]"
   ],
   "metadata": {
    "collapsed": false,
    "pycharm": {
     "name": "#%%\n"
    }
   }
  },
  {
   "cell_type": "code",
   "execution_count": 19,
   "outputs": [
    {
     "data": {
      "text/plain": "<Figure size 432x360 with 1 Axes>",
      "image/png": "[encoded data removed]"
     },
     "metadata": {},
     "output_type": "display_data"
    }
   ],
   "source": [
    "import matplotlib.pyplot as plt\n",
    "plt.style.use(\"seaborn\")\n",
    "plt.rcParams[\"figure.figsize\"] = [6,5]\n",
    "plt.hist(repeat_lengths, bins=100)\n",
    "plt.yscale(\"log\")\n",
    "#plt.xscale(\"log\", base=2)\n",
    "plt.grid()\n",
    "\n",
    "plt.show()"
   ],
   "metadata": {
    "collapsed": false,
    "pycharm": {
     "name": "#%%\n"
    }
   }
  },
  {
   "cell_type": "code",
   "execution_count": 38,
   "outputs": [
    {
     "data": {
      "text/plain": "<Figure size 432x360 with 0 Axes>"
     },
     "metadata": {},
     "output_type": "display_data"
    }
   ],
   "source": [
    "import matplotlib\n",
    "matplotlib.use('Agg')\n",
    "plt.savefig(\"/home/andrei/Data/HeteroR/test_dir/GRF/DA62886_repeat_length_histogram.png\")"
   ],
   "metadata": {
    "collapsed": false,
    "pycharm": {
     "name": "#%%\n"
    }
   }
  },
  {
   "cell_type": "code",
   "execution_count": 6,
   "outputs": [
    {
     "data": {
      "text/plain": "<Figure size 432x360 with 1 Axes>",
      "image/png": "[encoded data removed]"
     },
     "metadata": {},
     "output_type": "display_data"
    }
   ],
   "source": [
    "plt_boxplot = plt.boxplot(repeat_lengths)\n",
    "plt.show()"
   ],
   "metadata": {
    "collapsed": false,
    "pycharm": {
     "name": "#%%\n"
    }
   }
  },
  {
   "cell_type": "code",
   "execution_count": 35,
   "outputs": [
    {
     "data": {
      "text/plain": "[10,\n 11,\n 12,\n 13,\n 14,\n 15,\n 16,\n 17,\n 18,\n 19,\n 20,\n 21,\n 22,\n 23,\n 24,\n 25,\n 26,\n 27,\n 28,\n 29,\n 30,\n 31,\n 32,\n 33,\n 34,\n 35,\n 36,\n 37,\n 39,\n 40,\n 41,\n 43,\n 45,\n 47,\n 50,\n 51,\n 56,\n 60,\n 61,\n 68,\n 83,\n 84,\n 94,\n 101,\n 110,\n 129,\n 136,\n 143,\n 152,\n 201,\n 860,\n 1311,\n 3227,\n 5035]"
     },
     "execution_count": 35,
     "metadata": {},
     "output_type": "execute_result"
    }
   ],
   "source": [
    "import pandas as pd\n",
    "\n",
    "repeat_lengths_df = pd.DataFrame({\"n\": repeat_lengths})\n",
    "\n",
    "sorted(repeat_lengths_df[\"n\"].unique())\n"
   ],
   "metadata": {
    "collapsed": false,
    "pycharm": {
     "name": "#%%\n"
    }
   }
  },
  {
   "cell_type": "code",
   "execution_count": null,
   "outputs": [],
   "source": [
    "repeat_lengths_df.groupby(\"m\")\n"
   ],
   "metadata": {
    "collapsed": false,
    "pycharm": {
     "name": "#%%\n"
    }
   }
  }
 ],
 "metadata": {
  "kernelspec": {
   "display_name": "Python 3",
   "language": "python",
   "name": "python3"
  },
  "language_info": {
   "codemirror_mode": {
    "name": "ipython",
    "version": 2
   },
   "file_extension": ".py",
   "mimetype": "text/x-python",
   "name": "python",
   "nbconvert_exporter": "python",
   "pygments_lexer": "ipython2",
   "version": "2.7.6"
  }
 },
 "nbformat": 4,
 "nbformat_minor": 0
}