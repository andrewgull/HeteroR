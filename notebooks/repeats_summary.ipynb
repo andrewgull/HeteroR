{
 "cells": [
  {
   "cell_type": "code",
   "execution_count": 13,
   "outputs": [],
   "source": [
    "import sys\n",
    "sys.path.append(\"/home/andrei/GitProjects/HeteroR/workflow/scripts\")\n",
    "from GRF_parser import parse_spacer\n",
    "import pandas as pd"
   ],
   "metadata": {
    "collapsed": false,
    "pycharm": {
     "name": "#%%\n"
    }
   }
  },
  {
   "cell_type": "markdown",
   "source": [
    "# Intro\n",
    "Here you'll find some summary and plots related to direct repeats found in our strains by GRF\n",
    "\n",
    "Last update:"
   ],
   "metadata": {
    "collapsed": false,
    "pycharm": {
     "name": "#%% md\n"
    }
   }
  },
  {
   "cell_type": "code",
   "execution_count": 14,
   "outputs": [
    {
     "data": {
      "text/plain": "'2021-12-16 14:27:04.982140'"
     },
     "execution_count": 14,
     "metadata": {},
     "output_type": "execute_result"
    }
   ],
   "source": [
    "str(pd.to_datetime('today'))"
   ],
   "metadata": {
    "collapsed": false,
    "pycharm": {
     "name": "#%%\n"
    }
   }
  },
  {
   "cell_type": "markdown",
   "source": [
    "So far 11 strains were processed using GRF. Here they are:"
   ],
   "metadata": {
    "collapsed": false,
    "pycharm": {
     "name": "#%% md\n"
    }
   }
  },
  {
   "cell_type": "code",
   "execution_count": 24,
   "metadata": {
    "collapsed": true
   },
   "outputs": [
    {
     "name": "stdout",
     "output_type": "stream",
     "text": [
      "/home/andrei/Data/HeteroR/results/direct_repeats\n",
      "\u001B[0m\u001B[01;34mDA62886\u001B[0m/  \u001B[01;34mDA63052\u001B[0m/  \u001B[01;34mDA63160\u001B[0m/  \u001B[01;34mDA63362\u001B[0m/  \u001B[01;34mDA63680\u001B[0m/  \u001B[01;34mDA63752\u001B[0m/  \u001B[01;34mDA63876\u001B[0m/  \u001B[01;34mDA63980\u001B[0m/\r\n",
      "\u001B[01;34mDA62892\u001B[0m/  \u001B[01;34mDA63054\u001B[0m/  \u001B[01;34mDA63178\u001B[0m/  \u001B[01;34mDA63366\u001B[0m/  \u001B[01;34mDA63682\u001B[0m/  \u001B[01;34mDA63758\u001B[0m/  \u001B[01;34mDA63882\u001B[0m/  \u001B[01;34mDA63988\u001B[0m/\r\n",
      "\u001B[01;34mDA62902\u001B[0m/  \u001B[01;34mDA63060\u001B[0m/  \u001B[01;34mDA63182\u001B[0m/  \u001B[01;34mDA63368\u001B[0m/  \u001B[01;34mDA63684\u001B[0m/  \u001B[01;34mDA63760\u001B[0m/  \u001B[01;34mDA63884\u001B[0m/  \u001B[01;34mDA64000\u001B[0m/\r\n",
      "\u001B[01;34mDA62918\u001B[0m/  \u001B[01;34mDA63062\u001B[0m/  \u001B[01;34mDA63186\u001B[0m/  \u001B[01;34mDA63382\u001B[0m/  \u001B[01;34mDA63686\u001B[0m/  \u001B[01;34mDA63766\u001B[0m/  \u001B[01;34mDA63888\u001B[0m/  \u001B[01;34mDA64002\u001B[0m/\r\n",
      "\u001B[01;34mDA62920\u001B[0m/  \u001B[01;34mDA63082\u001B[0m/  \u001B[01;34mDA63210\u001B[0m/  \u001B[01;34mDA63570\u001B[0m/  \u001B[01;34mDA63688\u001B[0m/  \u001B[01;34mDA63770\u001B[0m/  \u001B[01;34mDA63890\u001B[0m/  \u001B[01;34mDA64004\u001B[0m/\r\n",
      "\u001B[01;34mDA62942\u001B[0m/  \u001B[01;34mDA63084\u001B[0m/  \u001B[01;34mDA63218\u001B[0m/  \u001B[01;34mDA63594\u001B[0m/  \u001B[01;34mDA63690\u001B[0m/  \u001B[01;34mDA63776\u001B[0m/  \u001B[01;34mDA63900\u001B[0m/  \u001B[01;34mDA64006\u001B[0m/\r\n",
      "\u001B[01;34mDA62944\u001B[0m/  \u001B[01;34mDA63094\u001B[0m/  \u001B[01;34mDA63226\u001B[0m/  \u001B[01;34mDA63596\u001B[0m/  \u001B[01;34mDA63696\u001B[0m/  \u001B[01;34mDA63784\u001B[0m/  \u001B[01;34mDA63914\u001B[0m/  \u001B[01;34mDA64014\u001B[0m/\r\n",
      "\u001B[01;34mDA62946\u001B[0m/  \u001B[01;34mDA63098\u001B[0m/  \u001B[01;34mDA63244\u001B[0m/  \u001B[01;34mDA63608\u001B[0m/  \u001B[01;34mDA63702\u001B[0m/  \u001B[01;34mDA63790\u001B[0m/  \u001B[01;34mDA63916\u001B[0m/  \u001B[01;34mDA64024\u001B[0m/\r\n",
      "\u001B[01;34mDA62954\u001B[0m/  \u001B[01;34mDA63102\u001B[0m/  \u001B[01;34mDA63248\u001B[0m/  \u001B[01;34mDA63626\u001B[0m/  \u001B[01;34mDA63706\u001B[0m/  \u001B[01;34mDA63816\u001B[0m/  \u001B[01;34mDA63918\u001B[0m/  \u001B[01;34mDA64026\u001B[0m/\r\n",
      "\u001B[01;34mDA62958\u001B[0m/  \u001B[01;34mDA63106\u001B[0m/  \u001B[01;34mDA63252\u001B[0m/  \u001B[01;34mDA63640\u001B[0m/  \u001B[01;34mDA63710\u001B[0m/  \u001B[01;34mDA63818\u001B[0m/  \u001B[01;34mDA63926\u001B[0m/  \u001B[01;34mDA64030\u001B[0m/\r\n",
      "\u001B[01;34mDA62978\u001B[0m/  \u001B[01;34mDA63112\u001B[0m/  \u001B[01;34mDA63254\u001B[0m/  \u001B[01;34mDA63642\u001B[0m/  \u001B[01;34mDA63714\u001B[0m/  \u001B[01;34mDA63826\u001B[0m/  \u001B[01;34mDA63940\u001B[0m/  \u001B[01;34mDA64048\u001B[0m/\r\n",
      "\u001B[01;34mDA62998\u001B[0m/  \u001B[01;34mDA63122\u001B[0m/  \u001B[01;34mDA63264\u001B[0m/  \u001B[01;34mDA63644\u001B[0m/  \u001B[01;34mDA63718\u001B[0m/  \u001B[01;34mDA63828\u001B[0m/  \u001B[01;34mDA63942\u001B[0m/  \u001B[01;34mDA64058\u001B[0m/\r\n",
      "\u001B[01;34mDA63002\u001B[0m/  \u001B[01;34mDA63126\u001B[0m/  \u001B[01;34mDA63322\u001B[0m/  \u001B[01;34mDA63648\u001B[0m/  \u001B[01;34mDA63722\u001B[0m/  \u001B[01;34mDA63836\u001B[0m/  \u001B[01;34mDA63946\u001B[0m/  \u001B[01;34mDA64060\u001B[0m/\r\n",
      "\u001B[01;34mDA63004\u001B[0m/  \u001B[01;34mDA63128\u001B[0m/  \u001B[01;34mDA63334\u001B[0m/  \u001B[01;34mDA63656\u001B[0m/  \u001B[01;34mDA63726\u001B[0m/  \u001B[01;34mDA63838\u001B[0m/  \u001B[01;34mDA63950\u001B[0m/\r\n",
      "\u001B[01;34mDA63026\u001B[0m/  \u001B[01;34mDA63138\u001B[0m/  \u001B[01;34mDA63336\u001B[0m/  \u001B[01;34mDA63660\u001B[0m/  \u001B[01;34mDA63728\u001B[0m/  \u001B[01;34mDA63850\u001B[0m/  \u001B[01;34mDA63958\u001B[0m/\r\n",
      "\u001B[01;34mDA63030\u001B[0m/  \u001B[01;34mDA63146\u001B[0m/  \u001B[01;34mDA63340\u001B[0m/  \u001B[01;34mDA63662\u001B[0m/  \u001B[01;34mDA63730\u001B[0m/  \u001B[01;34mDA63854\u001B[0m/  \u001B[01;34mDA63960\u001B[0m/\r\n",
      "\u001B[01;34mDA63040\u001B[0m/  \u001B[01;34mDA63150\u001B[0m/  \u001B[01;34mDA63346\u001B[0m/  \u001B[01;34mDA63668\u001B[0m/  \u001B[01;34mDA63738\u001B[0m/  \u001B[01;34mDA63862\u001B[0m/  \u001B[01;34mDA63964\u001B[0m/\r\n",
      "\u001B[01;34mDA63044\u001B[0m/  \u001B[01;34mDA63152\u001B[0m/  \u001B[01;34mDA63350\u001B[0m/  \u001B[01;34mDA63672\u001B[0m/  \u001B[01;34mDA63744\u001B[0m/  \u001B[01;34mDA63870\u001B[0m/  \u001B[01;34mDA63968\u001B[0m/\r\n",
      "\u001B[01;34mDA63046\u001B[0m/  \u001B[01;34mDA63158\u001B[0m/  \u001B[01;34mDA63360\u001B[0m/  \u001B[01;34mDA63676\u001B[0m/  \u001B[01;34mDA63746\u001B[0m/  \u001B[01;34mDA63874\u001B[0m/  \u001B[01;34mDA63972\u001B[0m/\r\n"
     ]
    }
   ],
   "source": [
    "%cd \"/home/andrei/Data/HeteroR/results/direct_repeats/\"\n",
    "%ls"
   ]
  },
  {
   "cell_type": "markdown",
   "source": [
    "Now I have some results of repeats analysis in 11 strains.\n",
    "For strain DA62886 GRF found 1.4 million repeats with the following settings (minimal repeat length 10 bp, no mismatches):\n",
    "\n",
    "`grf-main -i regions_output.fasta -c 2 -o DA62886_perfect_repeats_GRF_test -t 10 --min_tr 10 -f 1 --max_mismatch\n",
    "0 --seed_mismatch 0 --max_space 204000 --min_space 500`\n",
    "\n",
    "Some repeats were counted more than once, so duplicates are removed from the table below\n",
    "\n",
    "Results look like this:"
   ],
   "metadata": {
    "collapsed": false
   }
  },
  {
   "cell_type": "code",
   "execution_count": 25,
   "outputs": [
    {
     "data": {
      "text/plain": "        record_id  start_1   end_1  start_2   end_2  length   strain\n0               1   123259  123269   323162  323172      10  DA63668\n1               1   124227  124237   322983  322993      10  DA63668\n2               1   124249  124259   322600  322610      10  DA63668\n3               1   124164  124175   322029  322040      11  DA63668\n4               1   125381  125393   323221  323233      12  DA63668\n...           ...      ...     ...      ...     ...     ...      ...\n1556362         9    59429   59440    59970   59981      11  DA64024\n1556363         9    49987   49997    50517   50527      10  DA64024\n1556364         9     1096    1113     1612    1629      17  DA64024\n1556365         9    67459   67469    67974   67984      10  DA64024\n1556366         9    40682   40692    41191   41201      10  DA64024\n\n[16921792 rows x 7 columns]",
      "text/html": "<div>\n<style scoped>\n    .dataframe tbody tr th:only-of-type {\n        vertical-align: middle;\n    }\n\n    .dataframe tbody tr th {\n        vertical-align: top;\n    }\n\n    .dataframe thead th {\n        text-align: right;\n    }\n</style>\n<table border=\"1\" class=\"dataframe\">\n  <thead>\n    <tr style=\"text-align: right;\">\n      <th></th>\n      <th>record_id</th>\n      <th>start_1</th>\n      <th>end_1</th>\n      <th>start_2</th>\n      <th>end_2</th>\n      <th>length</th>\n      <th>strain</th>\n    </tr>\n  </thead>\n  <tbody>\n    <tr>\n      <th>0</th>\n      <td>1</td>\n      <td>123259</td>\n      <td>123269</td>\n      <td>323162</td>\n      <td>323172</td>\n      <td>10</td>\n      <td>DA63668</td>\n    </tr>\n    <tr>\n      <th>1</th>\n      <td>1</td>\n      <td>124227</td>\n      <td>124237</td>\n      <td>322983</td>\n      <td>322993</td>\n      <td>10</td>\n      <td>DA63668</td>\n    </tr>\n    <tr>\n      <th>2</th>\n      <td>1</td>\n      <td>124249</td>\n      <td>124259</td>\n      <td>322600</td>\n      <td>322610</td>\n      <td>10</td>\n      <td>DA63668</td>\n    </tr>\n    <tr>\n      <th>3</th>\n      <td>1</td>\n      <td>124164</td>\n      <td>124175</td>\n      <td>322029</td>\n      <td>322040</td>\n      <td>11</td>\n      <td>DA63668</td>\n    </tr>\n    <tr>\n      <th>4</th>\n      <td>1</td>\n      <td>125381</td>\n      <td>125393</td>\n      <td>323221</td>\n      <td>323233</td>\n      <td>12</td>\n      <td>DA63668</td>\n    </tr>\n    <tr>\n      <th>...</th>\n      <td>...</td>\n      <td>...</td>\n      <td>...</td>\n      <td>...</td>\n      <td>...</td>\n      <td>...</td>\n      <td>...</td>\n    </tr>\n    <tr>\n      <th>1556362</th>\n      <td>9</td>\n      <td>59429</td>\n      <td>59440</td>\n      <td>59970</td>\n      <td>59981</td>\n      <td>11</td>\n      <td>DA64024</td>\n    </tr>\n    <tr>\n      <th>1556363</th>\n      <td>9</td>\n      <td>49987</td>\n      <td>49997</td>\n      <td>50517</td>\n      <td>50527</td>\n      <td>10</td>\n      <td>DA64024</td>\n    </tr>\n    <tr>\n      <th>1556364</th>\n      <td>9</td>\n      <td>1096</td>\n      <td>1113</td>\n      <td>1612</td>\n      <td>1629</td>\n      <td>17</td>\n      <td>DA64024</td>\n    </tr>\n    <tr>\n      <th>1556365</th>\n      <td>9</td>\n      <td>67459</td>\n      <td>67469</td>\n      <td>67974</td>\n      <td>67984</td>\n      <td>10</td>\n      <td>DA64024</td>\n    </tr>\n    <tr>\n      <th>1556366</th>\n      <td>9</td>\n      <td>40682</td>\n      <td>40692</td>\n      <td>41191</td>\n      <td>41201</td>\n      <td>10</td>\n      <td>DA64024</td>\n    </tr>\n  </tbody>\n</table>\n<p>16921792 rows × 7 columns</p>\n</div>"
     },
     "execution_count": 25,
     "metadata": {},
     "output_type": "execute_result"
    }
   ],
   "source": [
    "import glob\n",
    "\n",
    "def make_repeats_df(spacer_file, strain_index=0):\n",
    "    # remove duplicated rows!\n",
    "    with open(spacer_file) as f:\n",
    "        output_lines = [line.rstrip() for line in f.readlines()]\n",
    "    parsed_lines = [parse_spacer(line) for line in output_lines]\n",
    "    spacer_df = pd.DataFrame(columns=[\"record_id\", \"start_1\", \"end_1\", \"start_2\", \"end_2\", \"length\"], data=parsed_lines)\n",
    "    spacer_df[\"strain\"] = spacer_file.split(\"/\")[strain_index]\n",
    "    return spacer_df\n",
    "\n",
    "\n",
    "# read spacer files and make DF for each\n",
    "grf_results_df =pd.concat([make_repeats_df(file) for file in glob.glob(\"DA*/repeats/perfect.spacer.id\")])\n",
    "\n",
    "grf_results_df"
   ],
   "metadata": {
    "collapsed": false,
    "pycharm": {
     "name": "#%%\n"
    }
   }
  },
  {
   "cell_type": "code",
   "execution_count": 26,
   "outputs": [],
   "source": [
    "grf_results_df.drop_duplicates(inplace=True)"
   ],
   "metadata": {
    "collapsed": false,
    "pycharm": {
     "name": "#%%\n"
    }
   }
  },
  {
   "cell_type": "markdown",
   "source": [
    "# Number of repeats per strain\n",
    "\n",
    "### As a table"
   ],
   "metadata": {
    "collapsed": false,
    "pycharm": {
     "name": "#%% md\n"
    }
   }
  },
  {
   "cell_type": "code",
   "execution_count": 18,
   "outputs": [
    {
     "data": {
      "text/plain": "         counts   strain\nDA63726  689221  DA63726\nDA63026  673534  DA63026\nDA63862  670311  DA63862\nDA63850  630109  DA63850\nDA63366  624716  DA63366\nDA63702  623753  DA63702\nDA64024  613124  DA64024\nDA62886  610817  DA62886\nDA63668  608037  DA63668\nDA63776  604903  DA63776\nDA63084  601705  DA63084",
      "text/html": "<div>\n<style scoped>\n    .dataframe tbody tr th:only-of-type {\n        vertical-align: middle;\n    }\n\n    .dataframe tbody tr th {\n        vertical-align: top;\n    }\n\n    .dataframe thead th {\n        text-align: right;\n    }\n</style>\n<table border=\"1\" class=\"dataframe\">\n  <thead>\n    <tr style=\"text-align: right;\">\n      <th></th>\n      <th>counts</th>\n      <th>strain</th>\n    </tr>\n  </thead>\n  <tbody>\n    <tr>\n      <th>DA63726</th>\n      <td>689221</td>\n      <td>DA63726</td>\n    </tr>\n    <tr>\n      <th>DA63026</th>\n      <td>673534</td>\n      <td>DA63026</td>\n    </tr>\n    <tr>\n      <th>DA63862</th>\n      <td>670311</td>\n      <td>DA63862</td>\n    </tr>\n    <tr>\n      <th>DA63850</th>\n      <td>630109</td>\n      <td>DA63850</td>\n    </tr>\n    <tr>\n      <th>DA63366</th>\n      <td>624716</td>\n      <td>DA63366</td>\n    </tr>\n    <tr>\n      <th>DA63702</th>\n      <td>623753</td>\n      <td>DA63702</td>\n    </tr>\n    <tr>\n      <th>DA64024</th>\n      <td>613124</td>\n      <td>DA64024</td>\n    </tr>\n    <tr>\n      <th>DA62886</th>\n      <td>610817</td>\n      <td>DA62886</td>\n    </tr>\n    <tr>\n      <th>DA63668</th>\n      <td>608037</td>\n      <td>DA63668</td>\n    </tr>\n    <tr>\n      <th>DA63776</th>\n      <td>604903</td>\n      <td>DA63776</td>\n    </tr>\n    <tr>\n      <th>DA63084</th>\n      <td>601705</td>\n      <td>DA63084</td>\n    </tr>\n  </tbody>\n</table>\n</div>"
     },
     "execution_count": 18,
     "metadata": {},
     "output_type": "execute_result"
    }
   ],
   "source": [
    "nrows_df = pd.DataFrame(grf_results_df[\"strain\"].value_counts())\n",
    "nrows_df = nrows_df.rename(columns={\"strain\": \"counts\"})\n",
    "nrows_df[\"strain\"] = nrows_df.index\n",
    "nrows_df"
   ],
   "metadata": {
    "collapsed": false,
    "pycharm": {
     "name": "#%%\n"
    }
   }
  },
  {
   "cell_type": "markdown",
   "source": [
    "### As a barplot"
   ],
   "metadata": {
    "collapsed": false,
    "pycharm": {
     "name": "#%% md\n"
    }
   }
  },
  {
   "cell_type": "code",
   "execution_count": 19,
   "outputs": [
    {
     "data": {
      "text/plain": "<AxesSubplot:xlabel='strain', ylabel='counts'>"
     },
     "execution_count": 19,
     "metadata": {},
     "output_type": "execute_result"
    },
    {
     "data": {
      "text/plain": "<Figure size 1152x432 with 1 Axes>",
      "image/png": "[encoded data removed]"
     },
     "metadata": {
      "needs_background": "light"
     },
     "output_type": "display_data"
    }
   ],
   "source": [
    "import matplotlib.pyplot as plt\n",
    "import seaborn as sns\n",
    "%matplotlib inline\n",
    "plt.figure(figsize=(16,6))\n",
    "\n",
    "sns.barplot(x=\"strain\", y=\"counts\", data=nrows_df)\n"
   ],
   "metadata": {
    "collapsed": false,
    "pycharm": {
     "name": "#%%\n"
    }
   }
  },
  {
   "cell_type": "markdown",
   "source": [
    "# Repeat length distribution\n"
   ],
   "metadata": {
    "collapsed": false
   }
  },
  {
   "cell_type": "code",
   "execution_count": 20,
   "outputs": [
    {
     "data": {
      "text/plain": "[None]"
     },
     "execution_count": 20,
     "metadata": {},
     "output_type": "execute_result"
    },
    {
     "data": {
      "text/plain": "<Figure size 1152x432 with 1 Axes>",
      "image/png": "[encoded data removed]"
     },
     "metadata": {
      "needs_background": "light"
     },
     "output_type": "display_data"
    }
   ],
   "source": [
    "plt.figure(figsize=(16, 6))\n",
    "\n",
    "bxplt = sns.boxplot(x=\"strain\", y=\"length\", data=grf_results_df)\n",
    "bxplt.set(yscale=\"log\")"
   ],
   "metadata": {
    "collapsed": false,
    "pycharm": {
     "name": "#%%\n"
    }
   }
  },
  {
   "cell_type": "markdown",
   "source": [
    "# Test run of GRF for imperfect repeats\n",
    "\n",
    "As it was planned - max mismatch 10%\n",
    "\n",
    "`grf-main -i regions.fasta -c 2 -o out_mismatch10 -t 14 --min_tr 10 -f 1 --max_mismatch 10 --seed_mismatch 0 --max_space 205000 --min_space 500`\n",
    "\n",
    "it gives 1 394 678 lines"
   ],
   "metadata": {
    "collapsed": false
   }
  },
  {
   "cell_type": "code",
   "execution_count": 30,
   "outputs": [
    {
     "data": {
      "text/plain": "        record_id  start_1   end_1  start_2   end_2  length   strain\n0               1   156785  156796   355577  355588      11  DA63366\n1               1   155793  155803   354429  354439      10  DA63366\n2               1   156991  157004   355523  355536      13  DA63366\n3               1   155876  155886   354108  354118      10  DA63366\n4               1   157996  158006   355931  355941      10  DA63366\n...           ...      ...     ...      ...     ...     ...      ...\n1394673         2    86562   86574    87116   87128      12  DA63366\n1394674         2    67576   67587    68111   68122      11  DA63366\n1394675         2    57930   57940    58456   58466      10  DA63366\n1394676         2    90519   90534    91034   91049      15  DA63366\n1394677         2     1104    1115     1615    1626      11  DA63366\n\n[1394678 rows x 7 columns]",
      "text/html": "<div>\n<style scoped>\n    .dataframe tbody tr th:only-of-type {\n        vertical-align: middle;\n    }\n\n    .dataframe tbody tr th {\n        vertical-align: top;\n    }\n\n    .dataframe thead th {\n        text-align: right;\n    }\n</style>\n<table border=\"1\" class=\"dataframe\">\n  <thead>\n    <tr style=\"text-align: right;\">\n      <th></th>\n      <th>record_id</th>\n      <th>start_1</th>\n      <th>end_1</th>\n      <th>start_2</th>\n      <th>end_2</th>\n      <th>length</th>\n      <th>strain</th>\n    </tr>\n  </thead>\n  <tbody>\n    <tr>\n      <th>0</th>\n      <td>1</td>\n      <td>156785</td>\n      <td>156796</td>\n      <td>355577</td>\n      <td>355588</td>\n      <td>11</td>\n      <td>DA63366</td>\n    </tr>\n    <tr>\n      <th>1</th>\n      <td>1</td>\n      <td>155793</td>\n      <td>155803</td>\n      <td>354429</td>\n      <td>354439</td>\n      <td>10</td>\n      <td>DA63366</td>\n    </tr>\n    <tr>\n      <th>2</th>\n      <td>1</td>\n      <td>156991</td>\n      <td>157004</td>\n      <td>355523</td>\n      <td>355536</td>\n      <td>13</td>\n      <td>DA63366</td>\n    </tr>\n    <tr>\n      <th>3</th>\n      <td>1</td>\n      <td>155876</td>\n      <td>155886</td>\n      <td>354108</td>\n      <td>354118</td>\n      <td>10</td>\n      <td>DA63366</td>\n    </tr>\n    <tr>\n      <th>4</th>\n      <td>1</td>\n      <td>157996</td>\n      <td>158006</td>\n      <td>355931</td>\n      <td>355941</td>\n      <td>10</td>\n      <td>DA63366</td>\n    </tr>\n    <tr>\n      <th>...</th>\n      <td>...</td>\n      <td>...</td>\n      <td>...</td>\n      <td>...</td>\n      <td>...</td>\n      <td>...</td>\n      <td>...</td>\n    </tr>\n    <tr>\n      <th>1394673</th>\n      <td>2</td>\n      <td>86562</td>\n      <td>86574</td>\n      <td>87116</td>\n      <td>87128</td>\n      <td>12</td>\n      <td>DA63366</td>\n    </tr>\n    <tr>\n      <th>1394674</th>\n      <td>2</td>\n      <td>67576</td>\n      <td>67587</td>\n      <td>68111</td>\n      <td>68122</td>\n      <td>11</td>\n      <td>DA63366</td>\n    </tr>\n    <tr>\n      <th>1394675</th>\n      <td>2</td>\n      <td>57930</td>\n      <td>57940</td>\n      <td>58456</td>\n      <td>58466</td>\n      <td>10</td>\n      <td>DA63366</td>\n    </tr>\n    <tr>\n      <th>1394676</th>\n      <td>2</td>\n      <td>90519</td>\n      <td>90534</td>\n      <td>91034</td>\n      <td>91049</td>\n      <td>15</td>\n      <td>DA63366</td>\n    </tr>\n    <tr>\n      <th>1394677</th>\n      <td>2</td>\n      <td>1104</td>\n      <td>1115</td>\n      <td>1615</td>\n      <td>1626</td>\n      <td>11</td>\n      <td>DA63366</td>\n    </tr>\n  </tbody>\n</table>\n<p>1394678 rows × 7 columns</p>\n</div>"
     },
     "execution_count": 30,
     "metadata": {},
     "output_type": "execute_result"
    }
   ],
   "source": [
    "mismatch_output = \"/home/andrei/Data/HeteroR/test_dir/GRF/DA63366/out_mismatch10/perfect.spacer.id\"\n",
    "\n",
    "mismatch_df = make_repeats_df(mismatch_output, strain_index=7)\n",
    "\n",
    "mismatch_df"
   ],
   "metadata": {
    "collapsed": false,
    "pycharm": {
     "name": "#%%\n"
    }
   }
  },
  {
   "cell_type": "code",
   "execution_count": 31,
   "outputs": [
    {
     "data": {
      "text/plain": "567249"
     },
     "execution_count": 31,
     "metadata": {},
     "output_type": "execute_result"
    }
   ],
   "source": [
    "mismatch_df.drop_duplicates(inplace=True)\n",
    "len(mismatch_df)"
   ],
   "metadata": {
    "collapsed": false,
    "pycharm": {
     "name": "#%%\n"
    }
   }
  },
  {
   "cell_type": "markdown",
   "source": [
    "a lot less without duplicates"
   ],
   "metadata": {
    "collapsed": false
   }
  },
  {
   "cell_type": "code",
   "execution_count": null,
   "outputs": [
    {
     "data": {
      "text/plain": "<Figure size 1152x432 with 1 Axes>",
      "image/png": "[encoded data removed]"
     },
     "metadata": {
      "needs_background": "light"
     },
     "output_type": "display_data"
    }
   ],
   "source": [
    "plt.figure(figsize=(16, 6))\n",
    "\n",
    "dstrplt = sns.distplot(mismatch_df.length, rug=True, bins=100)\n",
    "dstrplt.set(xscale=\"log\")"
   ],
   "metadata": {
    "collapsed": false,
    "pycharm": {
     "name": "#%%\n"
    }
   }
  }
 ],
 "metadata": {
  "kernelspec": {
   "display_name": "Python 3",
   "language": "python",
   "name": "python3"
  },
  "language_info": {
   "codemirror_mode": {
    "name": "ipython",
    "version": 2
   },
   "file_extension": ".py",
   "mimetype": "text/x-python",
   "name": "python",
   "nbconvert_exporter": "python",
   "pygments_lexer": "ipython2",
   "version": "2.7.6"
  }
 },
 "nbformat": 4,
 "nbformat_minor": 0
}